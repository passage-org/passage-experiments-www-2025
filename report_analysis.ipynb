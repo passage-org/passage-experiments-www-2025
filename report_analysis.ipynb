{
  "cells": [
    {
      "cell_type": "markdown",
      "metadata": {
        "id": "yLVkGn9LAnWX"
      },
      "source": [
        "#Import data"
      ]
    },
    {
      "cell_type": "code",
      "execution_count": null,
      "metadata": {
        "id": "sJHnUKJdtOu0"
      },
      "outputs": [],
      "source": [
        "import pandas as pd\n",
        "import numpy as np\n",
        "import matplotlib.pyplot as plt\n",
        "import seaborn as sns\n",
        "import matplotlib.colors as mcolors"
      ]
    },
    {
      "cell_type": "code",
      "execution_count": null,
      "metadata": {
        "id": "hVVj0zIu79Nt"
      },
      "outputs": [],
      "source": [
        "def ms_to_mn(df,column):\n",
        "  df[\"execution_time(minutes)\"] = (df[column].astype(float))/60000\n",
        "  df = df.drop([column],axis=1)\n",
        "  return df"
      ]
    },
    {
      "cell_type": "code",
      "execution_count": null,
      "metadata": {
        "id": "KnUnTxFiLAPs"
      },
      "outputs": [],
      "source": [
        "mul = pd.read_csv(\"/content/drive/MyDrive/Continuation Queries/muls.csv\")\n",
        "opt = pd.read_csv(\"/content/drive/MyDrive/Continuation Queries/opts.csv\")"
      ]
    },
    {
      "cell_type": "markdown",
      "metadata": {
        "id": "nFGYf40EYbEF"
      },
      "source": [
        "## Clean reported data for 4 approaches:\n",
        "- BG: Blazegraph\n",
        "- JN: Apache Jena\n",
        "- PS: Passage\n",
        "- S: Sage"
      ]
    },
    {
      "cell_type": "code",
      "execution_count": null,
      "metadata": {
        "id": "XxE5ZBWct43O"
      },
      "outputs": [],
      "source": [
        "BG_mul_1 = pd.read_csv(\"/content/drive/MyDrive/Continuation Queries/bg/report-wdbench-multiple-tps-1-cpus.csv\",delimiter=\" \")\n",
        "BG_mul_4 = pd.read_csv(\"/content/drive/MyDrive/Continuation Queries/bg/report-wdbench-multiple-tps-4-cpus.csv\",delimiter=\" \")\n",
        "BG_opt_1 = pd.read_csv(\"/content/drive/MyDrive/Continuation Queries/bg/report-wdbench-opts-1-cpus.csv\",delimiter=\" \")\n",
        "BG_opt_4 = pd.read_csv(\"/content/drive/MyDrive/Continuation Queries/bg/report-wdbench-opts-4-cpus.csv\",delimiter=\" \")"
      ]
    },
    {
      "cell_type": "code",
      "execution_count": null,
      "metadata": {
        "colab": {
          "base_uri": "https://localhost:8080/",
          "height": 241
        },
        "id": "WGzb9nEO5m5D",
        "outputId": "419f6a20-8abb-49a4-9b12-c40fe204e186"
      },
      "outputs": [
        {
          "output_type": "stream",
          "name": "stdout",
          "text": [
            "(294, 5)\n",
            "(264, 7)\n"
          ]
        },
        {
          "output_type": "execute_result",
          "data": {
            "text/plain": [
              "  query_name    run    cpus  execution_time(minutes)  nb_triples\n",
              "0  query_394  run_1  1-cpus                 2.428117           2\n",
              "1  query_394  run_2  1-cpus                 2.290883           2\n",
              "2  query_394  run_3  1-cpus                 2.371583           2\n",
              "3  query_466  run_1  1-cpus                 3.890633           3\n",
              "4  query_466  run_2  1-cpus                 3.422217           3"
            ],
            "text/html": [
              "\n",
              "  <div id=\"df-3ca3464b-8c81-4410-8436-30bd075cfa2e\" class=\"colab-df-container\">\n",
              "    <div>\n",
              "<style scoped>\n",
              "    .dataframe tbody tr th:only-of-type {\n",
              "        vertical-align: middle;\n",
              "    }\n",
              "\n",
              "    .dataframe tbody tr th {\n",
              "        vertical-align: top;\n",
              "    }\n",
              "\n",
              "    .dataframe thead th {\n",
              "        text-align: right;\n",
              "    }\n",
              "</style>\n",
              "<table border=\"1\" class=\"dataframe\">\n",
              "  <thead>\n",
              "    <tr style=\"text-align: right;\">\n",
              "      <th></th>\n",
              "      <th>query_name</th>\n",
              "      <th>run</th>\n",
              "      <th>cpus</th>\n",
              "      <th>execution_time(minutes)</th>\n",
              "      <th>nb_triples</th>\n",
              "    </tr>\n",
              "  </thead>\n",
              "  <tbody>\n",
              "    <tr>\n",
              "      <th>0</th>\n",
              "      <td>query_394</td>\n",
              "      <td>run_1</td>\n",
              "      <td>1-cpus</td>\n",
              "      <td>2.428117</td>\n",
              "      <td>2</td>\n",
              "    </tr>\n",
              "    <tr>\n",
              "      <th>1</th>\n",
              "      <td>query_394</td>\n",
              "      <td>run_2</td>\n",
              "      <td>1-cpus</td>\n",
              "      <td>2.290883</td>\n",
              "      <td>2</td>\n",
              "    </tr>\n",
              "    <tr>\n",
              "      <th>2</th>\n",
              "      <td>query_394</td>\n",
              "      <td>run_3</td>\n",
              "      <td>1-cpus</td>\n",
              "      <td>2.371583</td>\n",
              "      <td>2</td>\n",
              "    </tr>\n",
              "    <tr>\n",
              "      <th>3</th>\n",
              "      <td>query_466</td>\n",
              "      <td>run_1</td>\n",
              "      <td>1-cpus</td>\n",
              "      <td>3.890633</td>\n",
              "      <td>3</td>\n",
              "    </tr>\n",
              "    <tr>\n",
              "      <th>4</th>\n",
              "      <td>query_466</td>\n",
              "      <td>run_2</td>\n",
              "      <td>1-cpus</td>\n",
              "      <td>3.422217</td>\n",
              "      <td>3</td>\n",
              "    </tr>\n",
              "  </tbody>\n",
              "</table>\n",
              "</div>\n",
              "    <div class=\"colab-df-buttons\">\n",
              "\n",
              "  <div class=\"colab-df-container\">\n",
              "    <button class=\"colab-df-convert\" onclick=\"convertToInteractive('df-3ca3464b-8c81-4410-8436-30bd075cfa2e')\"\n",
              "            title=\"Convert this dataframe to an interactive table.\"\n",
              "            style=\"display:none;\">\n",
              "\n",
              "  <svg xmlns=\"http://www.w3.org/2000/svg\" height=\"24px\" viewBox=\"0 -960 960 960\">\n",
              "    <path d=\"M120-120v-720h720v720H120Zm60-500h600v-160H180v160Zm220 220h160v-160H400v160Zm0 220h160v-160H400v160ZM180-400h160v-160H180v160Zm440 0h160v-160H620v160ZM180-180h160v-160H180v160Zm440 0h160v-160H620v160Z\"/>\n",
              "  </svg>\n",
              "    </button>\n",
              "\n",
              "  <style>\n",
              "    .colab-df-container {\n",
              "      display:flex;\n",
              "      gap: 12px;\n",
              "    }\n",
              "\n",
              "    .colab-df-convert {\n",
              "      background-color: #E8F0FE;\n",
              "      border: none;\n",
              "      border-radius: 50%;\n",
              "      cursor: pointer;\n",
              "      display: none;\n",
              "      fill: #1967D2;\n",
              "      height: 32px;\n",
              "      padding: 0 0 0 0;\n",
              "      width: 32px;\n",
              "    }\n",
              "\n",
              "    .colab-df-convert:hover {\n",
              "      background-color: #E2EBFA;\n",
              "      box-shadow: 0px 1px 2px rgba(60, 64, 67, 0.3), 0px 1px 3px 1px rgba(60, 64, 67, 0.15);\n",
              "      fill: #174EA6;\n",
              "    }\n",
              "\n",
              "    .colab-df-buttons div {\n",
              "      margin-bottom: 4px;\n",
              "    }\n",
              "\n",
              "    [theme=dark] .colab-df-convert {\n",
              "      background-color: #3B4455;\n",
              "      fill: #D2E3FC;\n",
              "    }\n",
              "\n",
              "    [theme=dark] .colab-df-convert:hover {\n",
              "      background-color: #434B5C;\n",
              "      box-shadow: 0px 1px 3px 1px rgba(0, 0, 0, 0.15);\n",
              "      filter: drop-shadow(0px 1px 2px rgba(0, 0, 0, 0.3));\n",
              "      fill: #FFFFFF;\n",
              "    }\n",
              "  </style>\n",
              "\n",
              "    <script>\n",
              "      const buttonEl =\n",
              "        document.querySelector('#df-3ca3464b-8c81-4410-8436-30bd075cfa2e button.colab-df-convert');\n",
              "      buttonEl.style.display =\n",
              "        google.colab.kernel.accessAllowed ? 'block' : 'none';\n",
              "\n",
              "      async function convertToInteractive(key) {\n",
              "        const element = document.querySelector('#df-3ca3464b-8c81-4410-8436-30bd075cfa2e');\n",
              "        const dataTable =\n",
              "          await google.colab.kernel.invokeFunction('convertToInteractive',\n",
              "                                                    [key], {});\n",
              "        if (!dataTable) return;\n",
              "\n",
              "        const docLinkHtml = 'Like what you see? Visit the ' +\n",
              "          '<a target=\"_blank\" href=https://colab.research.google.com/notebooks/data_table.ipynb>data table notebook</a>'\n",
              "          + ' to learn more about interactive tables.';\n",
              "        element.innerHTML = '';\n",
              "        dataTable['output_type'] = 'display_data';\n",
              "        await google.colab.output.renderOutput(dataTable, element);\n",
              "        const docLink = document.createElement('div');\n",
              "        docLink.innerHTML = docLinkHtml;\n",
              "        element.appendChild(docLink);\n",
              "      }\n",
              "    </script>\n",
              "  </div>\n",
              "\n",
              "\n",
              "<div id=\"df-5b1b5284-7a19-4566-8068-f3de7feba44f\">\n",
              "  <button class=\"colab-df-quickchart\" onclick=\"quickchart('df-5b1b5284-7a19-4566-8068-f3de7feba44f')\"\n",
              "            title=\"Suggest charts\"\n",
              "            style=\"display:none;\">\n",
              "\n",
              "<svg xmlns=\"http://www.w3.org/2000/svg\" height=\"24px\"viewBox=\"0 0 24 24\"\n",
              "     width=\"24px\">\n",
              "    <g>\n",
              "        <path d=\"M19 3H5c-1.1 0-2 .9-2 2v14c0 1.1.9 2 2 2h14c1.1 0 2-.9 2-2V5c0-1.1-.9-2-2-2zM9 17H7v-7h2v7zm4 0h-2V7h2v10zm4 0h-2v-4h2v4z\"/>\n",
              "    </g>\n",
              "</svg>\n",
              "  </button>\n",
              "\n",
              "<style>\n",
              "  .colab-df-quickchart {\n",
              "      --bg-color: #E8F0FE;\n",
              "      --fill-color: #1967D2;\n",
              "      --hover-bg-color: #E2EBFA;\n",
              "      --hover-fill-color: #174EA6;\n",
              "      --disabled-fill-color: #AAA;\n",
              "      --disabled-bg-color: #DDD;\n",
              "  }\n",
              "\n",
              "  [theme=dark] .colab-df-quickchart {\n",
              "      --bg-color: #3B4455;\n",
              "      --fill-color: #D2E3FC;\n",
              "      --hover-bg-color: #434B5C;\n",
              "      --hover-fill-color: #FFFFFF;\n",
              "      --disabled-bg-color: #3B4455;\n",
              "      --disabled-fill-color: #666;\n",
              "  }\n",
              "\n",
              "  .colab-df-quickchart {\n",
              "    background-color: var(--bg-color);\n",
              "    border: none;\n",
              "    border-radius: 50%;\n",
              "    cursor: pointer;\n",
              "    display: none;\n",
              "    fill: var(--fill-color);\n",
              "    height: 32px;\n",
              "    padding: 0;\n",
              "    width: 32px;\n",
              "  }\n",
              "\n",
              "  .colab-df-quickchart:hover {\n",
              "    background-color: var(--hover-bg-color);\n",
              "    box-shadow: 0 1px 2px rgba(60, 64, 67, 0.3), 0 1px 3px 1px rgba(60, 64, 67, 0.15);\n",
              "    fill: var(--button-hover-fill-color);\n",
              "  }\n",
              "\n",
              "  .colab-df-quickchart-complete:disabled,\n",
              "  .colab-df-quickchart-complete:disabled:hover {\n",
              "    background-color: var(--disabled-bg-color);\n",
              "    fill: var(--disabled-fill-color);\n",
              "    box-shadow: none;\n",
              "  }\n",
              "\n",
              "  .colab-df-spinner {\n",
              "    border: 2px solid var(--fill-color);\n",
              "    border-color: transparent;\n",
              "    border-bottom-color: var(--fill-color);\n",
              "    animation:\n",
              "      spin 1s steps(1) infinite;\n",
              "  }\n",
              "\n",
              "  @keyframes spin {\n",
              "    0% {\n",
              "      border-color: transparent;\n",
              "      border-bottom-color: var(--fill-color);\n",
              "      border-left-color: var(--fill-color);\n",
              "    }\n",
              "    20% {\n",
              "      border-color: transparent;\n",
              "      border-left-color: var(--fill-color);\n",
              "      border-top-color: var(--fill-color);\n",
              "    }\n",
              "    30% {\n",
              "      border-color: transparent;\n",
              "      border-left-color: var(--fill-color);\n",
              "      border-top-color: var(--fill-color);\n",
              "      border-right-color: var(--fill-color);\n",
              "    }\n",
              "    40% {\n",
              "      border-color: transparent;\n",
              "      border-right-color: var(--fill-color);\n",
              "      border-top-color: var(--fill-color);\n",
              "    }\n",
              "    60% {\n",
              "      border-color: transparent;\n",
              "      border-right-color: var(--fill-color);\n",
              "    }\n",
              "    80% {\n",
              "      border-color: transparent;\n",
              "      border-right-color: var(--fill-color);\n",
              "      border-bottom-color: var(--fill-color);\n",
              "    }\n",
              "    90% {\n",
              "      border-color: transparent;\n",
              "      border-bottom-color: var(--fill-color);\n",
              "    }\n",
              "  }\n",
              "</style>\n",
              "\n",
              "  <script>\n",
              "    async function quickchart(key) {\n",
              "      const quickchartButtonEl =\n",
              "        document.querySelector('#' + key + ' button');\n",
              "      quickchartButtonEl.disabled = true;  // To prevent multiple clicks.\n",
              "      quickchartButtonEl.classList.add('colab-df-spinner');\n",
              "      try {\n",
              "        const charts = await google.colab.kernel.invokeFunction(\n",
              "            'suggestCharts', [key], {});\n",
              "      } catch (error) {\n",
              "        console.error('Error during call to suggestCharts:', error);\n",
              "      }\n",
              "      quickchartButtonEl.classList.remove('colab-df-spinner');\n",
              "      quickchartButtonEl.classList.add('colab-df-quickchart-complete');\n",
              "    }\n",
              "    (() => {\n",
              "      let quickchartButtonEl =\n",
              "        document.querySelector('#df-5b1b5284-7a19-4566-8068-f3de7feba44f button');\n",
              "      quickchartButtonEl.style.display =\n",
              "        google.colab.kernel.accessAllowed ? 'block' : 'none';\n",
              "    })();\n",
              "  </script>\n",
              "</div>\n",
              "\n",
              "    </div>\n",
              "  </div>\n"
            ],
            "application/vnd.google.colaboratory.intrinsic+json": {
              "type": "dataframe",
              "variable_name": "BG_mul",
              "summary": "{\n  \"name\": \"BG_mul\",\n  \"rows\": 294,\n  \"fields\": [\n    {\n      \"column\": \"query_name\",\n      \"properties\": {\n        \"dtype\": \"category\",\n        \"num_unique_values\": 49,\n        \"samples\": [\n          \"query_386\",\n          \"query_447\",\n          \"query_425\"\n        ],\n        \"semantic_type\": \"\",\n        \"description\": \"\"\n      }\n    },\n    {\n      \"column\": \"run\",\n      \"properties\": {\n        \"dtype\": \"category\",\n        \"num_unique_values\": 3,\n        \"samples\": [\n          \"run_1\",\n          \"run_2\",\n          \"run_3\"\n        ],\n        \"semantic_type\": \"\",\n        \"description\": \"\"\n      }\n    },\n    {\n      \"column\": \"cpus\",\n      \"properties\": {\n        \"dtype\": \"category\",\n        \"num_unique_values\": 2,\n        \"samples\": [\n          \"4-cpus\",\n          \"1-cpus\"\n        ],\n        \"semantic_type\": \"\",\n        \"description\": \"\"\n      }\n    },\n    {\n      \"column\": \"execution_time(minutes)\",\n      \"properties\": {\n        \"dtype\": \"number\",\n        \"std\": 1.1752328557577456,\n        \"min\": 0.24633333333333332,\n        \"max\": 5.378916666666667,\n        \"num_unique_values\": 294,\n        \"samples\": [\n          4.18915,\n          2.9687666666666668\n        ],\n        \"semantic_type\": \"\",\n        \"description\": \"\"\n      }\n    },\n    {\n      \"column\": \"nb_triples\",\n      \"properties\": {\n        \"dtype\": \"number\",\n        \"std\": 1,\n        \"min\": 2,\n        \"max\": 6,\n        \"num_unique_values\": 5,\n        \"samples\": [\n          3,\n          6\n        ],\n        \"semantic_type\": \"\",\n        \"description\": \"\"\n      }\n    }\n  ]\n}"
            }
          },
          "metadata": {},
          "execution_count": 5
        }
      ],
      "source": [
        "BG_mul = pd.concat([BG_mul_1, BG_mul_4], ignore_index=True)\n",
        "BG_opt = pd.concat([BG_opt_1, BG_opt_4], ignore_index=True)\n",
        "BG_mul = ms_to_mn(BG_mul,\"execution_time(ms)\")\n",
        "BG_opt = ms_to_mn(BG_opt,\"execution_time(ms)\")\n",
        "BG_mul = pd.merge(BG_mul, mul, on=[\"query_name\"], how='inner')\n",
        "BG_opt = pd.merge(BG_opt, opt, on=[\"query_name\"], how='inner')\n",
        "BG_mul = BG_mul.drop(columns = [\"nb_results_x\",\"nb_results_y\"],axis=1)\n",
        "BG_opt = BG_opt.drop(columns = [\"nb_results_x\",\"nb_results_y\"],axis=1)\n",
        "print(BG_mul.shape)\n",
        "print(BG_opt.shape)\n",
        "BG_mul.head()"
      ]
    },
    {
      "cell_type": "code",
      "execution_count": null,
      "metadata": {
        "colab": {
          "base_uri": "https://localhost:8080/",
          "height": 241
        },
        "id": "XeiZ-fRK2a6A",
        "outputId": "50a37c97-f430-4c77-e5fc-7ce12eb1ba65"
      },
      "outputs": [
        {
          "output_type": "stream",
          "name": "stdout",
          "text": [
            "(294, 5)\n",
            "(264, 7)\n"
          ]
        },
        {
          "output_type": "execute_result",
          "data": {
            "text/plain": [
              "  query_name    run    cpus  execution_time(minutes)  nb_triples\n",
              "0  query_394  run_1  1-cpus                 6.473717           2\n",
              "1  query_394  run_2  1-cpus                 6.755767           2\n",
              "2  query_394  run_3  1-cpus                 6.564800           2\n",
              "3  query_466  run_1  1-cpus                 9.122183           3\n",
              "4  query_466  run_2  1-cpus                 8.861267           3"
            ],
            "text/html": [
              "\n",
              "  <div id=\"df-9721f72d-b86f-4aa1-b1da-e8c6e9834889\" class=\"colab-df-container\">\n",
              "    <div>\n",
              "<style scoped>\n",
              "    .dataframe tbody tr th:only-of-type {\n",
              "        vertical-align: middle;\n",
              "    }\n",
              "\n",
              "    .dataframe tbody tr th {\n",
              "        vertical-align: top;\n",
              "    }\n",
              "\n",
              "    .dataframe thead th {\n",
              "        text-align: right;\n",
              "    }\n",
              "</style>\n",
              "<table border=\"1\" class=\"dataframe\">\n",
              "  <thead>\n",
              "    <tr style=\"text-align: right;\">\n",
              "      <th></th>\n",
              "      <th>query_name</th>\n",
              "      <th>run</th>\n",
              "      <th>cpus</th>\n",
              "      <th>execution_time(minutes)</th>\n",
              "      <th>nb_triples</th>\n",
              "    </tr>\n",
              "  </thead>\n",
              "  <tbody>\n",
              "    <tr>\n",
              "      <th>0</th>\n",
              "      <td>query_394</td>\n",
              "      <td>run_1</td>\n",
              "      <td>1-cpus</td>\n",
              "      <td>6.473717</td>\n",
              "      <td>2</td>\n",
              "    </tr>\n",
              "    <tr>\n",
              "      <th>1</th>\n",
              "      <td>query_394</td>\n",
              "      <td>run_2</td>\n",
              "      <td>1-cpus</td>\n",
              "      <td>6.755767</td>\n",
              "      <td>2</td>\n",
              "    </tr>\n",
              "    <tr>\n",
              "      <th>2</th>\n",
              "      <td>query_394</td>\n",
              "      <td>run_3</td>\n",
              "      <td>1-cpus</td>\n",
              "      <td>6.564800</td>\n",
              "      <td>2</td>\n",
              "    </tr>\n",
              "    <tr>\n",
              "      <th>3</th>\n",
              "      <td>query_466</td>\n",
              "      <td>run_1</td>\n",
              "      <td>1-cpus</td>\n",
              "      <td>9.122183</td>\n",
              "      <td>3</td>\n",
              "    </tr>\n",
              "    <tr>\n",
              "      <th>4</th>\n",
              "      <td>query_466</td>\n",
              "      <td>run_2</td>\n",
              "      <td>1-cpus</td>\n",
              "      <td>8.861267</td>\n",
              "      <td>3</td>\n",
              "    </tr>\n",
              "  </tbody>\n",
              "</table>\n",
              "</div>\n",
              "    <div class=\"colab-df-buttons\">\n",
              "\n",
              "  <div class=\"colab-df-container\">\n",
              "    <button class=\"colab-df-convert\" onclick=\"convertToInteractive('df-9721f72d-b86f-4aa1-b1da-e8c6e9834889')\"\n",
              "            title=\"Convert this dataframe to an interactive table.\"\n",
              "            style=\"display:none;\">\n",
              "\n",
              "  <svg xmlns=\"http://www.w3.org/2000/svg\" height=\"24px\" viewBox=\"0 -960 960 960\">\n",
              "    <path d=\"M120-120v-720h720v720H120Zm60-500h600v-160H180v160Zm220 220h160v-160H400v160Zm0 220h160v-160H400v160ZM180-400h160v-160H180v160Zm440 0h160v-160H620v160ZM180-180h160v-160H180v160Zm440 0h160v-160H620v160Z\"/>\n",
              "  </svg>\n",
              "    </button>\n",
              "\n",
              "  <style>\n",
              "    .colab-df-container {\n",
              "      display:flex;\n",
              "      gap: 12px;\n",
              "    }\n",
              "\n",
              "    .colab-df-convert {\n",
              "      background-color: #E8F0FE;\n",
              "      border: none;\n",
              "      border-radius: 50%;\n",
              "      cursor: pointer;\n",
              "      display: none;\n",
              "      fill: #1967D2;\n",
              "      height: 32px;\n",
              "      padding: 0 0 0 0;\n",
              "      width: 32px;\n",
              "    }\n",
              "\n",
              "    .colab-df-convert:hover {\n",
              "      background-color: #E2EBFA;\n",
              "      box-shadow: 0px 1px 2px rgba(60, 64, 67, 0.3), 0px 1px 3px 1px rgba(60, 64, 67, 0.15);\n",
              "      fill: #174EA6;\n",
              "    }\n",
              "\n",
              "    .colab-df-buttons div {\n",
              "      margin-bottom: 4px;\n",
              "    }\n",
              "\n",
              "    [theme=dark] .colab-df-convert {\n",
              "      background-color: #3B4455;\n",
              "      fill: #D2E3FC;\n",
              "    }\n",
              "\n",
              "    [theme=dark] .colab-df-convert:hover {\n",
              "      background-color: #434B5C;\n",
              "      box-shadow: 0px 1px 3px 1px rgba(0, 0, 0, 0.15);\n",
              "      filter: drop-shadow(0px 1px 2px rgba(0, 0, 0, 0.3));\n",
              "      fill: #FFFFFF;\n",
              "    }\n",
              "  </style>\n",
              "\n",
              "    <script>\n",
              "      const buttonEl =\n",
              "        document.querySelector('#df-9721f72d-b86f-4aa1-b1da-e8c6e9834889 button.colab-df-convert');\n",
              "      buttonEl.style.display =\n",
              "        google.colab.kernel.accessAllowed ? 'block' : 'none';\n",
              "\n",
              "      async function convertToInteractive(key) {\n",
              "        const element = document.querySelector('#df-9721f72d-b86f-4aa1-b1da-e8c6e9834889');\n",
              "        const dataTable =\n",
              "          await google.colab.kernel.invokeFunction('convertToInteractive',\n",
              "                                                    [key], {});\n",
              "        if (!dataTable) return;\n",
              "\n",
              "        const docLinkHtml = 'Like what you see? Visit the ' +\n",
              "          '<a target=\"_blank\" href=https://colab.research.google.com/notebooks/data_table.ipynb>data table notebook</a>'\n",
              "          + ' to learn more about interactive tables.';\n",
              "        element.innerHTML = '';\n",
              "        dataTable['output_type'] = 'display_data';\n",
              "        await google.colab.output.renderOutput(dataTable, element);\n",
              "        const docLink = document.createElement('div');\n",
              "        docLink.innerHTML = docLinkHtml;\n",
              "        element.appendChild(docLink);\n",
              "      }\n",
              "    </script>\n",
              "  </div>\n",
              "\n",
              "\n",
              "<div id=\"df-5c18dc4a-2b5f-485d-a088-785d77f2f94c\">\n",
              "  <button class=\"colab-df-quickchart\" onclick=\"quickchart('df-5c18dc4a-2b5f-485d-a088-785d77f2f94c')\"\n",
              "            title=\"Suggest charts\"\n",
              "            style=\"display:none;\">\n",
              "\n",
              "<svg xmlns=\"http://www.w3.org/2000/svg\" height=\"24px\"viewBox=\"0 0 24 24\"\n",
              "     width=\"24px\">\n",
              "    <g>\n",
              "        <path d=\"M19 3H5c-1.1 0-2 .9-2 2v14c0 1.1.9 2 2 2h14c1.1 0 2-.9 2-2V5c0-1.1-.9-2-2-2zM9 17H7v-7h2v7zm4 0h-2V7h2v10zm4 0h-2v-4h2v4z\"/>\n",
              "    </g>\n",
              "</svg>\n",
              "  </button>\n",
              "\n",
              "<style>\n",
              "  .colab-df-quickchart {\n",
              "      --bg-color: #E8F0FE;\n",
              "      --fill-color: #1967D2;\n",
              "      --hover-bg-color: #E2EBFA;\n",
              "      --hover-fill-color: #174EA6;\n",
              "      --disabled-fill-color: #AAA;\n",
              "      --disabled-bg-color: #DDD;\n",
              "  }\n",
              "\n",
              "  [theme=dark] .colab-df-quickchart {\n",
              "      --bg-color: #3B4455;\n",
              "      --fill-color: #D2E3FC;\n",
              "      --hover-bg-color: #434B5C;\n",
              "      --hover-fill-color: #FFFFFF;\n",
              "      --disabled-bg-color: #3B4455;\n",
              "      --disabled-fill-color: #666;\n",
              "  }\n",
              "\n",
              "  .colab-df-quickchart {\n",
              "    background-color: var(--bg-color);\n",
              "    border: none;\n",
              "    border-radius: 50%;\n",
              "    cursor: pointer;\n",
              "    display: none;\n",
              "    fill: var(--fill-color);\n",
              "    height: 32px;\n",
              "    padding: 0;\n",
              "    width: 32px;\n",
              "  }\n",
              "\n",
              "  .colab-df-quickchart:hover {\n",
              "    background-color: var(--hover-bg-color);\n",
              "    box-shadow: 0 1px 2px rgba(60, 64, 67, 0.3), 0 1px 3px 1px rgba(60, 64, 67, 0.15);\n",
              "    fill: var(--button-hover-fill-color);\n",
              "  }\n",
              "\n",
              "  .colab-df-quickchart-complete:disabled,\n",
              "  .colab-df-quickchart-complete:disabled:hover {\n",
              "    background-color: var(--disabled-bg-color);\n",
              "    fill: var(--disabled-fill-color);\n",
              "    box-shadow: none;\n",
              "  }\n",
              "\n",
              "  .colab-df-spinner {\n",
              "    border: 2px solid var(--fill-color);\n",
              "    border-color: transparent;\n",
              "    border-bottom-color: var(--fill-color);\n",
              "    animation:\n",
              "      spin 1s steps(1) infinite;\n",
              "  }\n",
              "\n",
              "  @keyframes spin {\n",
              "    0% {\n",
              "      border-color: transparent;\n",
              "      border-bottom-color: var(--fill-color);\n",
              "      border-left-color: var(--fill-color);\n",
              "    }\n",
              "    20% {\n",
              "      border-color: transparent;\n",
              "      border-left-color: var(--fill-color);\n",
              "      border-top-color: var(--fill-color);\n",
              "    }\n",
              "    30% {\n",
              "      border-color: transparent;\n",
              "      border-left-color: var(--fill-color);\n",
              "      border-top-color: var(--fill-color);\n",
              "      border-right-color: var(--fill-color);\n",
              "    }\n",
              "    40% {\n",
              "      border-color: transparent;\n",
              "      border-right-color: var(--fill-color);\n",
              "      border-top-color: var(--fill-color);\n",
              "    }\n",
              "    60% {\n",
              "      border-color: transparent;\n",
              "      border-right-color: var(--fill-color);\n",
              "    }\n",
              "    80% {\n",
              "      border-color: transparent;\n",
              "      border-right-color: var(--fill-color);\n",
              "      border-bottom-color: var(--fill-color);\n",
              "    }\n",
              "    90% {\n",
              "      border-color: transparent;\n",
              "      border-bottom-color: var(--fill-color);\n",
              "    }\n",
              "  }\n",
              "</style>\n",
              "\n",
              "  <script>\n",
              "    async function quickchart(key) {\n",
              "      const quickchartButtonEl =\n",
              "        document.querySelector('#' + key + ' button');\n",
              "      quickchartButtonEl.disabled = true;  // To prevent multiple clicks.\n",
              "      quickchartButtonEl.classList.add('colab-df-spinner');\n",
              "      try {\n",
              "        const charts = await google.colab.kernel.invokeFunction(\n",
              "            'suggestCharts', [key], {});\n",
              "      } catch (error) {\n",
              "        console.error('Error during call to suggestCharts:', error);\n",
              "      }\n",
              "      quickchartButtonEl.classList.remove('colab-df-spinner');\n",
              "      quickchartButtonEl.classList.add('colab-df-quickchart-complete');\n",
              "    }\n",
              "    (() => {\n",
              "      let quickchartButtonEl =\n",
              "        document.querySelector('#df-5c18dc4a-2b5f-485d-a088-785d77f2f94c button');\n",
              "      quickchartButtonEl.style.display =\n",
              "        google.colab.kernel.accessAllowed ? 'block' : 'none';\n",
              "    })();\n",
              "  </script>\n",
              "</div>\n",
              "\n",
              "    </div>\n",
              "  </div>\n"
            ],
            "application/vnd.google.colaboratory.intrinsic+json": {
              "type": "dataframe",
              "variable_name": "JN_mul",
              "summary": "{\n  \"name\": \"JN_mul\",\n  \"rows\": 294,\n  \"fields\": [\n    {\n      \"column\": \"query_name\",\n      \"properties\": {\n        \"dtype\": \"category\",\n        \"num_unique_values\": 49,\n        \"samples\": [\n          \"query_386\",\n          \"query_447\",\n          \"query_425\"\n        ],\n        \"semantic_type\": \"\",\n        \"description\": \"\"\n      }\n    },\n    {\n      \"column\": \"run\",\n      \"properties\": {\n        \"dtype\": \"category\",\n        \"num_unique_values\": 3,\n        \"samples\": [\n          \"run_1\",\n          \"run_2\",\n          \"run_3\"\n        ],\n        \"semantic_type\": \"\",\n        \"description\": \"\"\n      }\n    },\n    {\n      \"column\": \"cpus\",\n      \"properties\": {\n        \"dtype\": \"category\",\n        \"num_unique_values\": 2,\n        \"samples\": [\n          \"4-cpus\",\n          \"1-cpus\"\n        ],\n        \"semantic_type\": \"\",\n        \"description\": \"\"\n      }\n    },\n    {\n      \"column\": \"execution_time(minutes)\",\n      \"properties\": {\n        \"dtype\": \"number\",\n        \"std\": 3.2856919990452873,\n        \"min\": 0.09606666666666668,\n        \"max\": 11.157683333333333,\n        \"num_unique_values\": 226,\n        \"samples\": [\n          1.8142833333333332,\n          0.26366666666666666\n        ],\n        \"semantic_type\": \"\",\n        \"description\": \"\"\n      }\n    },\n    {\n      \"column\": \"nb_triples\",\n      \"properties\": {\n        \"dtype\": \"number\",\n        \"std\": 1,\n        \"min\": 2,\n        \"max\": 6,\n        \"num_unique_values\": 5,\n        \"samples\": [\n          3,\n          6\n        ],\n        \"semantic_type\": \"\",\n        \"description\": \"\"\n      }\n    }\n  ]\n}"
            }
          },
          "metadata": {},
          "execution_count": 6
        }
      ],
      "source": [
        "JN_mul_1 = pd.read_csv(\"/content/drive/MyDrive/Continuation Queries/jena/report-wdbench-multiple-tps-1-cpus.csv\",delimiter=\" \")\n",
        "JN_mul_4 = pd.read_csv(\"/content/drive/MyDrive/Continuation Queries/jena/report-wdbench-multiple-tps-4-cpus.csv\",delimiter=\" \")\n",
        "JN_opt_1 = pd.read_csv(\"/content/drive/MyDrive/Continuation Queries/jena/report-wdbench-opts-1-cpus.csv\",delimiter=\" \")\n",
        "JN_opt_4 = pd.read_csv(\"/content/drive/MyDrive/Continuation Queries/jena/report-wdbench-opts-4-cpus.csv\",delimiter=\" \")\n",
        "JN_mul = pd.concat([JN_mul_1, JN_mul_4], ignore_index=True)\n",
        "JN_opt = pd.concat([JN_opt_1, JN_opt_4], ignore_index=True)\n",
        "JN_mul['execution_time(ms)'] = JN_mul['execution_time(ms)'].replace('timeout', 600)\n",
        "JN_opt['execution_time(ms)'] = JN_opt['execution_time(ms)'].replace('timeout', 600)\n",
        "JN_mul['execution_time(ms)'] = JN_mul['execution_time(ms)'].replace(0, 600)\n",
        "JN_opt['execution_time(ms)'] = JN_opt['execution_time(ms)'].replace(0, 600)\n",
        "JN_mul['execution_time(ms)'] = JN_mul['execution_time(ms)'].fillna(600)\n",
        "JN_opt['execution_time(ms)'] = JN_opt['execution_time(ms)'].fillna(600)\n",
        "JN_mul['execution_time(minutes)'] = JN_mul['execution_time(ms)'].astype(float)/60\n",
        "JN_opt['execution_time(minutes)'] = JN_opt['execution_time(ms)'].astype(float)/60\n",
        "JN_mul = JN_mul.drop([\"execution_time(ms)\"],axis=1)\n",
        "JN_opt = JN_opt.drop([\"execution_time(ms)\"],axis=1)\n",
        "JN_mul = pd.merge(JN_mul, mul, on=[\"query_name\"], how='inner')\n",
        "JN_opt = pd.merge(JN_opt, opt, on=[\"query_name\"], how='inner')\n",
        "JN_mul = JN_mul.drop(columns = [\"nb_results_x\",\"nb_results_y\"],axis=1)\n",
        "JN_opt = JN_opt.drop(columns = [\"nb_results_x\",\"nb_results_y\"],axis=1)\n",
        "print(JN_mul.shape)\n",
        "print(JN_opt.shape)\n",
        "JN_mul.head()"
      ]
    },
    {
      "cell_type": "code",
      "execution_count": null,
      "metadata": {
        "colab": {
          "base_uri": "https://localhost:8080/",
          "height": 241
        },
        "id": "zbGWhO0k2bZY",
        "outputId": "24e44384-3fb3-4f37-fd5b-0a2547a0daab"
      },
      "outputs": [
        {
          "output_type": "stream",
          "name": "stdout",
          "text": [
            "(588, 7)\n",
            "(528, 9)\n"
          ]
        },
        {
          "output_type": "execute_result",
          "data": {
            "text/plain": [
              "  query_name    run   timeout  nb_pause_resume    cpus  \\\n",
              "0  query_394  run_1     60000                1  1-cpus   \n",
              "1  query_394  run_2     60000                1  1-cpus   \n",
              "2  query_394  run_3     60000                1  1-cpus   \n",
              "3  query_394  run_1  60000000                0  1-cpus   \n",
              "4  query_394  run_2  60000000                0  1-cpus   \n",
              "\n",
              "   execution_time(minutes)  nb_triples  \n",
              "0                 1.202800           2  \n",
              "1                 1.223783           2  \n",
              "2                 1.195667           2  \n",
              "3                 1.204750           2  \n",
              "4                 1.217367           2  "
            ],
            "text/html": [
              "\n",
              "  <div id=\"df-abd1c8b4-dc7a-460f-af87-a81f71f4cf67\" class=\"colab-df-container\">\n",
              "    <div>\n",
              "<style scoped>\n",
              "    .dataframe tbody tr th:only-of-type {\n",
              "        vertical-align: middle;\n",
              "    }\n",
              "\n",
              "    .dataframe tbody tr th {\n",
              "        vertical-align: top;\n",
              "    }\n",
              "\n",
              "    .dataframe thead th {\n",
              "        text-align: right;\n",
              "    }\n",
              "</style>\n",
              "<table border=\"1\" class=\"dataframe\">\n",
              "  <thead>\n",
              "    <tr style=\"text-align: right;\">\n",
              "      <th></th>\n",
              "      <th>query_name</th>\n",
              "      <th>run</th>\n",
              "      <th>timeout</th>\n",
              "      <th>nb_pause_resume</th>\n",
              "      <th>cpus</th>\n",
              "      <th>execution_time(minutes)</th>\n",
              "      <th>nb_triples</th>\n",
              "    </tr>\n",
              "  </thead>\n",
              "  <tbody>\n",
              "    <tr>\n",
              "      <th>0</th>\n",
              "      <td>query_394</td>\n",
              "      <td>run_1</td>\n",
              "      <td>60000</td>\n",
              "      <td>1</td>\n",
              "      <td>1-cpus</td>\n",
              "      <td>1.202800</td>\n",
              "      <td>2</td>\n",
              "    </tr>\n",
              "    <tr>\n",
              "      <th>1</th>\n",
              "      <td>query_394</td>\n",
              "      <td>run_2</td>\n",
              "      <td>60000</td>\n",
              "      <td>1</td>\n",
              "      <td>1-cpus</td>\n",
              "      <td>1.223783</td>\n",
              "      <td>2</td>\n",
              "    </tr>\n",
              "    <tr>\n",
              "      <th>2</th>\n",
              "      <td>query_394</td>\n",
              "      <td>run_3</td>\n",
              "      <td>60000</td>\n",
              "      <td>1</td>\n",
              "      <td>1-cpus</td>\n",
              "      <td>1.195667</td>\n",
              "      <td>2</td>\n",
              "    </tr>\n",
              "    <tr>\n",
              "      <th>3</th>\n",
              "      <td>query_394</td>\n",
              "      <td>run_1</td>\n",
              "      <td>60000000</td>\n",
              "      <td>0</td>\n",
              "      <td>1-cpus</td>\n",
              "      <td>1.204750</td>\n",
              "      <td>2</td>\n",
              "    </tr>\n",
              "    <tr>\n",
              "      <th>4</th>\n",
              "      <td>query_394</td>\n",
              "      <td>run_2</td>\n",
              "      <td>60000000</td>\n",
              "      <td>0</td>\n",
              "      <td>1-cpus</td>\n",
              "      <td>1.217367</td>\n",
              "      <td>2</td>\n",
              "    </tr>\n",
              "  </tbody>\n",
              "</table>\n",
              "</div>\n",
              "    <div class=\"colab-df-buttons\">\n",
              "\n",
              "  <div class=\"colab-df-container\">\n",
              "    <button class=\"colab-df-convert\" onclick=\"convertToInteractive('df-abd1c8b4-dc7a-460f-af87-a81f71f4cf67')\"\n",
              "            title=\"Convert this dataframe to an interactive table.\"\n",
              "            style=\"display:none;\">\n",
              "\n",
              "  <svg xmlns=\"http://www.w3.org/2000/svg\" height=\"24px\" viewBox=\"0 -960 960 960\">\n",
              "    <path d=\"M120-120v-720h720v720H120Zm60-500h600v-160H180v160Zm220 220h160v-160H400v160Zm0 220h160v-160H400v160ZM180-400h160v-160H180v160Zm440 0h160v-160H620v160ZM180-180h160v-160H180v160Zm440 0h160v-160H620v160Z\"/>\n",
              "  </svg>\n",
              "    </button>\n",
              "\n",
              "  <style>\n",
              "    .colab-df-container {\n",
              "      display:flex;\n",
              "      gap: 12px;\n",
              "    }\n",
              "\n",
              "    .colab-df-convert {\n",
              "      background-color: #E8F0FE;\n",
              "      border: none;\n",
              "      border-radius: 50%;\n",
              "      cursor: pointer;\n",
              "      display: none;\n",
              "      fill: #1967D2;\n",
              "      height: 32px;\n",
              "      padding: 0 0 0 0;\n",
              "      width: 32px;\n",
              "    }\n",
              "\n",
              "    .colab-df-convert:hover {\n",
              "      background-color: #E2EBFA;\n",
              "      box-shadow: 0px 1px 2px rgba(60, 64, 67, 0.3), 0px 1px 3px 1px rgba(60, 64, 67, 0.15);\n",
              "      fill: #174EA6;\n",
              "    }\n",
              "\n",
              "    .colab-df-buttons div {\n",
              "      margin-bottom: 4px;\n",
              "    }\n",
              "\n",
              "    [theme=dark] .colab-df-convert {\n",
              "      background-color: #3B4455;\n",
              "      fill: #D2E3FC;\n",
              "    }\n",
              "\n",
              "    [theme=dark] .colab-df-convert:hover {\n",
              "      background-color: #434B5C;\n",
              "      box-shadow: 0px 1px 3px 1px rgba(0, 0, 0, 0.15);\n",
              "      filter: drop-shadow(0px 1px 2px rgba(0, 0, 0, 0.3));\n",
              "      fill: #FFFFFF;\n",
              "    }\n",
              "  </style>\n",
              "\n",
              "    <script>\n",
              "      const buttonEl =\n",
              "        document.querySelector('#df-abd1c8b4-dc7a-460f-af87-a81f71f4cf67 button.colab-df-convert');\n",
              "      buttonEl.style.display =\n",
              "        google.colab.kernel.accessAllowed ? 'block' : 'none';\n",
              "\n",
              "      async function convertToInteractive(key) {\n",
              "        const element = document.querySelector('#df-abd1c8b4-dc7a-460f-af87-a81f71f4cf67');\n",
              "        const dataTable =\n",
              "          await google.colab.kernel.invokeFunction('convertToInteractive',\n",
              "                                                    [key], {});\n",
              "        if (!dataTable) return;\n",
              "\n",
              "        const docLinkHtml = 'Like what you see? Visit the ' +\n",
              "          '<a target=\"_blank\" href=https://colab.research.google.com/notebooks/data_table.ipynb>data table notebook</a>'\n",
              "          + ' to learn more about interactive tables.';\n",
              "        element.innerHTML = '';\n",
              "        dataTable['output_type'] = 'display_data';\n",
              "        await google.colab.output.renderOutput(dataTable, element);\n",
              "        const docLink = document.createElement('div');\n",
              "        docLink.innerHTML = docLinkHtml;\n",
              "        element.appendChild(docLink);\n",
              "      }\n",
              "    </script>\n",
              "  </div>\n",
              "\n",
              "\n",
              "<div id=\"df-cda5fb0b-a93c-4675-9be7-0444a222e5ab\">\n",
              "  <button class=\"colab-df-quickchart\" onclick=\"quickchart('df-cda5fb0b-a93c-4675-9be7-0444a222e5ab')\"\n",
              "            title=\"Suggest charts\"\n",
              "            style=\"display:none;\">\n",
              "\n",
              "<svg xmlns=\"http://www.w3.org/2000/svg\" height=\"24px\"viewBox=\"0 0 24 24\"\n",
              "     width=\"24px\">\n",
              "    <g>\n",
              "        <path d=\"M19 3H5c-1.1 0-2 .9-2 2v14c0 1.1.9 2 2 2h14c1.1 0 2-.9 2-2V5c0-1.1-.9-2-2-2zM9 17H7v-7h2v7zm4 0h-2V7h2v10zm4 0h-2v-4h2v4z\"/>\n",
              "    </g>\n",
              "</svg>\n",
              "  </button>\n",
              "\n",
              "<style>\n",
              "  .colab-df-quickchart {\n",
              "      --bg-color: #E8F0FE;\n",
              "      --fill-color: #1967D2;\n",
              "      --hover-bg-color: #E2EBFA;\n",
              "      --hover-fill-color: #174EA6;\n",
              "      --disabled-fill-color: #AAA;\n",
              "      --disabled-bg-color: #DDD;\n",
              "  }\n",
              "\n",
              "  [theme=dark] .colab-df-quickchart {\n",
              "      --bg-color: #3B4455;\n",
              "      --fill-color: #D2E3FC;\n",
              "      --hover-bg-color: #434B5C;\n",
              "      --hover-fill-color: #FFFFFF;\n",
              "      --disabled-bg-color: #3B4455;\n",
              "      --disabled-fill-color: #666;\n",
              "  }\n",
              "\n",
              "  .colab-df-quickchart {\n",
              "    background-color: var(--bg-color);\n",
              "    border: none;\n",
              "    border-radius: 50%;\n",
              "    cursor: pointer;\n",
              "    display: none;\n",
              "    fill: var(--fill-color);\n",
              "    height: 32px;\n",
              "    padding: 0;\n",
              "    width: 32px;\n",
              "  }\n",
              "\n",
              "  .colab-df-quickchart:hover {\n",
              "    background-color: var(--hover-bg-color);\n",
              "    box-shadow: 0 1px 2px rgba(60, 64, 67, 0.3), 0 1px 3px 1px rgba(60, 64, 67, 0.15);\n",
              "    fill: var(--button-hover-fill-color);\n",
              "  }\n",
              "\n",
              "  .colab-df-quickchart-complete:disabled,\n",
              "  .colab-df-quickchart-complete:disabled:hover {\n",
              "    background-color: var(--disabled-bg-color);\n",
              "    fill: var(--disabled-fill-color);\n",
              "    box-shadow: none;\n",
              "  }\n",
              "\n",
              "  .colab-df-spinner {\n",
              "    border: 2px solid var(--fill-color);\n",
              "    border-color: transparent;\n",
              "    border-bottom-color: var(--fill-color);\n",
              "    animation:\n",
              "      spin 1s steps(1) infinite;\n",
              "  }\n",
              "\n",
              "  @keyframes spin {\n",
              "    0% {\n",
              "      border-color: transparent;\n",
              "      border-bottom-color: var(--fill-color);\n",
              "      border-left-color: var(--fill-color);\n",
              "    }\n",
              "    20% {\n",
              "      border-color: transparent;\n",
              "      border-left-color: var(--fill-color);\n",
              "      border-top-color: var(--fill-color);\n",
              "    }\n",
              "    30% {\n",
              "      border-color: transparent;\n",
              "      border-left-color: var(--fill-color);\n",
              "      border-top-color: var(--fill-color);\n",
              "      border-right-color: var(--fill-color);\n",
              "    }\n",
              "    40% {\n",
              "      border-color: transparent;\n",
              "      border-right-color: var(--fill-color);\n",
              "      border-top-color: var(--fill-color);\n",
              "    }\n",
              "    60% {\n",
              "      border-color: transparent;\n",
              "      border-right-color: var(--fill-color);\n",
              "    }\n",
              "    80% {\n",
              "      border-color: transparent;\n",
              "      border-right-color: var(--fill-color);\n",
              "      border-bottom-color: var(--fill-color);\n",
              "    }\n",
              "    90% {\n",
              "      border-color: transparent;\n",
              "      border-bottom-color: var(--fill-color);\n",
              "    }\n",
              "  }\n",
              "</style>\n",
              "\n",
              "  <script>\n",
              "    async function quickchart(key) {\n",
              "      const quickchartButtonEl =\n",
              "        document.querySelector('#' + key + ' button');\n",
              "      quickchartButtonEl.disabled = true;  // To prevent multiple clicks.\n",
              "      quickchartButtonEl.classList.add('colab-df-spinner');\n",
              "      try {\n",
              "        const charts = await google.colab.kernel.invokeFunction(\n",
              "            'suggestCharts', [key], {});\n",
              "      } catch (error) {\n",
              "        console.error('Error during call to suggestCharts:', error);\n",
              "      }\n",
              "      quickchartButtonEl.classList.remove('colab-df-spinner');\n",
              "      quickchartButtonEl.classList.add('colab-df-quickchart-complete');\n",
              "    }\n",
              "    (() => {\n",
              "      let quickchartButtonEl =\n",
              "        document.querySelector('#df-cda5fb0b-a93c-4675-9be7-0444a222e5ab button');\n",
              "      quickchartButtonEl.style.display =\n",
              "        google.colab.kernel.accessAllowed ? 'block' : 'none';\n",
              "    })();\n",
              "  </script>\n",
              "</div>\n",
              "\n",
              "    </div>\n",
              "  </div>\n"
            ],
            "application/vnd.google.colaboratory.intrinsic+json": {
              "type": "dataframe",
              "variable_name": "PS_mul",
              "summary": "{\n  \"name\": \"PS_mul\",\n  \"rows\": 588,\n  \"fields\": [\n    {\n      \"column\": \"query_name\",\n      \"properties\": {\n        \"dtype\": \"category\",\n        \"num_unique_values\": 49,\n        \"samples\": [\n          \"query_386\",\n          \"query_447\",\n          \"query_425\"\n        ],\n        \"semantic_type\": \"\",\n        \"description\": \"\"\n      }\n    },\n    {\n      \"column\": \"run\",\n      \"properties\": {\n        \"dtype\": \"category\",\n        \"num_unique_values\": 3,\n        \"samples\": [\n          \"run_1\",\n          \"run_2\",\n          \"run_3\"\n        ],\n        \"semantic_type\": \"\",\n        \"description\": \"\"\n      }\n    },\n    {\n      \"column\": \"timeout\",\n      \"properties\": {\n        \"dtype\": \"number\",\n        \"std\": 29995517,\n        \"min\": 60000,\n        \"max\": 60000000,\n        \"num_unique_values\": 2,\n        \"samples\": [\n          60000000,\n          60000\n        ],\n        \"semantic_type\": \"\",\n        \"description\": \"\"\n      }\n    },\n    {\n      \"column\": \"nb_pause_resume\",\n      \"properties\": {\n        \"dtype\": \"number\",\n        \"std\": 1,\n        \"min\": 0,\n        \"max\": 15,\n        \"num_unique_values\": 6,\n        \"samples\": [\n          1,\n          0\n        ],\n        \"semantic_type\": \"\",\n        \"description\": \"\"\n      }\n    },\n    {\n      \"column\": \"cpus\",\n      \"properties\": {\n        \"dtype\": \"category\",\n        \"num_unique_values\": 2,\n        \"samples\": [\n          \"4-cpus\",\n          \"1-cpus\"\n        ],\n        \"semantic_type\": \"\",\n        \"description\": \"\"\n      }\n    },\n    {\n      \"column\": \"execution_time(minutes)\",\n      \"properties\": {\n        \"dtype\": \"number\",\n        \"std\": 1.8375712835536142,\n        \"min\": 0.27958333333333335,\n        \"max\": 15.068083333333334,\n        \"num_unique_values\": 587,\n        \"samples\": [\n          1.2090666666666667,\n          1.2194833333333333\n        ],\n        \"semantic_type\": \"\",\n        \"description\": \"\"\n      }\n    },\n    {\n      \"column\": \"nb_triples\",\n      \"properties\": {\n        \"dtype\": \"number\",\n        \"std\": 1,\n        \"min\": 2,\n        \"max\": 6,\n        \"num_unique_values\": 5,\n        \"samples\": [\n          3,\n          6\n        ],\n        \"semantic_type\": \"\",\n        \"description\": \"\"\n      }\n    }\n  ]\n}"
            }
          },
          "metadata": {},
          "execution_count": 9
        }
      ],
      "source": [
        "PS_mul_1 = pd.read_csv(\"/content/drive/MyDrive/Continuation Queries/passage/report-wdbench-multiple-tps-1-cpus.csv\",delimiter=\",\")\n",
        "PS_mul_4 = pd.read_csv(\"/content/drive/MyDrive/Continuation Queries/passage/report-wdbench-multiple-tps-4-cpus.csv\",delimiter=\",\")\n",
        "PS_opt_1 = pd.read_csv(\"/content/drive/MyDrive/Continuation Queries/passage/report-wdbench-opts-1-cpus.csv\",delimiter=\",\")\n",
        "PS_opt_4 = pd.read_csv(\"/content/drive/MyDrive/Continuation Queries/passage/report-wdbench-opts-4-cpus.csv\",delimiter=\",\")\n",
        "PS_mul_1['cpus'] = '1-cpus'\n",
        "PS_mul_4['cpus'] = '4-cpus'\n",
        "PS_opt_1['cpus'] = '1-cpus'\n",
        "PS_opt_4['cpus'] = '4-cpus'\n",
        "PS_mul = pd.concat([PS_mul_1, PS_mul_4], ignore_index=True)\n",
        "PS_opt = pd.concat([PS_opt_1, PS_opt_4], ignore_index=True)\n",
        "PS_mul = ms_to_mn(PS_mul,\"execution_time\")\n",
        "PS_opt = ms_to_mn(PS_opt,\"execution_time\")\n",
        "PS_mul = pd.merge(PS_mul, mul, on=[\"query_name\"], how='inner')\n",
        "PS_opt = pd.merge(PS_opt, opt, on=[\"query_name\"], how='inner')\n",
        "PS_mul = PS_mul.drop(columns = [\"nb_results_x\",\"nb_results_y\"],axis=1)\n",
        "PS_opt = PS_opt.drop(columns = [\"nb_results_x\",\"nb_results_y\"],axis=1)\n",
        "print(PS_mul.shape)\n",
        "print(PS_opt.shape)\n",
        "PS_mul.head()"
      ]
    },
    {
      "cell_type": "code",
      "source": [],
      "metadata": {
        "id": "-yRTu2JX1c4I"
      },
      "execution_count": null,
      "outputs": []
    },
    {
      "cell_type": "markdown",
      "source": [
        "### Total number of Continuation Queries for PASSAGE and total number of Suspend-Resume for SaGe"
      ],
      "metadata": {
        "id": "Ki0ijofTGEPr"
      }
    },
    {
      "cell_type": "code",
      "source": [
        "PS_mul_1[PS_mul_1['nb_pause_resume'] != 0].groupby('query_name').agg({'nb_pause_resume': ['mean']}).sum()\n"
      ],
      "metadata": {
        "colab": {
          "base_uri": "https://localhost:8080/",
          "height": 115
        },
        "id": "jan85FS509OZ",
        "outputId": "0ce14a9b-f388-4d80-f7f5-fe1f224bcbfd"
      },
      "execution_count": null,
      "outputs": [
        {
          "output_type": "execute_result",
          "data": {
            "text/plain": [
              "nb_pause_resume  mean    62.666667\n",
              "dtype: float64"
            ],
            "text/html": [
              "<div>\n",
              "<style scoped>\n",
              "    .dataframe tbody tr th:only-of-type {\n",
              "        vertical-align: middle;\n",
              "    }\n",
              "\n",
              "    .dataframe tbody tr th {\n",
              "        vertical-align: top;\n",
              "    }\n",
              "\n",
              "    .dataframe thead th {\n",
              "        text-align: right;\n",
              "    }\n",
              "</style>\n",
              "<table border=\"1\" class=\"dataframe\">\n",
              "  <thead>\n",
              "    <tr style=\"text-align: right;\">\n",
              "      <th></th>\n",
              "      <th></th>\n",
              "      <th>0</th>\n",
              "    </tr>\n",
              "  </thead>\n",
              "  <tbody>\n",
              "    <tr>\n",
              "      <th>nb_pause_resume</th>\n",
              "      <th>mean</th>\n",
              "      <td>62.666667</td>\n",
              "    </tr>\n",
              "  </tbody>\n",
              "</table>\n",
              "</div><br><label><b>dtype:</b> float64</label>"
            ]
          },
          "metadata": {},
          "execution_count": 109
        }
      ]
    },
    {
      "cell_type": "code",
      "source": [
        "PS_mul_4[PS_mul_4['nb_pause_resume'] != 0].groupby('query_name').agg({'nb_pause_resume': ['mean']}).sum()"
      ],
      "metadata": {
        "colab": {
          "base_uri": "https://localhost:8080/",
          "height": 115
        },
        "id": "DapsYDPt1MCD",
        "outputId": "f89bc417-0a01-4df5-85a5-eed1e2bd1117"
      },
      "execution_count": null,
      "outputs": [
        {
          "output_type": "execute_result",
          "data": {
            "text/plain": [
              "nb_pause_resume  mean    57.0\n",
              "dtype: float64"
            ],
            "text/html": [
              "<div>\n",
              "<style scoped>\n",
              "    .dataframe tbody tr th:only-of-type {\n",
              "        vertical-align: middle;\n",
              "    }\n",
              "\n",
              "    .dataframe tbody tr th {\n",
              "        vertical-align: top;\n",
              "    }\n",
              "\n",
              "    .dataframe thead th {\n",
              "        text-align: right;\n",
              "    }\n",
              "</style>\n",
              "<table border=\"1\" class=\"dataframe\">\n",
              "  <thead>\n",
              "    <tr style=\"text-align: right;\">\n",
              "      <th></th>\n",
              "      <th></th>\n",
              "      <th>0</th>\n",
              "    </tr>\n",
              "  </thead>\n",
              "  <tbody>\n",
              "    <tr>\n",
              "      <th>nb_pause_resume</th>\n",
              "      <th>mean</th>\n",
              "      <td>57.0</td>\n",
              "    </tr>\n",
              "  </tbody>\n",
              "</table>\n",
              "</div><br><label><b>dtype:</b> float64</label>"
            ]
          },
          "metadata": {},
          "execution_count": 110
        }
      ]
    },
    {
      "cell_type": "code",
      "source": [
        "PS_opt_1[PS_opt_1['nb_pause_resume'] != 0].groupby('query_name').agg({'nb_pause_resume': ['mean']}).sum()"
      ],
      "metadata": {
        "colab": {
          "base_uri": "https://localhost:8080/",
          "height": 115
        },
        "id": "IKqtgq-K1L7y",
        "outputId": "88996df5-6319-4904-fe8b-ac2a4a1f68c6"
      },
      "execution_count": null,
      "outputs": [
        {
          "output_type": "execute_result",
          "data": {
            "text/plain": [
              "nb_pause_resume  mean    41.666667\n",
              "dtype: float64"
            ],
            "text/html": [
              "<div>\n",
              "<style scoped>\n",
              "    .dataframe tbody tr th:only-of-type {\n",
              "        vertical-align: middle;\n",
              "    }\n",
              "\n",
              "    .dataframe tbody tr th {\n",
              "        vertical-align: top;\n",
              "    }\n",
              "\n",
              "    .dataframe thead th {\n",
              "        text-align: right;\n",
              "    }\n",
              "</style>\n",
              "<table border=\"1\" class=\"dataframe\">\n",
              "  <thead>\n",
              "    <tr style=\"text-align: right;\">\n",
              "      <th></th>\n",
              "      <th></th>\n",
              "      <th>0</th>\n",
              "    </tr>\n",
              "  </thead>\n",
              "  <tbody>\n",
              "    <tr>\n",
              "      <th>nb_pause_resume</th>\n",
              "      <th>mean</th>\n",
              "      <td>41.666667</td>\n",
              "    </tr>\n",
              "  </tbody>\n",
              "</table>\n",
              "</div><br><label><b>dtype:</b> float64</label>"
            ]
          },
          "metadata": {},
          "execution_count": 111
        }
      ]
    },
    {
      "cell_type": "code",
      "source": [
        "PS_opt_4[PS_opt_4['nb_pause_resume'] != 0].groupby('query_name').agg({'nb_pause_resume': ['mean']}).sum()\n",
        "\n"
      ],
      "metadata": {
        "colab": {
          "base_uri": "https://localhost:8080/",
          "height": 115
        },
        "id": "1SDoHD-1zG3l",
        "outputId": "e3040173-be87-49c6-a8b1-ea26ec22b252"
      },
      "execution_count": null,
      "outputs": [
        {
          "output_type": "execute_result",
          "data": {
            "text/plain": [
              "nb_pause_resume  mean    30.333333\n",
              "dtype: float64"
            ],
            "text/html": [
              "<div>\n",
              "<style scoped>\n",
              "    .dataframe tbody tr th:only-of-type {\n",
              "        vertical-align: middle;\n",
              "    }\n",
              "\n",
              "    .dataframe tbody tr th {\n",
              "        vertical-align: top;\n",
              "    }\n",
              "\n",
              "    .dataframe thead th {\n",
              "        text-align: right;\n",
              "    }\n",
              "</style>\n",
              "<table border=\"1\" class=\"dataframe\">\n",
              "  <thead>\n",
              "    <tr style=\"text-align: right;\">\n",
              "      <th></th>\n",
              "      <th></th>\n",
              "      <th>0</th>\n",
              "    </tr>\n",
              "  </thead>\n",
              "  <tbody>\n",
              "    <tr>\n",
              "      <th>nb_pause_resume</th>\n",
              "      <th>mean</th>\n",
              "      <td>30.333333</td>\n",
              "    </tr>\n",
              "  </tbody>\n",
              "</table>\n",
              "</div><br><label><b>dtype:</b> float64</label>"
            ]
          },
          "metadata": {},
          "execution_count": 112
        }
      ]
    },
    {
      "cell_type": "code",
      "execution_count": null,
      "metadata": {
        "colab": {
          "base_uri": "https://localhost:8080/",
          "height": 241
        },
        "id": "Ny-ObuHDYOFS",
        "outputId": "e3d7beab-7ea7-4d88-d7bb-573146e65f0d"
      },
      "outputs": [
        {
          "output_type": "stream",
          "name": "stdout",
          "text": [
            "(588, 8)\n",
            "(528, 10)\n"
          ]
        },
        {
          "output_type": "execute_result",
          "data": {
            "text/plain": [
              "  query_name   timeout    run    cpus  nb_quantum  next_size(kb)  \\\n",
              "0  query_394     60000  run_1  1-cpus           2       0.790039   \n",
              "1  query_394  60000000  run_1  1-cpus           1       0.015625   \n",
              "2  query_394     60000  run_2  1-cpus           2       0.793945   \n",
              "3  query_394  60000000  run_2  1-cpus           1       0.015625   \n",
              "4  query_394     60000  run_3  1-cpus           2       0.891602   \n",
              "\n",
              "   execution_time(minutes)  nb_triples  \n",
              "0                 1.922319           2  \n",
              "1                 1.849252           2  \n",
              "2                 1.906857           2  \n",
              "3                 1.884844           2  \n",
              "4                 1.928859           2  "
            ],
            "text/html": [
              "\n",
              "  <div id=\"df-6c76c845-bf61-4a33-bca7-b29e3bd46c44\" class=\"colab-df-container\">\n",
              "    <div>\n",
              "<style scoped>\n",
              "    .dataframe tbody tr th:only-of-type {\n",
              "        vertical-align: middle;\n",
              "    }\n",
              "\n",
              "    .dataframe tbody tr th {\n",
              "        vertical-align: top;\n",
              "    }\n",
              "\n",
              "    .dataframe thead th {\n",
              "        text-align: right;\n",
              "    }\n",
              "</style>\n",
              "<table border=\"1\" class=\"dataframe\">\n",
              "  <thead>\n",
              "    <tr style=\"text-align: right;\">\n",
              "      <th></th>\n",
              "      <th>query_name</th>\n",
              "      <th>timeout</th>\n",
              "      <th>run</th>\n",
              "      <th>cpus</th>\n",
              "      <th>nb_quantum</th>\n",
              "      <th>next_size(kb)</th>\n",
              "      <th>execution_time(minutes)</th>\n",
              "      <th>nb_triples</th>\n",
              "    </tr>\n",
              "  </thead>\n",
              "  <tbody>\n",
              "    <tr>\n",
              "      <th>0</th>\n",
              "      <td>query_394</td>\n",
              "      <td>60000</td>\n",
              "      <td>run_1</td>\n",
              "      <td>1-cpus</td>\n",
              "      <td>2</td>\n",
              "      <td>0.790039</td>\n",
              "      <td>1.922319</td>\n",
              "      <td>2</td>\n",
              "    </tr>\n",
              "    <tr>\n",
              "      <th>1</th>\n",
              "      <td>query_394</td>\n",
              "      <td>60000000</td>\n",
              "      <td>run_1</td>\n",
              "      <td>1-cpus</td>\n",
              "      <td>1</td>\n",
              "      <td>0.015625</td>\n",
              "      <td>1.849252</td>\n",
              "      <td>2</td>\n",
              "    </tr>\n",
              "    <tr>\n",
              "      <th>2</th>\n",
              "      <td>query_394</td>\n",
              "      <td>60000</td>\n",
              "      <td>run_2</td>\n",
              "      <td>1-cpus</td>\n",
              "      <td>2</td>\n",
              "      <td>0.793945</td>\n",
              "      <td>1.906857</td>\n",
              "      <td>2</td>\n",
              "    </tr>\n",
              "    <tr>\n",
              "      <th>3</th>\n",
              "      <td>query_394</td>\n",
              "      <td>60000000</td>\n",
              "      <td>run_2</td>\n",
              "      <td>1-cpus</td>\n",
              "      <td>1</td>\n",
              "      <td>0.015625</td>\n",
              "      <td>1.884844</td>\n",
              "      <td>2</td>\n",
              "    </tr>\n",
              "    <tr>\n",
              "      <th>4</th>\n",
              "      <td>query_394</td>\n",
              "      <td>60000</td>\n",
              "      <td>run_3</td>\n",
              "      <td>1-cpus</td>\n",
              "      <td>2</td>\n",
              "      <td>0.891602</td>\n",
              "      <td>1.928859</td>\n",
              "      <td>2</td>\n",
              "    </tr>\n",
              "  </tbody>\n",
              "</table>\n",
              "</div>\n",
              "    <div class=\"colab-df-buttons\">\n",
              "\n",
              "  <div class=\"colab-df-container\">\n",
              "    <button class=\"colab-df-convert\" onclick=\"convertToInteractive('df-6c76c845-bf61-4a33-bca7-b29e3bd46c44')\"\n",
              "            title=\"Convert this dataframe to an interactive table.\"\n",
              "            style=\"display:none;\">\n",
              "\n",
              "  <svg xmlns=\"http://www.w3.org/2000/svg\" height=\"24px\" viewBox=\"0 -960 960 960\">\n",
              "    <path d=\"M120-120v-720h720v720H120Zm60-500h600v-160H180v160Zm220 220h160v-160H400v160Zm0 220h160v-160H400v160ZM180-400h160v-160H180v160Zm440 0h160v-160H620v160ZM180-180h160v-160H180v160Zm440 0h160v-160H620v160Z\"/>\n",
              "  </svg>\n",
              "    </button>\n",
              "\n",
              "  <style>\n",
              "    .colab-df-container {\n",
              "      display:flex;\n",
              "      gap: 12px;\n",
              "    }\n",
              "\n",
              "    .colab-df-convert {\n",
              "      background-color: #E8F0FE;\n",
              "      border: none;\n",
              "      border-radius: 50%;\n",
              "      cursor: pointer;\n",
              "      display: none;\n",
              "      fill: #1967D2;\n",
              "      height: 32px;\n",
              "      padding: 0 0 0 0;\n",
              "      width: 32px;\n",
              "    }\n",
              "\n",
              "    .colab-df-convert:hover {\n",
              "      background-color: #E2EBFA;\n",
              "      box-shadow: 0px 1px 2px rgba(60, 64, 67, 0.3), 0px 1px 3px 1px rgba(60, 64, 67, 0.15);\n",
              "      fill: #174EA6;\n",
              "    }\n",
              "\n",
              "    .colab-df-buttons div {\n",
              "      margin-bottom: 4px;\n",
              "    }\n",
              "\n",
              "    [theme=dark] .colab-df-convert {\n",
              "      background-color: #3B4455;\n",
              "      fill: #D2E3FC;\n",
              "    }\n",
              "\n",
              "    [theme=dark] .colab-df-convert:hover {\n",
              "      background-color: #434B5C;\n",
              "      box-shadow: 0px 1px 3px 1px rgba(0, 0, 0, 0.15);\n",
              "      filter: drop-shadow(0px 1px 2px rgba(0, 0, 0, 0.3));\n",
              "      fill: #FFFFFF;\n",
              "    }\n",
              "  </style>\n",
              "\n",
              "    <script>\n",
              "      const buttonEl =\n",
              "        document.querySelector('#df-6c76c845-bf61-4a33-bca7-b29e3bd46c44 button.colab-df-convert');\n",
              "      buttonEl.style.display =\n",
              "        google.colab.kernel.accessAllowed ? 'block' : 'none';\n",
              "\n",
              "      async function convertToInteractive(key) {\n",
              "        const element = document.querySelector('#df-6c76c845-bf61-4a33-bca7-b29e3bd46c44');\n",
              "        const dataTable =\n",
              "          await google.colab.kernel.invokeFunction('convertToInteractive',\n",
              "                                                    [key], {});\n",
              "        if (!dataTable) return;\n",
              "\n",
              "        const docLinkHtml = 'Like what you see? Visit the ' +\n",
              "          '<a target=\"_blank\" href=https://colab.research.google.com/notebooks/data_table.ipynb>data table notebook</a>'\n",
              "          + ' to learn more about interactive tables.';\n",
              "        element.innerHTML = '';\n",
              "        dataTable['output_type'] = 'display_data';\n",
              "        await google.colab.output.renderOutput(dataTable, element);\n",
              "        const docLink = document.createElement('div');\n",
              "        docLink.innerHTML = docLinkHtml;\n",
              "        element.appendChild(docLink);\n",
              "      }\n",
              "    </script>\n",
              "  </div>\n",
              "\n",
              "\n",
              "<div id=\"df-079d00c4-a9a5-43fa-9d9e-51fdc3f238c9\">\n",
              "  <button class=\"colab-df-quickchart\" onclick=\"quickchart('df-079d00c4-a9a5-43fa-9d9e-51fdc3f238c9')\"\n",
              "            title=\"Suggest charts\"\n",
              "            style=\"display:none;\">\n",
              "\n",
              "<svg xmlns=\"http://www.w3.org/2000/svg\" height=\"24px\"viewBox=\"0 0 24 24\"\n",
              "     width=\"24px\">\n",
              "    <g>\n",
              "        <path d=\"M19 3H5c-1.1 0-2 .9-2 2v14c0 1.1.9 2 2 2h14c1.1 0 2-.9 2-2V5c0-1.1-.9-2-2-2zM9 17H7v-7h2v7zm4 0h-2V7h2v10zm4 0h-2v-4h2v4z\"/>\n",
              "    </g>\n",
              "</svg>\n",
              "  </button>\n",
              "\n",
              "<style>\n",
              "  .colab-df-quickchart {\n",
              "      --bg-color: #E8F0FE;\n",
              "      --fill-color: #1967D2;\n",
              "      --hover-bg-color: #E2EBFA;\n",
              "      --hover-fill-color: #174EA6;\n",
              "      --disabled-fill-color: #AAA;\n",
              "      --disabled-bg-color: #DDD;\n",
              "  }\n",
              "\n",
              "  [theme=dark] .colab-df-quickchart {\n",
              "      --bg-color: #3B4455;\n",
              "      --fill-color: #D2E3FC;\n",
              "      --hover-bg-color: #434B5C;\n",
              "      --hover-fill-color: #FFFFFF;\n",
              "      --disabled-bg-color: #3B4455;\n",
              "      --disabled-fill-color: #666;\n",
              "  }\n",
              "\n",
              "  .colab-df-quickchart {\n",
              "    background-color: var(--bg-color);\n",
              "    border: none;\n",
              "    border-radius: 50%;\n",
              "    cursor: pointer;\n",
              "    display: none;\n",
              "    fill: var(--fill-color);\n",
              "    height: 32px;\n",
              "    padding: 0;\n",
              "    width: 32px;\n",
              "  }\n",
              "\n",
              "  .colab-df-quickchart:hover {\n",
              "    background-color: var(--hover-bg-color);\n",
              "    box-shadow: 0 1px 2px rgba(60, 64, 67, 0.3), 0 1px 3px 1px rgba(60, 64, 67, 0.15);\n",
              "    fill: var(--button-hover-fill-color);\n",
              "  }\n",
              "\n",
              "  .colab-df-quickchart-complete:disabled,\n",
              "  .colab-df-quickchart-complete:disabled:hover {\n",
              "    background-color: var(--disabled-bg-color);\n",
              "    fill: var(--disabled-fill-color);\n",
              "    box-shadow: none;\n",
              "  }\n",
              "\n",
              "  .colab-df-spinner {\n",
              "    border: 2px solid var(--fill-color);\n",
              "    border-color: transparent;\n",
              "    border-bottom-color: var(--fill-color);\n",
              "    animation:\n",
              "      spin 1s steps(1) infinite;\n",
              "  }\n",
              "\n",
              "  @keyframes spin {\n",
              "    0% {\n",
              "      border-color: transparent;\n",
              "      border-bottom-color: var(--fill-color);\n",
              "      border-left-color: var(--fill-color);\n",
              "    }\n",
              "    20% {\n",
              "      border-color: transparent;\n",
              "      border-left-color: var(--fill-color);\n",
              "      border-top-color: var(--fill-color);\n",
              "    }\n",
              "    30% {\n",
              "      border-color: transparent;\n",
              "      border-left-color: var(--fill-color);\n",
              "      border-top-color: var(--fill-color);\n",
              "      border-right-color: var(--fill-color);\n",
              "    }\n",
              "    40% {\n",
              "      border-color: transparent;\n",
              "      border-right-color: var(--fill-color);\n",
              "      border-top-color: var(--fill-color);\n",
              "    }\n",
              "    60% {\n",
              "      border-color: transparent;\n",
              "      border-right-color: var(--fill-color);\n",
              "    }\n",
              "    80% {\n",
              "      border-color: transparent;\n",
              "      border-right-color: var(--fill-color);\n",
              "      border-bottom-color: var(--fill-color);\n",
              "    }\n",
              "    90% {\n",
              "      border-color: transparent;\n",
              "      border-bottom-color: var(--fill-color);\n",
              "    }\n",
              "  }\n",
              "</style>\n",
              "\n",
              "  <script>\n",
              "    async function quickchart(key) {\n",
              "      const quickchartButtonEl =\n",
              "        document.querySelector('#' + key + ' button');\n",
              "      quickchartButtonEl.disabled = true;  // To prevent multiple clicks.\n",
              "      quickchartButtonEl.classList.add('colab-df-spinner');\n",
              "      try {\n",
              "        const charts = await google.colab.kernel.invokeFunction(\n",
              "            'suggestCharts', [key], {});\n",
              "      } catch (error) {\n",
              "        console.error('Error during call to suggestCharts:', error);\n",
              "      }\n",
              "      quickchartButtonEl.classList.remove('colab-df-spinner');\n",
              "      quickchartButtonEl.classList.add('colab-df-quickchart-complete');\n",
              "    }\n",
              "    (() => {\n",
              "      let quickchartButtonEl =\n",
              "        document.querySelector('#df-079d00c4-a9a5-43fa-9d9e-51fdc3f238c9 button');\n",
              "      quickchartButtonEl.style.display =\n",
              "        google.colab.kernel.accessAllowed ? 'block' : 'none';\n",
              "    })();\n",
              "  </script>\n",
              "</div>\n",
              "\n",
              "    </div>\n",
              "  </div>\n"
            ],
            "application/vnd.google.colaboratory.intrinsic+json": {
              "type": "dataframe",
              "variable_name": "S_mul",
              "summary": "{\n  \"name\": \"S_mul\",\n  \"rows\": 588,\n  \"fields\": [\n    {\n      \"column\": \"query_name\",\n      \"properties\": {\n        \"dtype\": \"category\",\n        \"num_unique_values\": 49,\n        \"samples\": [\n          \"query_386\",\n          \"query_447\",\n          \"query_425\"\n        ],\n        \"semantic_type\": \"\",\n        \"description\": \"\"\n      }\n    },\n    {\n      \"column\": \"timeout\",\n      \"properties\": {\n        \"dtype\": \"number\",\n        \"std\": 29995517,\n        \"min\": 60000,\n        \"max\": 60000000,\n        \"num_unique_values\": 2,\n        \"samples\": [\n          60000000,\n          60000\n        ],\n        \"semantic_type\": \"\",\n        \"description\": \"\"\n      }\n    },\n    {\n      \"column\": \"run\",\n      \"properties\": {\n        \"dtype\": \"category\",\n        \"num_unique_values\": 3,\n        \"samples\": [\n          \"run_1\",\n          \"run_2\"\n        ],\n        \"semantic_type\": \"\",\n        \"description\": \"\"\n      }\n    },\n    {\n      \"column\": \"cpus\",\n      \"properties\": {\n        \"dtype\": \"category\",\n        \"num_unique_values\": 2,\n        \"samples\": [\n          \"4-cpus\",\n          \"1-cpus\"\n        ],\n        \"semantic_type\": \"\",\n        \"description\": \"\"\n      }\n    },\n    {\n      \"column\": \"nb_quantum\",\n      \"properties\": {\n        \"dtype\": \"number\",\n        \"std\": 11,\n        \"min\": 1,\n        \"max\": 112,\n        \"num_unique_values\": 13,\n        \"samples\": [\n          112,\n          111\n        ],\n        \"semantic_type\": \"\",\n        \"description\": \"\"\n      }\n    },\n    {\n      \"column\": \"next_size(kb)\",\n      \"properties\": {\n        \"dtype\": \"number\",\n        \"std\": 18.143447614678394,\n        \"min\": 0.015625,\n        \"max\": 182.1591796875,\n        \"num_unique_values\": 202,\n        \"samples\": [\n          3.134765625,\n          2.720703125\n        ],\n        \"semantic_type\": \"\",\n        \"description\": \"\"\n      }\n    },\n    {\n      \"column\": \"execution_time(minutes)\",\n      \"properties\": {\n        \"dtype\": \"number\",\n        \"std\": 15.334598130850484,\n        \"min\": 0.3972140391667684,\n        \"max\": 113.01006698608398,\n        \"num_unique_values\": 588,\n        \"samples\": [\n          6.5296055436134335,\n          2.4731852889060972\n        ],\n        \"semantic_type\": \"\",\n        \"description\": \"\"\n      }\n    },\n    {\n      \"column\": \"nb_triples\",\n      \"properties\": {\n        \"dtype\": \"number\",\n        \"std\": 1,\n        \"min\": 2,\n        \"max\": 6,\n        \"num_unique_values\": 5,\n        \"samples\": [\n          3,\n          6\n        ],\n        \"semantic_type\": \"\",\n        \"description\": \"\"\n      }\n    }\n  ]\n}"
            }
          },
          "metadata": {},
          "execution_count": 10
        }
      ],
      "source": [
        "\n",
        "S_mul_1 = pd.read_csv(\"/content/drive/MyDrive/Continuation Queries/sage/report-wdbench-multiple-tps-1-cpus.csv\",delimiter=\",\")\n",
        "S_mul_4 = pd.read_csv(\"/content/drive/MyDrive/Continuation Queries/sage/report-wdbench-multiple-tps-4-cpus.csv\",delimiter=\",\")\n",
        "S_opt_1 = pd.read_csv(\"/content/drive/MyDrive/Continuation Queries/sage/report-wdbench-opts-1-cpus.csv\",delimiter=\",\")\n",
        "S_opt_4 = pd.read_csv(\"/content/drive/MyDrive/Continuation Queries/sage/report-wdbench-opts-4-cpus.csv\",delimiter=\",\")\n",
        "S_mul = pd.concat([S_mul_1, S_mul_4], ignore_index=True)\n",
        "S_opt = pd.concat([S_opt_1, S_opt_4], ignore_index=True)\n",
        "\n",
        "def clean(df):\n",
        "    df['next_size(kb)'] = df['next_size(kb)'].str.replace(' kb', '', regex=False).astype(float)\n",
        "    df['execution_time(sec)'] = df['execution_time(sec)'].str.replace(' sec', '', regex=False).astype(float)\n",
        "clean(S_mul)\n",
        "clean(S_opt)\n",
        "S_mul['execution_time(minutes)'] = S_mul['execution_time(sec)']/60\n",
        "S_opt['execution_time(minutes)'] = S_opt['execution_time(sec)']/60\n",
        "S_mul = S_mul.drop([\"execution_time(sec)\"],axis=1)\n",
        "S_opt = S_opt.drop([\"execution_time(sec)\"],axis=1)\n",
        "S_mul = S_mul.rename(columns={'run_id': 'run'})\n",
        "S_opt = S_opt.rename(columns={'run_id': 'run'})\n",
        "S_mul = pd.merge(S_mul, mul, on=[\"query_name\"], how='inner')\n",
        "S_opt = pd.merge(S_opt, opt, on=[\"query_name\"], how='inner')\n",
        "S_mul = S_mul.drop(columns = [\"nb_results_x\",\"nb_results_y\"],axis=1)\n",
        "S_opt = S_opt.drop(columns = [\"nb_results_x\",\"nb_results_y\"],axis=1)\n",
        "print(S_mul.shape)\n",
        "print(S_opt.shape)\n",
        "S_mul.head()"
      ]
    },
    {
      "cell_type": "code",
      "source": [
        "S_mul_1_60s = S_mul_1[S_mul_1['timeout'] == 60000]\n",
        "S_mul_4_60s = S_mul_4[S_mul_4['timeout'] == 60000]\n",
        "S_opt_1_60s = S_opt_1[S_opt_1['timeout'] == 60000]\n",
        "S_opt_4_60s = S_opt_4[S_opt_4['timeout'] == 60000]"
      ],
      "metadata": {
        "id": "yolrGJ7J1kP9"
      },
      "execution_count": null,
      "outputs": []
    },
    {
      "cell_type": "code",
      "source": [
        "S_mul_1_60s[S_mul_1_60s['nb_quantum'] != 1].groupby('query_name').agg({'nb_quantum': ['mean']}).sum()\n"
      ],
      "metadata": {
        "colab": {
          "base_uri": "https://localhost:8080/",
          "height": 115
        },
        "id": "6Ta17G2o1zO0",
        "outputId": "8a7ccdcf-6b4a-4259-ca5e-9a07b8faea62"
      },
      "execution_count": null,
      "outputs": [
        {
          "output_type": "execute_result",
          "data": {
            "text/plain": [
              "nb_quantum  mean    292.666667\n",
              "dtype: float64"
            ],
            "text/html": [
              "<div>\n",
              "<style scoped>\n",
              "    .dataframe tbody tr th:only-of-type {\n",
              "        vertical-align: middle;\n",
              "    }\n",
              "\n",
              "    .dataframe tbody tr th {\n",
              "        vertical-align: top;\n",
              "    }\n",
              "\n",
              "    .dataframe thead th {\n",
              "        text-align: right;\n",
              "    }\n",
              "</style>\n",
              "<table border=\"1\" class=\"dataframe\">\n",
              "  <thead>\n",
              "    <tr style=\"text-align: right;\">\n",
              "      <th></th>\n",
              "      <th></th>\n",
              "      <th>0</th>\n",
              "    </tr>\n",
              "  </thead>\n",
              "  <tbody>\n",
              "    <tr>\n",
              "      <th>nb_quantum</th>\n",
              "      <th>mean</th>\n",
              "      <td>292.666667</td>\n",
              "    </tr>\n",
              "  </tbody>\n",
              "</table>\n",
              "</div><br><label><b>dtype:</b> float64</label>"
            ]
          },
          "metadata": {},
          "execution_count": 116
        }
      ]
    },
    {
      "cell_type": "code",
      "source": [
        "S_mul_4_60s[S_mul_4_60s['nb_quantum'] != 1].groupby('query_name').agg({'nb_quantum': ['mean']}).sum()"
      ],
      "metadata": {
        "colab": {
          "base_uri": "https://localhost:8080/",
          "height": 115
        },
        "id": "L4XLL9cN1-6q",
        "outputId": "b532c770-99c6-4e1e-a8f7-b2716fe41896"
      },
      "execution_count": null,
      "outputs": [
        {
          "output_type": "execute_result",
          "data": {
            "text/plain": [
              "nb_quantum  mean    296.0\n",
              "dtype: float64"
            ],
            "text/html": [
              "<div>\n",
              "<style scoped>\n",
              "    .dataframe tbody tr th:only-of-type {\n",
              "        vertical-align: middle;\n",
              "    }\n",
              "\n",
              "    .dataframe tbody tr th {\n",
              "        vertical-align: top;\n",
              "    }\n",
              "\n",
              "    .dataframe thead th {\n",
              "        text-align: right;\n",
              "    }\n",
              "</style>\n",
              "<table border=\"1\" class=\"dataframe\">\n",
              "  <thead>\n",
              "    <tr style=\"text-align: right;\">\n",
              "      <th></th>\n",
              "      <th></th>\n",
              "      <th>0</th>\n",
              "    </tr>\n",
              "  </thead>\n",
              "  <tbody>\n",
              "    <tr>\n",
              "      <th>nb_quantum</th>\n",
              "      <th>mean</th>\n",
              "      <td>296.0</td>\n",
              "    </tr>\n",
              "  </tbody>\n",
              "</table>\n",
              "</div><br><label><b>dtype:</b> float64</label>"
            ]
          },
          "metadata": {},
          "execution_count": 117
        }
      ]
    },
    {
      "cell_type": "code",
      "source": [
        "S_opt_1_60s[S_opt_1_60s['nb_quantum'] != 1].groupby('query_name').agg({'nb_quantum': ['mean']}).sum()"
      ],
      "metadata": {
        "colab": {
          "base_uri": "https://localhost:8080/",
          "height": 115
        },
        "id": "HOmYu00C1zLi",
        "outputId": "4bb13ec3-60f5-41f7-f55a-c2ddc029bb04"
      },
      "execution_count": null,
      "outputs": [
        {
          "output_type": "execute_result",
          "data": {
            "text/plain": [
              "nb_quantum  mean    152.666667\n",
              "dtype: float64"
            ],
            "text/html": [
              "<div>\n",
              "<style scoped>\n",
              "    .dataframe tbody tr th:only-of-type {\n",
              "        vertical-align: middle;\n",
              "    }\n",
              "\n",
              "    .dataframe tbody tr th {\n",
              "        vertical-align: top;\n",
              "    }\n",
              "\n",
              "    .dataframe thead th {\n",
              "        text-align: right;\n",
              "    }\n",
              "</style>\n",
              "<table border=\"1\" class=\"dataframe\">\n",
              "  <thead>\n",
              "    <tr style=\"text-align: right;\">\n",
              "      <th></th>\n",
              "      <th></th>\n",
              "      <th>0</th>\n",
              "    </tr>\n",
              "  </thead>\n",
              "  <tbody>\n",
              "    <tr>\n",
              "      <th>nb_quantum</th>\n",
              "      <th>mean</th>\n",
              "      <td>152.666667</td>\n",
              "    </tr>\n",
              "  </tbody>\n",
              "</table>\n",
              "</div><br><label><b>dtype:</b> float64</label>"
            ]
          },
          "metadata": {},
          "execution_count": 118
        }
      ]
    },
    {
      "cell_type": "code",
      "source": [
        "S_opt_4_60s[S_opt_4_60s['nb_quantum'] != 1].groupby('query_name').agg({'nb_quantum': ['mean']}).sum()"
      ],
      "metadata": {
        "colab": {
          "base_uri": "https://localhost:8080/",
          "height": 115
        },
        "id": "KRR6EIdz2HUu",
        "outputId": "34f1a210-5692-4fc6-f75f-055de2cc922b"
      },
      "execution_count": null,
      "outputs": [
        {
          "output_type": "execute_result",
          "data": {
            "text/plain": [
              "nb_quantum  mean    153.666667\n",
              "dtype: float64"
            ],
            "text/html": [
              "<div>\n",
              "<style scoped>\n",
              "    .dataframe tbody tr th:only-of-type {\n",
              "        vertical-align: middle;\n",
              "    }\n",
              "\n",
              "    .dataframe tbody tr th {\n",
              "        vertical-align: top;\n",
              "    }\n",
              "\n",
              "    .dataframe thead th {\n",
              "        text-align: right;\n",
              "    }\n",
              "</style>\n",
              "<table border=\"1\" class=\"dataframe\">\n",
              "  <thead>\n",
              "    <tr style=\"text-align: right;\">\n",
              "      <th></th>\n",
              "      <th></th>\n",
              "      <th>0</th>\n",
              "    </tr>\n",
              "  </thead>\n",
              "  <tbody>\n",
              "    <tr>\n",
              "      <th>nb_quantum</th>\n",
              "      <th>mean</th>\n",
              "      <td>153.666667</td>\n",
              "    </tr>\n",
              "  </tbody>\n",
              "</table>\n",
              "</div><br><label><b>dtype:</b> float64</label>"
            ]
          },
          "metadata": {},
          "execution_count": 119
        }
      ]
    },
    {
      "cell_type": "code",
      "execution_count": null,
      "metadata": {
        "colab": {
          "base_uri": "https://localhost:8080/"
        },
        "id": "GT17hjHBL--h",
        "outputId": "b2aa3151-b9c6-4ebb-c64e-b65c92a85a18"
      },
      "outputs": [
        {
          "output_type": "stream",
          "name": "stdout",
          "text": [
            "(294, 8)\n",
            "(264, 10)\n",
            "(294, 7)\n",
            "(264, 9)\n"
          ]
        }
      ],
      "source": [
        "S_mul_60s = S_mul[S_mul['timeout'] == 60000]\n",
        "S_opt_60s = S_opt[S_opt['timeout'] == 60000]\n",
        "print(S_mul_60s.shape)\n",
        "print(S_opt_60s.shape)\n",
        "PS_mul_60s = PS_mul[PS_mul['timeout'] == 60000]\n",
        "PS_opt_60s = PS_opt[PS_opt['timeout'] == 60000]\n",
        "print(PS_mul_60s.shape)\n",
        "print(PS_opt_60s.shape)\n",
        "S_mul_60s = S_mul_60s.drop(columns = [\"timeout\"],axis=1)\n",
        "S_opt_60s = S_opt_60s.drop(columns = [\"timeout\"],axis=1)\n",
        "PS_mul_60s = PS_mul_60s.drop(columns = [\"timeout\"],axis=1)\n",
        "PS_opt_60s = PS_opt_60s.drop(columns = [\"timeout\"],axis=1)"
      ]
    },
    {
      "cell_type": "code",
      "execution_count": null,
      "metadata": {
        "colab": {
          "base_uri": "https://localhost:8080/"
        },
        "id": "w93FpLL7L-76",
        "outputId": "1158ec27-1d4c-4eac-d48e-8ba319b1fe0e"
      },
      "outputs": [
        {
          "output_type": "stream",
          "name": "stdout",
          "text": [
            "(294, 11)\n",
            "Index(['query_name', 'run', 'cpus', 'execution_time(minutes)_BG', 'nb_triples',\n",
            "       'execution_time(minutes)_JN', 'nb_pause_resume',\n",
            "       'execution_time(minutes)_PS_60s', 'nb_quantum', 'next_size(kb)',\n",
            "       'execution_time(minutes)_S_60s'],\n",
            "      dtype='object')\n"
          ]
        }
      ],
      "source": [
        "df_mul = pd.merge(BG_mul, JN_mul, on=[\"query_name\", \"run\", \"nb_triples\", \"cpus\"], how='inner', suffixes=('_BG', '_JN'))\n",
        "PS_mul_60s = PS_mul_60s.rename(columns={'execution_time(minutes)': 'execution_time(minutes)_PS_60s'})\n",
        "df_mul = pd.merge(df_mul, PS_mul_60s, on=[\"query_name\", \"run\", \"nb_triples\", \"cpus\"], how='inner')\n",
        "S_mul_60s = S_mul_60s.rename(columns={'execution_time(minutes)': 'execution_time(minutes)_S_60s'})\n",
        "df_mul = pd.merge(df_mul, S_mul_60s, on=[\"query_name\", \"run\", \"nb_triples\", \"cpus\"], how='inner')\n",
        "print(df_mul.shape)\n",
        "print(df_mul.columns)"
      ]
    },
    {
      "cell_type": "code",
      "execution_count": null,
      "metadata": {
        "colab": {
          "base_uri": "https://localhost:8080/"
        },
        "id": "6eCF6HBTL-5S",
        "outputId": "b1a5d156-f544-4ac9-aaa4-d5be193392c8"
      },
      "outputs": [
        {
          "output_type": "stream",
          "name": "stdout",
          "text": [
            "(264, 19)\n",
            "Index(['query_name', 'run', 'cpus', 'execution_time(minutes)_BG', 'nb_triples',\n",
            "       'nb_triple_opts_BG', 'nb_opts_BG', 'execution_time(minutes)_JN',\n",
            "       'nb_triple_opts_JN', 'nb_opts_JN', 'nb_pause_resume',\n",
            "       'execution_time(minutes)_PS_60s', 'nb_triple_opts_x', 'nb_opts_x',\n",
            "       'nb_quantum', 'next_size(kb)', 'execution_time(minutes)_S_60s',\n",
            "       'nb_triple_opts_y', 'nb_opts_y'],\n",
            "      dtype='object')\n"
          ]
        }
      ],
      "source": [
        "df_opt = pd.merge(BG_opt, JN_opt, on=[\"query_name\", \"run\", \"nb_triples\", \"cpus\"], how='inner', suffixes=('_BG', '_JN'))\n",
        "PS_opt_60s = PS_opt_60s.rename(columns={'execution_time(minutes)': 'execution_time(minutes)_PS_60s'})\n",
        "df_opt = pd.merge(df_opt, PS_opt_60s, on=[\"query_name\", \"run\", \"nb_triples\", \"cpus\"], how='inner')\n",
        "S_opt_60s = S_opt_60s.rename(columns={'execution_time(minutes)': 'execution_time(minutes)_S_60s'})\n",
        "df_opt = pd.merge(df_opt, S_opt_60s, on=[\"query_name\", \"run\", \"nb_triples\", \"cpus\"], how='inner')\n",
        "print(df_opt.shape)\n",
        "print(df_opt.columns)\n"
      ]
    },
    {
      "cell_type": "markdown",
      "metadata": {
        "id": "QRJJmI1oTGHC"
      },
      "source": [
        "### PLots"
      ]
    },
    {
      "cell_type": "code",
      "execution_count": null,
      "metadata": {
        "colab": {
          "base_uri": "https://localhost:8080/"
        },
        "id": "Low7iN7_L-2n",
        "outputId": "dcf938b0-8585-4130-f6d2-3b22e741ed0f"
      },
      "outputs": [
        {
          "output_type": "stream",
          "name": "stdout",
          "text": [
            "(147, 11)\n",
            "(147, 11)\n",
            "(132, 19)\n",
            "(132, 19)\n"
          ]
        }
      ],
      "source": [
        "df_mul_1_all = df_mul[df_mul['cpus'] == '1-cpus']\n",
        "df_mul_4_all = df_mul[df_mul['cpus'] == '4-cpus']\n",
        "df_opt_1_all = df_opt[df_opt['cpus'] == '1-cpus']\n",
        "df_opt_4_all = df_opt[df_opt['cpus'] == '4-cpus']\n",
        "print(df_mul_1_all.shape)\n",
        "print(df_mul_4_all.shape)\n",
        "print(df_opt_1_all.shape)\n",
        "print(df_opt_4_all.shape)"
      ]
    },
    {
      "cell_type": "markdown",
      "metadata": {
        "id": "tsxlLdqHTv-t"
      },
      "source": [
        "#### just doucble check for sure!"
      ]
    },
    {
      "cell_type": "code",
      "execution_count": null,
      "metadata": {
        "colab": {
          "base_uri": "https://localhost:8080/"
        },
        "id": "IE_YjMY_TdxR",
        "outputId": "74f89f16-267d-42f0-c650-42b76fb3feb1"
      },
      "outputs": [
        {
          "output_type": "stream",
          "name": "stdout",
          "text": [
            "49\n",
            "49\n",
            "44\n",
            "44\n"
          ]
        }
      ],
      "source": [
        "print(len(df_mul_1_all['query_name'].unique()))\n",
        "print(len(df_mul_4_all['query_name'].unique()))\n",
        "print(len(df_opt_1_all['query_name'].unique()))\n",
        "print(len(df_opt_4_all['query_name'].unique()))"
      ]
    },
    {
      "cell_type": "code",
      "execution_count": null,
      "metadata": {
        "id": "xDfnPnZQPFkK"
      },
      "outputs": [],
      "source": [
        "import numpy as np\n",
        "import matplotlib.pyplot as plt\n",
        "import matplotlib.colors as mcolors\n",
        "\n",
        "def plot_execution_times_grouped_by_triples(df,bb):\n",
        "    # Calculate mean and standard deviation for each group\n",
        "    stats = df.groupby([\"query_name\", \"nb_triples\"], as_index=False).agg({\n",
        "        \"execution_time(minutes)_BG\": ['mean', 'std'],\n",
        "        \"execution_time(minutes)_PS_60s\": ['mean', 'std'],\n",
        "        \"execution_time(minutes)_S_60s\": ['mean', 'std'],\n",
        "        \"execution_time(minutes)_JN\": ['mean', 'std']\n",
        "    })\n",
        "\n",
        "    # Flatten the MultiIndex columns\n",
        "    stats.columns = ['query_name', 'nb_triples',\n",
        "                     'execution_time_BG_mean', 'execution_time_BG_std',\n",
        "                     'execution_time_PS_60s_mean', 'execution_time_PS_60s_std',\n",
        "                     'execution_time_S_60s_mean', 'execution_time_S_60s_std',\n",
        "                     'execution_time_JN_mean', 'execution_time_JN_std']\n",
        "\n",
        "    # Limit execution times to 10 minutes\n",
        "    for col in ['execution_time_BG_mean', 'execution_time_PS_60s_mean',\n",
        "                'execution_time_S_60s_mean', 'execution_time_JN_mean']:\n",
        "        stats.loc[stats[col] > 10, [col, col.replace('_mean', '_std')]] = [10, 0]\n",
        "\n",
        "    # Sort values by 'nb_triples' and then by Blazegraph execution time\n",
        "    stats.sort_values(by=['nb_triples', 'execution_time_BG_mean'], inplace=True)\n",
        "    stats.reset_index(drop=True, inplace=True)\n",
        "\n",
        "    # Adjust bar width and gaps\n",
        "    bar_width = 0.2  # Decrease bar width to make bars narrower\n",
        "    scale = 0.75\n",
        "    fontsize = 12\n",
        "    fig, ax = plt.subplots(figsize=(20 * scale, 6 * scale))\n",
        "\n",
        "    # Create a list of positions with gaps between groups\n",
        "    gap_between_groups = 1.4  # Adjust gap between groups\n",
        "    gap_within_group = 1    # Increase gap between bars within groups\n",
        "    triples_groups = stats['nb_triples'].unique()\n",
        "    positions = []\n",
        "    group_centers = []\n",
        "    current_pos = 0\n",
        "    query_positions = {}\n",
        "\n",
        "    for i, triples in enumerate(triples_groups):\n",
        "        group_df = stats[stats['nb_triples'] == triples]\n",
        "        group_size = len(group_df)\n",
        "        group_positions = np.arange(current_pos, current_pos + group_size * gap_within_group, gap_within_group)\n",
        "        positions.extend(group_positions)\n",
        "        group_centers.append((group_positions[0] + group_positions[-1]) / 2)\n",
        "        current_pos = group_positions[-1] + gap_between_groups\n",
        "\n",
        "        # Store positions for each query\n",
        "        for j, query in enumerate(group_df['query_name']):\n",
        "            query_positions[query] = group_positions[j]\n",
        "\n",
        "        # Add shading to differentiate groups\n",
        "        if i % 2 != 0:\n",
        "            ax.axvspan(group_positions[0] - bar_width * 3, group_positions[-1] + bar_width * 3, facecolor='lightgrey', alpha=0.25)\n",
        "\n",
        "    # Plot bars with error bars\n",
        "    methods = [\n",
        "        ('blazegraph', 'execution_time_BG_mean', 'execution_time_BG_std', mcolors.CSS4_COLORS['deepskyblue']),\n",
        "        ('passage 60s', 'execution_time_PS_60s_mean', 'execution_time_PS_60s_std', mcolors.CSS4_COLORS['green']),\n",
        "        ('sage 60s', 'execution_time_S_60s_mean', 'execution_time_S_60s_std', mcolors.CSS4_COLORS['orchid']),\n",
        "        ('jena', 'execution_time_JN_mean', 'execution_time_JN_std', mcolors.CSS4_COLORS['red'])\n",
        "    ]\n",
        "\n",
        "    offsets = [-1.5 * bar_width, -0.5 * bar_width, 0.5 * bar_width, 1.5 * bar_width]\n",
        "\n",
        "    for offset, (label, mean_col, std_col, color) in zip(offsets, methods):\n",
        "        x_positions = [query_positions[q] + offset for q in stats['query_name']]\n",
        "        means = stats[mean_col]\n",
        "        stds = stats[std_col]\n",
        "        ax.bar(x_positions, means, bar_width,\n",
        "               yerr=stds, label=label, color=color, alpha=0.4,\n",
        "               error_kw=dict(capsize=0, ecolor='black', linewidth=1.5,alpha=0.6))\n",
        "\n",
        "        # Add 'timeout' labels where the mean is 10 (since we capped at 10)\n",
        "        for x_pos, mean in zip(x_positions, means):\n",
        "            if mean == 10:\n",
        "                ax.text(x_pos, mean + 0.02, 't', ha='center', va='bottom', fontsize=8, color='red', fontweight='bold')\n",
        "\n",
        "    # Add labels for each number of triples group\n",
        "    for i, triples in enumerate(triples_groups):\n",
        "        x_pos = group_centers[i]\n",
        "        ax.text(x_pos, 1.02 * ax.get_ylim()[1], f\"{int(triples)} tps\", ha='center', va='center', fontsize=fontsize-4)\n",
        "\n",
        "    # Replace 'query_' with 'q' in the 'query_name' column for display purposes\n",
        "    stats['query_name_short'] = stats['query_name'].str.replace('query_', 'q')\n",
        "\n",
        "    # Set x-ticks and labels using the shortened query names\n",
        "    ax.set_xticks([query_positions[q] for q in stats['query_name']])\n",
        "    ax.set_xticklabels(stats['query_name_short'], rotation=90, fontsize=8)\n",
        "\n",
        "\n",
        "    # Set y-axis limits and labels\n",
        "    max_time = stats[[col for col in stats.columns if 'mean' in col]].max().max()\n",
        "    ax.set_ylim(0, max_time * 1.05)\n",
        "    ax.set_yticks(np.arange(0, max_time * 1.05, 1))\n",
        "    ax.set_ylabel(\"execution time (minutes)\", fontsize=fontsize-2)\n",
        "    ax.tick_params(axis='both', length=1, width=0.5)\n",
        "    # Set x-axis limits to decrease whitespace\n",
        "    ax.set_xlim(positions[0] - bar_width * 3, positions[-1] + bar_width * 3)\n",
        "\n",
        "    # Add legend\n",
        "    ax.legend(loc='upper center', fontsize=9, bbox_to_anchor=bb, ncol=1)\n",
        "\n",
        "    # Add grid\n",
        "    ax.grid(True, linestyle='dashed', linewidth=0.37, axis='y')\n",
        "    ax.axhline(y=1, color='red', linestyle='--', linewidth=0.7)\n",
        "    for spine in ax.spines.values():\n",
        "        spine.set_alpha(0.3)\n",
        "    # Adjust layout\n",
        "    plt.tight_layout()\n",
        "\n",
        "    plt.show()\n"
      ]
    },
    {
      "cell_type": "markdown",
      "metadata": {
        "id": "H51MUXUFrM3u"
      },
      "source": [
        "### Multiple triple patterns - 1vCPU\n",
        "\n",
        "> Add blockquote\n",
        "\n"
      ]
    },
    {
      "cell_type": "code",
      "execution_count": null,
      "metadata": {
        "colab": {
          "base_uri": "https://localhost:8080/",
          "height": 434
        },
        "id": "Nr8riq8Zv8Sw",
        "outputId": "7bcb3373-878d-45eb-cb2c-6dc063f1f640"
      },
      "outputs": [
        {
          "output_type": "display_data",
          "data": {
            "text/plain": [
              "<Figure size 1500x450 with 1 Axes>"
            ],
            "image/png": "[encoded data removed]"
          },
          "metadata": {}
        }
      ],
      "source": [
        "plot_execution_times_grouped_by_triples(df_mul_1_all,(0.045, 1.01))\n"
      ]
    },
    {
      "cell_type": "markdown",
      "metadata": {
        "id": "kkJ8lFEe90PM"
      },
      "source": [
        "\n",
        "### Multiple triple patterns - 4vCPU"
      ]
    },
    {
      "cell_type": "code",
      "execution_count": null,
      "metadata": {
        "colab": {
          "base_uri": "https://localhost:8080/",
          "height": 143
        },
        "id": "wUMBk2kPbX5k",
        "outputId": "8843009c-8f77-4f1f-9d91-2b5d236afd99"
      },
      "outputs": [
        {
          "output_type": "execute_result",
          "data": {
            "text/plain": [
              "   query_name    run    cpus  nb_results  execution_time(ms)\n",
              "78   query_14  run_1  1-cpus     2525063              147927\n",
              "79   query_14  run_2  1-cpus     2525063              101134\n",
              "80   query_14  run_3  1-cpus     2525063              105210"
            ],
            "text/html": [
              "\n",
              "  <div id=\"df-397138a2-3909-447c-8508-98c0bef8c7e3\" class=\"colab-df-container\">\n",
              "    <div>\n",
              "<style scoped>\n",
              "    .dataframe tbody tr th:only-of-type {\n",
              "        vertical-align: middle;\n",
              "    }\n",
              "\n",
              "    .dataframe tbody tr th {\n",
              "        vertical-align: top;\n",
              "    }\n",
              "\n",
              "    .dataframe thead th {\n",
              "        text-align: right;\n",
              "    }\n",
              "</style>\n",
              "<table border=\"1\" class=\"dataframe\">\n",
              "  <thead>\n",
              "    <tr style=\"text-align: right;\">\n",
              "      <th></th>\n",
              "      <th>query_name</th>\n",
              "      <th>run</th>\n",
              "      <th>cpus</th>\n",
              "      <th>nb_results</th>\n",
              "      <th>execution_time(ms)</th>\n",
              "    </tr>\n",
              "  </thead>\n",
              "  <tbody>\n",
              "    <tr>\n",
              "      <th>78</th>\n",
              "      <td>query_14</td>\n",
              "      <td>run_1</td>\n",
              "      <td>1-cpus</td>\n",
              "      <td>2525063</td>\n",
              "      <td>147927</td>\n",
              "    </tr>\n",
              "    <tr>\n",
              "      <th>79</th>\n",
              "      <td>query_14</td>\n",
              "      <td>run_2</td>\n",
              "      <td>1-cpus</td>\n",
              "      <td>2525063</td>\n",
              "      <td>101134</td>\n",
              "    </tr>\n",
              "    <tr>\n",
              "      <th>80</th>\n",
              "      <td>query_14</td>\n",
              "      <td>run_3</td>\n",
              "      <td>1-cpus</td>\n",
              "      <td>2525063</td>\n",
              "      <td>105210</td>\n",
              "    </tr>\n",
              "  </tbody>\n",
              "</table>\n",
              "</div>\n",
              "    <div class=\"colab-df-buttons\">\n",
              "\n",
              "  <div class=\"colab-df-container\">\n",
              "    <button class=\"colab-df-convert\" onclick=\"convertToInteractive('df-397138a2-3909-447c-8508-98c0bef8c7e3')\"\n",
              "            title=\"Convert this dataframe to an interactive table.\"\n",
              "            style=\"display:none;\">\n",
              "\n",
              "  <svg xmlns=\"http://www.w3.org/2000/svg\" height=\"24px\" viewBox=\"0 -960 960 960\">\n",
              "    <path d=\"M120-120v-720h720v720H120Zm60-500h600v-160H180v160Zm220 220h160v-160H400v160Zm0 220h160v-160H400v160ZM180-400h160v-160H180v160Zm440 0h160v-160H620v160ZM180-180h160v-160H180v160Zm440 0h160v-160H620v160Z\"/>\n",
              "  </svg>\n",
              "    </button>\n",
              "\n",
              "  <style>\n",
              "    .colab-df-container {\n",
              "      display:flex;\n",
              "      gap: 12px;\n",
              "    }\n",
              "\n",
              "    .colab-df-convert {\n",
              "      background-color: #E8F0FE;\n",
              "      border: none;\n",
              "      border-radius: 50%;\n",
              "      cursor: pointer;\n",
              "      display: none;\n",
              "      fill: #1967D2;\n",
              "      height: 32px;\n",
              "      padding: 0 0 0 0;\n",
              "      width: 32px;\n",
              "    }\n",
              "\n",
              "    .colab-df-convert:hover {\n",
              "      background-color: #E2EBFA;\n",
              "      box-shadow: 0px 1px 2px rgba(60, 64, 67, 0.3), 0px 1px 3px 1px rgba(60, 64, 67, 0.15);\n",
              "      fill: #174EA6;\n",
              "    }\n",
              "\n",
              "    .colab-df-buttons div {\n",
              "      margin-bottom: 4px;\n",
              "    }\n",
              "\n",
              "    [theme=dark] .colab-df-convert {\n",
              "      background-color: #3B4455;\n",
              "      fill: #D2E3FC;\n",
              "    }\n",
              "\n",
              "    [theme=dark] .colab-df-convert:hover {\n",
              "      background-color: #434B5C;\n",
              "      box-shadow: 0px 1px 3px 1px rgba(0, 0, 0, 0.15);\n",
              "      filter: drop-shadow(0px 1px 2px rgba(0, 0, 0, 0.3));\n",
              "      fill: #FFFFFF;\n",
              "    }\n",
              "  </style>\n",
              "\n",
              "    <script>\n",
              "      const buttonEl =\n",
              "        document.querySelector('#df-397138a2-3909-447c-8508-98c0bef8c7e3 button.colab-df-convert');\n",
              "      buttonEl.style.display =\n",
              "        google.colab.kernel.accessAllowed ? 'block' : 'none';\n",
              "\n",
              "      async function convertToInteractive(key) {\n",
              "        const element = document.querySelector('#df-397138a2-3909-447c-8508-98c0bef8c7e3');\n",
              "        const dataTable =\n",
              "          await google.colab.kernel.invokeFunction('convertToInteractive',\n",
              "                                                    [key], {});\n",
              "        if (!dataTable) return;\n",
              "\n",
              "        const docLinkHtml = 'Like what you see? Visit the ' +\n",
              "          '<a target=\"_blank\" href=https://colab.research.google.com/notebooks/data_table.ipynb>data table notebook</a>'\n",
              "          + ' to learn more about interactive tables.';\n",
              "        element.innerHTML = '';\n",
              "        dataTable['output_type'] = 'display_data';\n",
              "        await google.colab.output.renderOutput(dataTable, element);\n",
              "        const docLink = document.createElement('div');\n",
              "        docLink.innerHTML = docLinkHtml;\n",
              "        element.appendChild(docLink);\n",
              "      }\n",
              "    </script>\n",
              "  </div>\n",
              "\n",
              "\n",
              "<div id=\"df-7f801659-5f49-42d7-a6f7-51e2ea35eb15\">\n",
              "  <button class=\"colab-df-quickchart\" onclick=\"quickchart('df-7f801659-5f49-42d7-a6f7-51e2ea35eb15')\"\n",
              "            title=\"Suggest charts\"\n",
              "            style=\"display:none;\">\n",
              "\n",
              "<svg xmlns=\"http://www.w3.org/2000/svg\" height=\"24px\"viewBox=\"0 0 24 24\"\n",
              "     width=\"24px\">\n",
              "    <g>\n",
              "        <path d=\"M19 3H5c-1.1 0-2 .9-2 2v14c0 1.1.9 2 2 2h14c1.1 0 2-.9 2-2V5c0-1.1-.9-2-2-2zM9 17H7v-7h2v7zm4 0h-2V7h2v10zm4 0h-2v-4h2v4z\"/>\n",
              "    </g>\n",
              "</svg>\n",
              "  </button>\n",
              "\n",
              "<style>\n",
              "  .colab-df-quickchart {\n",
              "      --bg-color: #E8F0FE;\n",
              "      --fill-color: #1967D2;\n",
              "      --hover-bg-color: #E2EBFA;\n",
              "      --hover-fill-color: #174EA6;\n",
              "      --disabled-fill-color: #AAA;\n",
              "      --disabled-bg-color: #DDD;\n",
              "  }\n",
              "\n",
              "  [theme=dark] .colab-df-quickchart {\n",
              "      --bg-color: #3B4455;\n",
              "      --fill-color: #D2E3FC;\n",
              "      --hover-bg-color: #434B5C;\n",
              "      --hover-fill-color: #FFFFFF;\n",
              "      --disabled-bg-color: #3B4455;\n",
              "      --disabled-fill-color: #666;\n",
              "  }\n",
              "\n",
              "  .colab-df-quickchart {\n",
              "    background-color: var(--bg-color);\n",
              "    border: none;\n",
              "    border-radius: 50%;\n",
              "    cursor: pointer;\n",
              "    display: none;\n",
              "    fill: var(--fill-color);\n",
              "    height: 32px;\n",
              "    padding: 0;\n",
              "    width: 32px;\n",
              "  }\n",
              "\n",
              "  .colab-df-quickchart:hover {\n",
              "    background-color: var(--hover-bg-color);\n",
              "    box-shadow: 0 1px 2px rgba(60, 64, 67, 0.3), 0 1px 3px 1px rgba(60, 64, 67, 0.15);\n",
              "    fill: var(--button-hover-fill-color);\n",
              "  }\n",
              "\n",
              "  .colab-df-quickchart-complete:disabled,\n",
              "  .colab-df-quickchart-complete:disabled:hover {\n",
              "    background-color: var(--disabled-bg-color);\n",
              "    fill: var(--disabled-fill-color);\n",
              "    box-shadow: none;\n",
              "  }\n",
              "\n",
              "  .colab-df-spinner {\n",
              "    border: 2px solid var(--fill-color);\n",
              "    border-color: transparent;\n",
              "    border-bottom-color: var(--fill-color);\n",
              "    animation:\n",
              "      spin 1s steps(1) infinite;\n",
              "  }\n",
              "\n",
              "  @keyframes spin {\n",
              "    0% {\n",
              "      border-color: transparent;\n",
              "      border-bottom-color: var(--fill-color);\n",
              "      border-left-color: var(--fill-color);\n",
              "    }\n",
              "    20% {\n",
              "      border-color: transparent;\n",
              "      border-left-color: var(--fill-color);\n",
              "      border-top-color: var(--fill-color);\n",
              "    }\n",
              "    30% {\n",
              "      border-color: transparent;\n",
              "      border-left-color: var(--fill-color);\n",
              "      border-top-color: var(--fill-color);\n",
              "      border-right-color: var(--fill-color);\n",
              "    }\n",
              "    40% {\n",
              "      border-color: transparent;\n",
              "      border-right-color: var(--fill-color);\n",
              "      border-top-color: var(--fill-color);\n",
              "    }\n",
              "    60% {\n",
              "      border-color: transparent;\n",
              "      border-right-color: var(--fill-color);\n",
              "    }\n",
              "    80% {\n",
              "      border-color: transparent;\n",
              "      border-right-color: var(--fill-color);\n",
              "      border-bottom-color: var(--fill-color);\n",
              "    }\n",
              "    90% {\n",
              "      border-color: transparent;\n",
              "      border-bottom-color: var(--fill-color);\n",
              "    }\n",
              "  }\n",
              "</style>\n",
              "\n",
              "  <script>\n",
              "    async function quickchart(key) {\n",
              "      const quickchartButtonEl =\n",
              "        document.querySelector('#' + key + ' button');\n",
              "      quickchartButtonEl.disabled = true;  // To prevent multiple clicks.\n",
              "      quickchartButtonEl.classList.add('colab-df-spinner');\n",
              "      try {\n",
              "        const charts = await google.colab.kernel.invokeFunction(\n",
              "            'suggestCharts', [key], {});\n",
              "      } catch (error) {\n",
              "        console.error('Error during call to suggestCharts:', error);\n",
              "      }\n",
              "      quickchartButtonEl.classList.remove('colab-df-spinner');\n",
              "      quickchartButtonEl.classList.add('colab-df-quickchart-complete');\n",
              "    }\n",
              "    (() => {\n",
              "      let quickchartButtonEl =\n",
              "        document.querySelector('#df-7f801659-5f49-42d7-a6f7-51e2ea35eb15 button');\n",
              "      quickchartButtonEl.style.display =\n",
              "        google.colab.kernel.accessAllowed ? 'block' : 'none';\n",
              "    })();\n",
              "  </script>\n",
              "</div>\n",
              "\n",
              "    </div>\n",
              "  </div>\n"
            ],
            "application/vnd.google.colaboratory.intrinsic+json": {
              "type": "dataframe",
              "summary": "{\n  \"name\": \"BG_mul_1[BG_mul_1['query_name'] == 'query_14']\",\n  \"rows\": 3,\n  \"fields\": [\n    {\n      \"column\": \"query_name\",\n      \"properties\": {\n        \"dtype\": \"category\",\n        \"num_unique_values\": 1,\n        \"samples\": [\n          \"query_14\"\n        ],\n        \"semantic_type\": \"\",\n        \"description\": \"\"\n      }\n    },\n    {\n      \"column\": \"run\",\n      \"properties\": {\n        \"dtype\": \"string\",\n        \"num_unique_values\": 3,\n        \"samples\": [\n          \"run_1\"\n        ],\n        \"semantic_type\": \"\",\n        \"description\": \"\"\n      }\n    },\n    {\n      \"column\": \"cpus\",\n      \"properties\": {\n        \"dtype\": \"category\",\n        \"num_unique_values\": 1,\n        \"samples\": [\n          \"1-cpus\"\n        ],\n        \"semantic_type\": \"\",\n        \"description\": \"\"\n      }\n    },\n    {\n      \"column\": \"nb_results\",\n      \"properties\": {\n        \"dtype\": \"number\",\n        \"std\": 0,\n        \"min\": 2525063,\n        \"max\": 2525063,\n        \"num_unique_values\": 1,\n        \"samples\": [\n          2525063\n        ],\n        \"semantic_type\": \"\",\n        \"description\": \"\"\n      }\n    },\n    {\n      \"column\": \"execution_time(ms)\",\n      \"properties\": {\n        \"dtype\": \"number\",\n        \"std\": 25919,\n        \"min\": 101134,\n        \"max\": 147927,\n        \"num_unique_values\": 3,\n        \"samples\": [\n          147927\n        ],\n        \"semantic_type\": \"\",\n        \"description\": \"\"\n      }\n    }\n  ]\n}"
            }
          },
          "metadata": {},
          "execution_count": 120
        }
      ],
      "source": [
        "# Check for specific query name\n",
        "BG_mul_1[BG_mul_1['query_name'] == 'query_14']"
      ]
    },
    {
      "cell_type": "code",
      "execution_count": null,
      "metadata": {
        "colab": {
          "base_uri": "https://localhost:8080/",
          "height": 434
        },
        "id": "GdHqsa2Vv_ur",
        "outputId": "357601ff-2ddf-47ab-d277-de456c9093e0"
      },
      "outputs": [
        {
          "output_type": "display_data",
          "data": {
            "text/plain": [
              "<Figure size 1500x450 with 1 Axes>"
            ],
            "image/png": "[encoded data removed]"
          },
          "metadata": {}
        }
      ],
      "source": [
        "plot_execution_times_grouped_by_triples(df_mul_4_all,(0.045, 1.01))"
      ]
    },
    {
      "cell_type": "markdown",
      "metadata": {
        "id": "se7oWFaI978Q"
      },
      "source": [
        "### OPTIONAL Queries with 1 vCPU"
      ]
    },
    {
      "cell_type": "code",
      "execution_count": null,
      "metadata": {
        "id": "eqkD0zRW-Aju"
      },
      "outputs": [],
      "source": [
        "## new version Blazegraph => delete some query that not pass 1 minute!\n",
        "queries_to_exclude = ['query_42', 'query_44', 'query_278','query_267','query_116','query_115']\n",
        "df_opt_1_all = df_opt_1_all[~df_opt_1_all['query_name'].isin(queries_to_exclude)]\n",
        "df_opt_1_all = df_opt_1_all.reset_index(drop=True)\n",
        "df_opt_4_all = df_opt_4_all[~df_opt_4_all['query_name'].isin(queries_to_exclude)]\n",
        "df_opt_4_all = df_opt_4_all.reset_index(drop=True)"
      ]
    },
    {
      "cell_type": "code",
      "execution_count": null,
      "metadata": {
        "colab": {
          "base_uri": "https://localhost:8080/",
          "height": 434
        },
        "id": "LP49B82YwEsA",
        "outputId": "fd43b7a5-8eb6-4819-c438-a668667f1470"
      },
      "outputs": [
        {
          "output_type": "display_data",
          "data": {
            "text/plain": [
              "<Figure size 1500x450 with 1 Axes>"
            ],
            "image/png": "[encoded data removed]"
          },
          "metadata": {}
        }
      ],
      "source": [
        "plot_execution_times_grouped_by_triples(df_opt_1_all,(0.045, 1.01) )"
      ]
    },
    {
      "cell_type": "markdown",
      "metadata": {
        "id": "1UDYdcux926q"
      },
      "source": [
        "### OPTIONAL Queries with 4 vCPU"
      ]
    },
    {
      "cell_type": "code",
      "execution_count": null,
      "metadata": {
        "colab": {
          "base_uri": "https://localhost:8080/",
          "height": 434
        },
        "id": "_6UjAsm8wF2b",
        "outputId": "445576fc-eae3-4bfd-81be-62d8b4adce4f"
      },
      "outputs": [
        {
          "output_type": "display_data",
          "data": {
            "text/plain": [
              "<Figure size 1500x450 with 1 Axes>"
            ],
            "image/png": "[encoded data removed]"
          },
          "metadata": {}
        }
      ],
      "source": [
        "plot_execution_times_grouped_by_triples(df_opt_4_all,(0.045, 1.01))"
      ]
    },
    {
      "cell_type": "markdown",
      "metadata": {
        "id": "TNqTnpmMEN7p"
      },
      "source": [
        "## Aggregate results"
      ]
    },
    {
      "cell_type": "code",
      "execution_count": null,
      "metadata": {
        "id": "P7GgMSn5EVgC"
      },
      "outputs": [],
      "source": [
        "#filter out queries _exclude in OPTS\n",
        "PS_opt = PS_opt[~PS_opt['query_name'].isin(queries_to_exclude)]\n",
        "PS_opt = PS_opt.reset_index(drop=True)\n",
        "S_opt = S_opt[~S_opt['query_name'].isin(queries_to_exclude)]\n",
        "S_opt = S_opt.reset_index(drop=True)\n",
        "BG_opt = BG_opt[~BG_opt['query_name'].isin(queries_to_exclude)]\n",
        "BG_opt = BG_opt.reset_index(drop=True)\n",
        "JN_opt = JN_opt[~JN_opt['query_name'].isin(queries_to_exclude)]\n",
        "JN_opt = JN_opt.reset_index(drop=True)\n"
      ]
    },
    {
      "cell_type": "code",
      "execution_count": null,
      "metadata": {
        "id": "WbyaVy70U88o"
      },
      "outputs": [],
      "source": [
        "PS_mul_60s = PS_mul[PS_mul['timeout'] == 60000]\n",
        "PS_opt_60s = PS_opt[PS_opt['timeout'] == 60000]\n",
        "PS_mul_notimeout = PS_mul[PS_mul['timeout'] != 60000]\n",
        "PS_opt_notimeout = PS_opt[PS_opt['timeout'] != 60000]\n",
        "S_mul_60s = S_mul[S_mul['timeout'] == 60000]\n",
        "S_opt_60s = S_opt[S_opt['timeout'] == 60000]\n",
        "S_mul_notimeout = S_mul[S_mul['timeout'] != 60000]\n",
        "S_opt_notimeout = S_opt[S_opt['timeout'] != 60000]"
      ]
    },
    {
      "cell_type": "code",
      "execution_count": null,
      "metadata": {
        "id": "qmBOFTZCU86O"
      },
      "outputs": [],
      "source": [
        "\n",
        "PS_mul_60s = PS_mul_60s.rename(columns={'execution_time(minutes)': 'execution_time(minutes)_PS_60s'})\n",
        "PS_mul_notimeout = PS_mul_notimeout.rename(columns={'execution_time(minutes)': 'execution_time(minutes)_PS_notimeout'})\n",
        "S_mul_60s = S_mul_60s.rename(columns={'execution_time(minutes)': 'execution_time(minutes)_S_60s'})\n",
        "S_mul_notimeout = S_mul_notimeout.rename(columns={'execution_time(minutes)': 'execution_time(minutes)_S_notimeout'})\n"
      ]
    },
    {
      "cell_type": "code",
      "execution_count": null,
      "metadata": {
        "id": "Wesr-BGcihfi"
      },
      "outputs": [],
      "source": [
        "PS_opt_60s = PS_opt_60s.rename(columns={'execution_time(minutes)': 'execution_time(minutes)_PS_60s'})\n",
        "PS_opt_notimeout = PS_opt_notimeout.rename(columns={'execution_time(minutes)': 'execution_time(minutes)_PS_notimeout'})\n",
        "S_opt_60s = S_opt_60s.rename(columns={'execution_time(minutes)': 'execution_time(minutes)_S_60s'})\n",
        "S_opt_notimeout = S_opt_notimeout.rename(columns={'execution_time(minutes)': 'execution_time(minutes)_S_notimeout'})"
      ]
    },
    {
      "cell_type": "code",
      "execution_count": null,
      "metadata": {
        "colab": {
          "base_uri": "https://localhost:8080/"
        },
        "id": "Cx-LAlo9U83c",
        "outputId": "9a7ab553-de7d-4614-f980-6c78147c47a3"
      },
      "outputs": [
        {
          "output_type": "stream",
          "name": "stdout",
          "text": [
            "(294, 18)\n",
            "Index(['query_name', 'run', 'cpus', 'execution_time(minutes)_BG', 'nb_triples',\n",
            "       'execution_time(minutes)_JN', 'nb_pause_resume_PS_60s',\n",
            "       'execution_time(minutes)_PS_60s', 'nb_pause_resume_PS',\n",
            "       'execution_time(minutes)_PS_notimeout', 'timeout_x', 'nb_quantum_x',\n",
            "       'next_size(kb)_x', 'execution_time(minutes)_S_60s', 'timeout_y',\n",
            "       'nb_quantum_y', 'next_size(kb)_y',\n",
            "       'execution_time(minutes)_S_notimeout'],\n",
            "      dtype='object')\n"
          ]
        }
      ],
      "source": [
        "df_mul = pd.merge(BG_mul, JN_mul, on=[\"query_name\", \"run\", \"nb_triples\", \"cpus\"], how='inner', suffixes=('_BG', '_JN'))\n",
        "df_mul = pd.merge(df_mul, PS_mul_60s, on=[\"query_name\", \"run\", \"nb_triples\", \"cpus\"], how='inner')\n",
        "df_mul = pd.merge(df_mul, PS_mul_notimeout, on=[\"query_name\", \"run\", \"nb_triples\", \"cpus\"], how='inner')\n",
        "df_mul = pd.merge(df_mul, S_mul_60s, on=[\"query_name\", \"run\", \"nb_triples\", \"cpus\"], how='inner')\n",
        "df_mul = df_mul.drop(columns = [\"timeout_x\",\"timeout_y\"],axis=1)\n",
        "df_mul = df_mul.rename(columns={'nb_pause_resume_x': 'nb_pause_resume_PS_60s','nb_pause_resume_y': 'nb_pause_resume_PS'})\n",
        "df_mul = pd.merge(df_mul, S_mul_notimeout, on=[\"query_name\", \"run\", \"nb_triples\", \"cpus\"], how='inner')\n",
        "print(df_mul.shape)\n",
        "print(df_mul.columns)"
      ]
    },
    {
      "cell_type": "code",
      "execution_count": null,
      "metadata": {
        "colab": {
          "base_uri": "https://localhost:8080/"
        },
        "id": "KA6JVxTSiqhg",
        "outputId": "dff1968a-df18-4fb1-b4ce-53616deb03df"
      },
      "outputs": [
        {
          "output_type": "stream",
          "name": "stdout",
          "text": [
            "(228, 26)\n",
            "Index(['query_name', 'run', 'cpus', 'execution_time(minutes)_BG', 'nb_triples',\n",
            "       'nb_triple_opts_BG', 'nb_opts_BG', 'execution_time(minutes)_JN',\n",
            "       'nb_triple_opts_JN', 'nb_opts_JN', 'nb_pause_resume_PS_60s',\n",
            "       'execution_time(minutes)_PS_60s', 'nb_pause_resume_PS',\n",
            "       'execution_time(minutes)_PS_notimeout', 'timeout_x', 'nb_quantum_x',\n",
            "       'next_size(kb)_x', 'execution_time(minutes)_S_60s', 'nb_triple_opts_x',\n",
            "       'nb_opts_x', 'timeout_y', 'nb_quantum_y', 'next_size(kb)_y',\n",
            "       'execution_time(minutes)_S_notimeout', 'nb_triple_opts_y', 'nb_opts_y'],\n",
            "      dtype='object')\n"
          ]
        }
      ],
      "source": [
        "df_opt = pd.merge(BG_opt, JN_opt, on=[\"query_name\", \"run\", \"nb_triples\", \"cpus\"], how='inner', suffixes=('_BG', '_JN'))\n",
        "df_opt = pd.merge(df_opt, PS_opt_60s, on=[\"query_name\", \"run\", \"nb_triples\", \"cpus\"], how='inner')\n",
        "df_opt = pd.merge(df_opt, PS_opt_notimeout, on=[\"query_name\", \"run\", \"nb_triples\", \"cpus\"], how='inner')\n",
        "df_opt = pd.merge(df_opt, S_opt_60s, on=[\"query_name\", \"run\", \"nb_triples\", \"cpus\"], how='inner')\n",
        "df_opt = df_opt.drop(columns = [\"timeout_x\",\"timeout_y\",'nb_triple_opts_x','nb_triple_opts_y','nb_opts_x','nb_opts_y'],axis=1)\n",
        "df_opt = df_opt.rename(columns={'nb_pause_resume_x': 'nb_pause_resume_PS_60s','nb_pause_resume_y': 'nb_pause_resume_PS'})\n",
        "df_opt = pd.merge(df_opt, S_opt_notimeout, on=[\"query_name\", \"run\", \"nb_triples\", \"cpus\"], how='inner')\n",
        "print(df_opt.shape)\n",
        "print(df_opt.columns)"
      ]
    },
    {
      "cell_type": "code",
      "execution_count": null,
      "metadata": {
        "id": "B01UyKcOIfLA"
      },
      "outputs": [],
      "source": [
        "df_mul_1_all = df_mul[df_mul['cpus'] == '1-cpus']\n",
        "df_mul_4_all = df_mul[df_mul['cpus'] == '4-cpus']"
      ]
    },
    {
      "cell_type": "code",
      "execution_count": null,
      "metadata": {
        "id": "tuPYRWYIicu3"
      },
      "outputs": [],
      "source": [
        "df_opt_1_all = df_opt[df_opt['cpus'] == '1-cpus']\n",
        "df_opt_4_all = df_opt[df_opt['cpus'] == '4-cpus']"
      ]
    },
    {
      "cell_type": "code",
      "source": [
        "# filter out the queries exclude\n",
        "df_opt_1_all = df_opt_1_all[~df_opt_1_all['query_name'].isin(queries_to_exclude)]\n",
        "df_opt_1_all = df_opt_1_all.reset_index(drop=True)\n",
        "df_opt_4_all = df_opt_4_all[~df_opt_4_all['query_name'].isin(queries_to_exclude)]\n",
        "df_opt_4_all = df_opt_4_all.reset_index(drop=True)\n",
        "print(df_opt_1_all.shape)\n",
        "print(df_opt_4_all.shape)\n"
      ],
      "metadata": {
        "colab": {
          "base_uri": "https://localhost:8080/"
        },
        "id": "a9sVNEZKigll",
        "outputId": "c10b15bb-ec7b-4a8c-f445-5e039b1f5d14"
      },
      "execution_count": null,
      "outputs": [
        {
          "output_type": "stream",
          "name": "stdout",
          "text": [
            "(114, 26)\n",
            "(114, 26)\n"
          ]
        }
      ]
    },
    {
      "cell_type": "code",
      "source": [
        "columns_to_calculate = ['run',\"execution_time(minutes)_BG\",\"execution_time(minutes)_JN\",\"execution_time(minutes)_PS_60s\",\"execution_time(minutes)_PS_notimeout\",\"execution_time(minutes)_S_60s\",\"execution_time(minutes)_S_notimeout\"]\n",
        "sum_mul_1 = df_mul_1_all[columns_to_calculate].groupby('run').sum().mean()\n",
        "sum_mul_1"
      ],
      "metadata": {
        "colab": {
          "base_uri": "https://localhost:8080/",
          "height": 272
        },
        "id": "jKVSM8xOigjF",
        "outputId": "1170e93b-40ed-449e-8e1f-5528b5eced01"
      },
      "execution_count": null,
      "outputs": [
        {
          "output_type": "execute_result",
          "data": {
            "text/plain": [
              "execution_time(minutes)_BG              141.172594\n",
              "execution_time(minutes)_JN              347.760872\n",
              "execution_time(minutes)_PS_60s           87.379311\n",
              "execution_time(minutes)_PS_notimeout     86.584189\n",
              "execution_time(minutes)_S_60s           279.019698\n",
              "execution_time(minutes)_S_notimeout     277.921246\n",
              "dtype: float64"
            ],
            "text/html": [
              "<div>\n",
              "<style scoped>\n",
              "    .dataframe tbody tr th:only-of-type {\n",
              "        vertical-align: middle;\n",
              "    }\n",
              "\n",
              "    .dataframe tbody tr th {\n",
              "        vertical-align: top;\n",
              "    }\n",
              "\n",
              "    .dataframe thead th {\n",
              "        text-align: right;\n",
              "    }\n",
              "</style>\n",
              "<table border=\"1\" class=\"dataframe\">\n",
              "  <thead>\n",
              "    <tr style=\"text-align: right;\">\n",
              "      <th></th>\n",
              "      <th>0</th>\n",
              "    </tr>\n",
              "  </thead>\n",
              "  <tbody>\n",
              "    <tr>\n",
              "      <th>execution_time(minutes)_BG</th>\n",
              "      <td>141.172594</td>\n",
              "    </tr>\n",
              "    <tr>\n",
              "      <th>execution_time(minutes)_JN</th>\n",
              "      <td>347.760872</td>\n",
              "    </tr>\n",
              "    <tr>\n",
              "      <th>execution_time(minutes)_PS_60s</th>\n",
              "      <td>87.379311</td>\n",
              "    </tr>\n",
              "    <tr>\n",
              "      <th>execution_time(minutes)_PS_notimeout</th>\n",
              "      <td>86.584189</td>\n",
              "    </tr>\n",
              "    <tr>\n",
              "      <th>execution_time(minutes)_S_60s</th>\n",
              "      <td>279.019698</td>\n",
              "    </tr>\n",
              "    <tr>\n",
              "      <th>execution_time(minutes)_S_notimeout</th>\n",
              "      <td>277.921246</td>\n",
              "    </tr>\n",
              "  </tbody>\n",
              "</table>\n",
              "</div><br><label><b>dtype:</b> float64</label>"
            ]
          },
          "metadata": {},
          "execution_count": 35
        }
      ]
    },
    {
      "cell_type": "code",
      "source": [
        "sum_mul_4 = df_mul_4_all[columns_to_calculate].groupby('run').sum().mean()\n",
        "sum_mul_4"
      ],
      "metadata": {
        "colab": {
          "base_uri": "https://localhost:8080/",
          "height": 272
        },
        "id": "wKBn9jRzigga",
        "outputId": "6830c29f-c127-49b1-fe62-88bf2ccf5c31"
      },
      "execution_count": null,
      "outputs": [
        {
          "output_type": "execute_result",
          "data": {
            "text/plain": [
              "execution_time(minutes)_BG               51.488667\n",
              "execution_time(minutes)_JN              347.405233\n",
              "execution_time(minutes)_PS_60s           80.936317\n",
              "execution_time(minutes)_PS_notimeout     79.956256\n",
              "execution_time(minutes)_S_60s           281.346924\n",
              "execution_time(minutes)_S_notimeout     277.421729\n",
              "dtype: float64"
            ],
            "text/html": [
              "<div>\n",
              "<style scoped>\n",
              "    .dataframe tbody tr th:only-of-type {\n",
              "        vertical-align: middle;\n",
              "    }\n",
              "\n",
              "    .dataframe tbody tr th {\n",
              "        vertical-align: top;\n",
              "    }\n",
              "\n",
              "    .dataframe thead th {\n",
              "        text-align: right;\n",
              "    }\n",
              "</style>\n",
              "<table border=\"1\" class=\"dataframe\">\n",
              "  <thead>\n",
              "    <tr style=\"text-align: right;\">\n",
              "      <th></th>\n",
              "      <th>0</th>\n",
              "    </tr>\n",
              "  </thead>\n",
              "  <tbody>\n",
              "    <tr>\n",
              "      <th>execution_time(minutes)_BG</th>\n",
              "      <td>51.488667</td>\n",
              "    </tr>\n",
              "    <tr>\n",
              "      <th>execution_time(minutes)_JN</th>\n",
              "      <td>347.405233</td>\n",
              "    </tr>\n",
              "    <tr>\n",
              "      <th>execution_time(minutes)_PS_60s</th>\n",
              "      <td>80.936317</td>\n",
              "    </tr>\n",
              "    <tr>\n",
              "      <th>execution_time(minutes)_PS_notimeout</th>\n",
              "      <td>79.956256</td>\n",
              "    </tr>\n",
              "    <tr>\n",
              "      <th>execution_time(minutes)_S_60s</th>\n",
              "      <td>281.346924</td>\n",
              "    </tr>\n",
              "    <tr>\n",
              "      <th>execution_time(minutes)_S_notimeout</th>\n",
              "      <td>277.421729</td>\n",
              "    </tr>\n",
              "  </tbody>\n",
              "</table>\n",
              "</div><br><label><b>dtype:</b> float64</label>"
            ]
          },
          "metadata": {},
          "execution_count": 36
        }
      ]
    },
    {
      "cell_type": "code",
      "source": [
        "sum_opt_1 = df_opt_1_all[columns_to_calculate].groupby('run').sum().mean()\n",
        "sum_opt_1"
      ],
      "metadata": {
        "colab": {
          "base_uri": "https://localhost:8080/",
          "height": 272
        },
        "id": "FIRxONVag3XG",
        "outputId": "de0db4a7-d792-4d7d-f9a8-7c5f35235cfc"
      },
      "execution_count": null,
      "outputs": [
        {
          "output_type": "execute_result",
          "data": {
            "text/plain": [
              "execution_time(minutes)_BG               97.692422\n",
              "execution_time(minutes)_JN              262.300394\n",
              "execution_time(minutes)_PS_60s           57.922083\n",
              "execution_time(minutes)_PS_notimeout     57.135306\n",
              "execution_time(minutes)_S_60s           134.790182\n",
              "execution_time(minutes)_S_notimeout     129.195384\n",
              "dtype: float64"
            ],
            "text/html": [
              "<div>\n",
              "<style scoped>\n",
              "    .dataframe tbody tr th:only-of-type {\n",
              "        vertical-align: middle;\n",
              "    }\n",
              "\n",
              "    .dataframe tbody tr th {\n",
              "        vertical-align: top;\n",
              "    }\n",
              "\n",
              "    .dataframe thead th {\n",
              "        text-align: right;\n",
              "    }\n",
              "</style>\n",
              "<table border=\"1\" class=\"dataframe\">\n",
              "  <thead>\n",
              "    <tr style=\"text-align: right;\">\n",
              "      <th></th>\n",
              "      <th>0</th>\n",
              "    </tr>\n",
              "  </thead>\n",
              "  <tbody>\n",
              "    <tr>\n",
              "      <th>execution_time(minutes)_BG</th>\n",
              "      <td>97.692422</td>\n",
              "    </tr>\n",
              "    <tr>\n",
              "      <th>execution_time(minutes)_JN</th>\n",
              "      <td>262.300394</td>\n",
              "    </tr>\n",
              "    <tr>\n",
              "      <th>execution_time(minutes)_PS_60s</th>\n",
              "      <td>57.922083</td>\n",
              "    </tr>\n",
              "    <tr>\n",
              "      <th>execution_time(minutes)_PS_notimeout</th>\n",
              "      <td>57.135306</td>\n",
              "    </tr>\n",
              "    <tr>\n",
              "      <th>execution_time(minutes)_S_60s</th>\n",
              "      <td>134.790182</td>\n",
              "    </tr>\n",
              "    <tr>\n",
              "      <th>execution_time(minutes)_S_notimeout</th>\n",
              "      <td>129.195384</td>\n",
              "    </tr>\n",
              "  </tbody>\n",
              "</table>\n",
              "</div><br><label><b>dtype:</b> float64</label>"
            ]
          },
          "metadata": {},
          "execution_count": 37
        }
      ]
    },
    {
      "cell_type": "code",
      "source": [
        "sum_opt_4 = df_opt_4_all[columns_to_calculate].groupby('run').sum().mean()\n",
        "sum_opt_4"
      ],
      "metadata": {
        "colab": {
          "base_uri": "https://localhost:8080/",
          "height": 272
        },
        "id": "DiNrIa8XyzeQ",
        "outputId": "d395f655-b36f-4908-94c8-1b2e80bd4284"
      },
      "execution_count": null,
      "outputs": [
        {
          "output_type": "execute_result",
          "data": {
            "text/plain": [
              "execution_time(minutes)_BG               37.724006\n",
              "execution_time(minutes)_JN              264.001156\n",
              "execution_time(minutes)_PS_60s           51.299694\n",
              "execution_time(minutes)_PS_notimeout     50.568194\n",
              "execution_time(minutes)_S_60s           137.153065\n",
              "execution_time(minutes)_S_notimeout     129.034721\n",
              "dtype: float64"
            ],
            "text/html": [
              "<div>\n",
              "<style scoped>\n",
              "    .dataframe tbody tr th:only-of-type {\n",
              "        vertical-align: middle;\n",
              "    }\n",
              "\n",
              "    .dataframe tbody tr th {\n",
              "        vertical-align: top;\n",
              "    }\n",
              "\n",
              "    .dataframe thead th {\n",
              "        text-align: right;\n",
              "    }\n",
              "</style>\n",
              "<table border=\"1\" class=\"dataframe\">\n",
              "  <thead>\n",
              "    <tr style=\"text-align: right;\">\n",
              "      <th></th>\n",
              "      <th>0</th>\n",
              "    </tr>\n",
              "  </thead>\n",
              "  <tbody>\n",
              "    <tr>\n",
              "      <th>execution_time(minutes)_BG</th>\n",
              "      <td>37.724006</td>\n",
              "    </tr>\n",
              "    <tr>\n",
              "      <th>execution_time(minutes)_JN</th>\n",
              "      <td>264.001156</td>\n",
              "    </tr>\n",
              "    <tr>\n",
              "      <th>execution_time(minutes)_PS_60s</th>\n",
              "      <td>51.299694</td>\n",
              "    </tr>\n",
              "    <tr>\n",
              "      <th>execution_time(minutes)_PS_notimeout</th>\n",
              "      <td>50.568194</td>\n",
              "    </tr>\n",
              "    <tr>\n",
              "      <th>execution_time(minutes)_S_60s</th>\n",
              "      <td>137.153065</td>\n",
              "    </tr>\n",
              "    <tr>\n",
              "      <th>execution_time(minutes)_S_notimeout</th>\n",
              "      <td>129.034721</td>\n",
              "    </tr>\n",
              "  </tbody>\n",
              "</table>\n",
              "</div><br><label><b>dtype:</b> float64</label>"
            ]
          },
          "metadata": {},
          "execution_count": 38
        }
      ]
    },
    {
      "cell_type": "markdown",
      "metadata": {
        "id": "Pqq58xrUCYN8"
      },
      "source": [
        "### compare average time"
      ]
    },
    {
      "cell_type": "code",
      "execution_count": null,
      "metadata": {
        "colab": {
          "base_uri": "https://localhost:8080/",
          "height": 101
        },
        "id": "XSfke_xrgoKV",
        "outputId": "864645e9-c066-440b-fc96-390b68fbd03b"
      },
      "outputs": [
        {
          "output_type": "execute_result",
          "data": {
            "text/plain": [
              "   BG_avg_execution_time  JN_avg_execution_time  PS_60s_avg_execution_time  \\\n",
              "0             186.738403                446.797                 118.753621   \n",
              "\n",
              "   PS_notimeout_avg_execution_time  S_60s_avg_execution_time  \\\n",
              "0                       117.550532                382.472608   \n",
              "\n",
              "   S_notimeout_avg_execution_time  \n",
              "0                      380.857977  "
            ],
            "text/html": [
              "\n",
              "  <div id=\"df-d05a97e9-fe17-4221-96f2-fbcd57820bc9\" class=\"colab-df-container\">\n",
              "    <div>\n",
              "<style scoped>\n",
              "    .dataframe tbody tr th:only-of-type {\n",
              "        vertical-align: middle;\n",
              "    }\n",
              "\n",
              "    .dataframe tbody tr th {\n",
              "        vertical-align: top;\n",
              "    }\n",
              "\n",
              "    .dataframe thead th {\n",
              "        text-align: right;\n",
              "    }\n",
              "</style>\n",
              "<table border=\"1\" class=\"dataframe\">\n",
              "  <thead>\n",
              "    <tr style=\"text-align: right;\">\n",
              "      <th></th>\n",
              "      <th>BG_avg_execution_time</th>\n",
              "      <th>JN_avg_execution_time</th>\n",
              "      <th>PS_60s_avg_execution_time</th>\n",
              "      <th>PS_notimeout_avg_execution_time</th>\n",
              "      <th>S_60s_avg_execution_time</th>\n",
              "      <th>S_notimeout_avg_execution_time</th>\n",
              "    </tr>\n",
              "  </thead>\n",
              "  <tbody>\n",
              "    <tr>\n",
              "      <th>0</th>\n",
              "      <td>186.738403</td>\n",
              "      <td>446.797</td>\n",
              "      <td>118.753621</td>\n",
              "      <td>117.550532</td>\n",
              "      <td>382.472608</td>\n",
              "      <td>380.857977</td>\n",
              "    </tr>\n",
              "  </tbody>\n",
              "</table>\n",
              "</div>\n",
              "    <div class=\"colab-df-buttons\">\n",
              "\n",
              "  <div class=\"colab-df-container\">\n",
              "    <button class=\"colab-df-convert\" onclick=\"convertToInteractive('df-d05a97e9-fe17-4221-96f2-fbcd57820bc9')\"\n",
              "            title=\"Convert this dataframe to an interactive table.\"\n",
              "            style=\"display:none;\">\n",
              "\n",
              "  <svg xmlns=\"http://www.w3.org/2000/svg\" height=\"24px\" viewBox=\"0 -960 960 960\">\n",
              "    <path d=\"M120-120v-720h720v720H120Zm60-500h600v-160H180v160Zm220 220h160v-160H400v160Zm0 220h160v-160H400v160ZM180-400h160v-160H180v160Zm440 0h160v-160H620v160ZM180-180h160v-160H180v160Zm440 0h160v-160H620v160Z\"/>\n",
              "  </svg>\n",
              "    </button>\n",
              "\n",
              "  <style>\n",
              "    .colab-df-container {\n",
              "      display:flex;\n",
              "      gap: 12px;\n",
              "    }\n",
              "\n",
              "    .colab-df-convert {\n",
              "      background-color: #E8F0FE;\n",
              "      border: none;\n",
              "      border-radius: 50%;\n",
              "      cursor: pointer;\n",
              "      display: none;\n",
              "      fill: #1967D2;\n",
              "      height: 32px;\n",
              "      padding: 0 0 0 0;\n",
              "      width: 32px;\n",
              "    }\n",
              "\n",
              "    .colab-df-convert:hover {\n",
              "      background-color: #E2EBFA;\n",
              "      box-shadow: 0px 1px 2px rgba(60, 64, 67, 0.3), 0px 1px 3px 1px rgba(60, 64, 67, 0.15);\n",
              "      fill: #174EA6;\n",
              "    }\n",
              "\n",
              "    .colab-df-buttons div {\n",
              "      margin-bottom: 4px;\n",
              "    }\n",
              "\n",
              "    [theme=dark] .colab-df-convert {\n",
              "      background-color: #3B4455;\n",
              "      fill: #D2E3FC;\n",
              "    }\n",
              "\n",
              "    [theme=dark] .colab-df-convert:hover {\n",
              "      background-color: #434B5C;\n",
              "      box-shadow: 0px 1px 3px 1px rgba(0, 0, 0, 0.15);\n",
              "      filter: drop-shadow(0px 1px 2px rgba(0, 0, 0, 0.3));\n",
              "      fill: #FFFFFF;\n",
              "    }\n",
              "  </style>\n",
              "\n",
              "    <script>\n",
              "      const buttonEl =\n",
              "        document.querySelector('#df-d05a97e9-fe17-4221-96f2-fbcd57820bc9 button.colab-df-convert');\n",
              "      buttonEl.style.display =\n",
              "        google.colab.kernel.accessAllowed ? 'block' : 'none';\n",
              "\n",
              "      async function convertToInteractive(key) {\n",
              "        const element = document.querySelector('#df-d05a97e9-fe17-4221-96f2-fbcd57820bc9');\n",
              "        const dataTable =\n",
              "          await google.colab.kernel.invokeFunction('convertToInteractive',\n",
              "                                                    [key], {});\n",
              "        if (!dataTable) return;\n",
              "\n",
              "        const docLinkHtml = 'Like what you see? Visit the ' +\n",
              "          '<a target=\"_blank\" href=https://colab.research.google.com/notebooks/data_table.ipynb>data table notebook</a>'\n",
              "          + ' to learn more about interactive tables.';\n",
              "        element.innerHTML = '';\n",
              "        dataTable['output_type'] = 'display_data';\n",
              "        await google.colab.output.renderOutput(dataTable, element);\n",
              "        const docLink = document.createElement('div');\n",
              "        docLink.innerHTML = docLinkHtml;\n",
              "        element.appendChild(docLink);\n",
              "      }\n",
              "    </script>\n",
              "  </div>\n",
              "\n",
              "\n",
              "    </div>\n",
              "  </div>\n"
            ],
            "application/vnd.google.colaboratory.intrinsic+json": {
              "type": "dataframe",
              "variable_name": "AVG_MUL_1",
              "summary": "{\n  \"name\": \"AVG_MUL_1\",\n  \"rows\": 1,\n  \"fields\": [\n    {\n      \"column\": \"BG_avg_execution_time\",\n      \"properties\": {\n        \"dtype\": \"number\",\n        \"std\": null,\n        \"min\": 186.73840322580648,\n        \"max\": 186.73840322580648,\n        \"num_unique_values\": 1,\n        \"samples\": [\n          186.73840322580648\n        ],\n        \"semantic_type\": \"\",\n        \"description\": \"\"\n      }\n    },\n    {\n      \"column\": \"JN_avg_execution_time\",\n      \"properties\": {\n        \"dtype\": \"number\",\n        \"std\": null,\n        \"min\": 446.7970000000001,\n        \"max\": 446.7970000000001,\n        \"num_unique_values\": 1,\n        \"samples\": [\n          446.7970000000001\n        ],\n        \"semantic_type\": \"\",\n        \"description\": \"\"\n      }\n    },\n    {\n      \"column\": \"PS_60s_avg_execution_time\",\n      \"properties\": {\n        \"dtype\": \"number\",\n        \"std\": null,\n        \"min\": 118.75362096774194,\n        \"max\": 118.75362096774194,\n        \"num_unique_values\": 1,\n        \"samples\": [\n          118.75362096774194\n        ],\n        \"semantic_type\": \"\",\n        \"description\": \"\"\n      }\n    },\n    {\n      \"column\": \"PS_notimeout_avg_execution_time\",\n      \"properties\": {\n        \"dtype\": \"number\",\n        \"std\": null,\n        \"min\": 117.55053225806451,\n        \"max\": 117.55053225806451,\n        \"num_unique_values\": 1,\n        \"samples\": [\n          117.55053225806451\n        ],\n        \"semantic_type\": \"\",\n        \"description\": \"\"\n      }\n    },\n    {\n      \"column\": \"S_60s_avg_execution_time\",\n      \"properties\": {\n        \"dtype\": \"number\",\n        \"std\": null,\n        \"min\": 382.4726076933645,\n        \"max\": 382.4726076933645,\n        \"num_unique_values\": 1,\n        \"samples\": [\n          382.4726076933645\n        ],\n        \"semantic_type\": \"\",\n        \"description\": \"\"\n      }\n    },\n    {\n      \"column\": \"S_notimeout_avg_execution_time\",\n      \"properties\": {\n        \"dtype\": \"number\",\n        \"std\": null,\n        \"min\": 380.8579768980703,\n        \"max\": 380.8579768980703,\n        \"num_unique_values\": 1,\n        \"samples\": [\n          380.8579768980703\n        ],\n        \"semantic_type\": \"\",\n        \"description\": \"\"\n      }\n    }\n  ]\n}"
            }
          },
          "metadata": {},
          "execution_count": 41
        }
      ],
      "source": [
        "average_times_df_mul_1 = {\n",
        "    \"BG_avg_execution_time\": df_mul_1_all[\"execution_time(minutes)_BG\"].mean(),\n",
        "    \"JN_avg_execution_time\": df_mul_1_all[\"execution_time(minutes)_JN\"].mean(),\n",
        "    \"PS_60s_avg_execution_time\": df_mul_1_all[\"execution_time(minutes)_PS_60s\"].mean(),\n",
        "    \"PS_notimeout_avg_execution_time\": df_mul_1_all[\"execution_time(minutes)_PS_notimeout\"].mean(),\n",
        "    \"S_60s_avg_execution_time\": df_mul_1_all[\"execution_time(minutes)_S_60s\"].mean(),\n",
        "    \"S_notimeout_avg_execution_time\": df_mul_1_all[\"execution_time(minutes)_S_notimeout\"].mean()\n",
        "}\n",
        "AVG_MUL_1 = pd.DataFrame(average_times_df_mul_1, index=[0])\n",
        "AVG_MUL_1 = AVG_MUL_1*60\n",
        "AVG_MUL_1.head()"
      ]
    },
    {
      "cell_type": "code",
      "execution_count": null,
      "metadata": {
        "colab": {
          "base_uri": "https://localhost:8080/",
          "height": 101
        },
        "id": "QeySAanmJ4oY",
        "outputId": "e7946013-4231-4007-b7a1-4bc058329687"
      },
      "outputs": [
        {
          "output_type": "execute_result",
          "data": {
            "text/plain": [
              "   BG_avg_execution_time  JN_avg_execution_time  PS_60s_avg_execution_time  \\\n",
              "0              63.047347             425.394163                  99.105694   \n",
              "\n",
              "   PS_notimeout_avg_execution_time  S_60s_avg_execution_time  \\\n",
              "0                        97.905619                344.506438   \n",
              "\n",
              "   S_notimeout_avg_execution_time  \n",
              "0                      339.700076  "
            ],
            "text/html": [
              "\n",
              "  <div id=\"df-15bda4b3-1b85-43dd-a401-cc4352297f9d\" class=\"colab-df-container\">\n",
              "    <div>\n",
              "<style scoped>\n",
              "    .dataframe tbody tr th:only-of-type {\n",
              "        vertical-align: middle;\n",
              "    }\n",
              "\n",
              "    .dataframe tbody tr th {\n",
              "        vertical-align: top;\n",
              "    }\n",
              "\n",
              "    .dataframe thead th {\n",
              "        text-align: right;\n",
              "    }\n",
              "</style>\n",
              "<table border=\"1\" class=\"dataframe\">\n",
              "  <thead>\n",
              "    <tr style=\"text-align: right;\">\n",
              "      <th></th>\n",
              "      <th>BG_avg_execution_time</th>\n",
              "      <th>JN_avg_execution_time</th>\n",
              "      <th>PS_60s_avg_execution_time</th>\n",
              "      <th>PS_notimeout_avg_execution_time</th>\n",
              "      <th>S_60s_avg_execution_time</th>\n",
              "      <th>S_notimeout_avg_execution_time</th>\n",
              "    </tr>\n",
              "  </thead>\n",
              "  <tbody>\n",
              "    <tr>\n",
              "      <th>0</th>\n",
              "      <td>63.047347</td>\n",
              "      <td>425.394163</td>\n",
              "      <td>99.105694</td>\n",
              "      <td>97.905619</td>\n",
              "      <td>344.506438</td>\n",
              "      <td>339.700076</td>\n",
              "    </tr>\n",
              "  </tbody>\n",
              "</table>\n",
              "</div>\n",
              "    <div class=\"colab-df-buttons\">\n",
              "\n",
              "  <div class=\"colab-df-container\">\n",
              "    <button class=\"colab-df-convert\" onclick=\"convertToInteractive('df-15bda4b3-1b85-43dd-a401-cc4352297f9d')\"\n",
              "            title=\"Convert this dataframe to an interactive table.\"\n",
              "            style=\"display:none;\">\n",
              "\n",
              "  <svg xmlns=\"http://www.w3.org/2000/svg\" height=\"24px\" viewBox=\"0 -960 960 960\">\n",
              "    <path d=\"M120-120v-720h720v720H120Zm60-500h600v-160H180v160Zm220 220h160v-160H400v160Zm0 220h160v-160H400v160ZM180-400h160v-160H180v160Zm440 0h160v-160H620v160ZM180-180h160v-160H180v160Zm440 0h160v-160H620v160Z\"/>\n",
              "  </svg>\n",
              "    </button>\n",
              "\n",
              "  <style>\n",
              "    .colab-df-container {\n",
              "      display:flex;\n",
              "      gap: 12px;\n",
              "    }\n",
              "\n",
              "    .colab-df-convert {\n",
              "      background-color: #E8F0FE;\n",
              "      border: none;\n",
              "      border-radius: 50%;\n",
              "      cursor: pointer;\n",
              "      display: none;\n",
              "      fill: #1967D2;\n",
              "      height: 32px;\n",
              "      padding: 0 0 0 0;\n",
              "      width: 32px;\n",
              "    }\n",
              "\n",
              "    .colab-df-convert:hover {\n",
              "      background-color: #E2EBFA;\n",
              "      box-shadow: 0px 1px 2px rgba(60, 64, 67, 0.3), 0px 1px 3px 1px rgba(60, 64, 67, 0.15);\n",
              "      fill: #174EA6;\n",
              "    }\n",
              "\n",
              "    .colab-df-buttons div {\n",
              "      margin-bottom: 4px;\n",
              "    }\n",
              "\n",
              "    [theme=dark] .colab-df-convert {\n",
              "      background-color: #3B4455;\n",
              "      fill: #D2E3FC;\n",
              "    }\n",
              "\n",
              "    [theme=dark] .colab-df-convert:hover {\n",
              "      background-color: #434B5C;\n",
              "      box-shadow: 0px 1px 3px 1px rgba(0, 0, 0, 0.15);\n",
              "      filter: drop-shadow(0px 1px 2px rgba(0, 0, 0, 0.3));\n",
              "      fill: #FFFFFF;\n",
              "    }\n",
              "  </style>\n",
              "\n",
              "    <script>\n",
              "      const buttonEl =\n",
              "        document.querySelector('#df-15bda4b3-1b85-43dd-a401-cc4352297f9d button.colab-df-convert');\n",
              "      buttonEl.style.display =\n",
              "        google.colab.kernel.accessAllowed ? 'block' : 'none';\n",
              "\n",
              "      async function convertToInteractive(key) {\n",
              "        const element = document.querySelector('#df-15bda4b3-1b85-43dd-a401-cc4352297f9d');\n",
              "        const dataTable =\n",
              "          await google.colab.kernel.invokeFunction('convertToInteractive',\n",
              "                                                    [key], {});\n",
              "        if (!dataTable) return;\n",
              "\n",
              "        const docLinkHtml = 'Like what you see? Visit the ' +\n",
              "          '<a target=\"_blank\" href=https://colab.research.google.com/notebooks/data_table.ipynb>data table notebook</a>'\n",
              "          + ' to learn more about interactive tables.';\n",
              "        element.innerHTML = '';\n",
              "        dataTable['output_type'] = 'display_data';\n",
              "        await google.colab.output.renderOutput(dataTable, element);\n",
              "        const docLink = document.createElement('div');\n",
              "        docLink.innerHTML = docLinkHtml;\n",
              "        element.appendChild(docLink);\n",
              "      }\n",
              "    </script>\n",
              "  </div>\n",
              "\n",
              "\n",
              "    </div>\n",
              "  </div>\n"
            ],
            "application/vnd.google.colaboratory.intrinsic+json": {
              "type": "dataframe",
              "variable_name": "AVG_MUL_4",
              "summary": "{\n  \"name\": \"AVG_MUL_4\",\n  \"rows\": 1,\n  \"fields\": [\n    {\n      \"column\": \"BG_avg_execution_time\",\n      \"properties\": {\n        \"dtype\": \"number\",\n        \"std\": null,\n        \"min\": 63.04734693877551,\n        \"max\": 63.04734693877551,\n        \"num_unique_values\": 1,\n        \"samples\": [\n          63.04734693877551\n        ],\n        \"semantic_type\": \"\",\n        \"description\": \"\"\n      }\n    },\n    {\n      \"column\": \"JN_avg_execution_time\",\n      \"properties\": {\n        \"dtype\": \"number\",\n        \"std\": null,\n        \"min\": 425.39416326530613,\n        \"max\": 425.39416326530613,\n        \"num_unique_values\": 1,\n        \"samples\": [\n          425.39416326530613\n        ],\n        \"semantic_type\": \"\",\n        \"description\": \"\"\n      }\n    },\n    {\n      \"column\": \"PS_60s_avg_execution_time\",\n      \"properties\": {\n        \"dtype\": \"number\",\n        \"std\": null,\n        \"min\": 99.105693877551,\n        \"max\": 99.105693877551,\n        \"num_unique_values\": 1,\n        \"samples\": [\n          99.105693877551\n        ],\n        \"semantic_type\": \"\",\n        \"description\": \"\"\n      }\n    },\n    {\n      \"column\": \"PS_notimeout_avg_execution_time\",\n      \"properties\": {\n        \"dtype\": \"number\",\n        \"std\": null,\n        \"min\": 97.90561904761904,\n        \"max\": 97.90561904761904,\n        \"num_unique_values\": 1,\n        \"samples\": [\n          97.90561904761904\n        ],\n        \"semantic_type\": \"\",\n        \"description\": \"\"\n      }\n    },\n    {\n      \"column\": \"S_60s_avg_execution_time\",\n      \"properties\": {\n        \"dtype\": \"number\",\n        \"std\": null,\n        \"min\": 344.506438102852,\n        \"max\": 344.506438102852,\n        \"num_unique_values\": 1,\n        \"samples\": [\n          344.506438102852\n        ],\n        \"semantic_type\": \"\",\n        \"description\": \"\"\n      }\n    },\n    {\n      \"column\": \"S_notimeout_avg_execution_time\",\n      \"properties\": {\n        \"dtype\": \"number\",\n        \"std\": null,\n        \"min\": 339.7000760253595,\n        \"max\": 339.7000760253595,\n        \"num_unique_values\": 1,\n        \"samples\": [\n          339.7000760253595\n        ],\n        \"semantic_type\": \"\",\n        \"description\": \"\"\n      }\n    }\n  ]\n}"
            }
          },
          "metadata": {},
          "execution_count": 42
        }
      ],
      "source": [
        "average_times_df_mul_4 = {\n",
        "    \"BG_avg_execution_time\": df_mul_4_all[\"execution_time(minutes)_BG\"].mean(),\n",
        "    \"JN_avg_execution_time\": df_mul_4_all[\"execution_time(minutes)_JN\"].mean(),\n",
        "    \"PS_60s_avg_execution_time\": df_mul_4_all[\"execution_time(minutes)_PS_60s\"].mean(),\n",
        "    \"PS_notimeout_avg_execution_time\": df_mul_4_all[\"execution_time(minutes)_PS_notimeout\"].mean(),\n",
        "    \"S_60s_avg_execution_time\": df_mul_4_all[\"execution_time(minutes)_S_60s\"].mean(),\n",
        "    \"S_notimeout_avg_execution_time\": df_mul_4_all[\"execution_time(minutes)_S_notimeout\"].mean()\n",
        "}\n",
        "AVG_MUL_4 = pd.DataFrame(average_times_df_mul_4, index=[0])\n",
        "AVG_MUL_4 = AVG_MUL_4*60\n",
        "AVG_MUL_4.head()"
      ]
    },
    {
      "cell_type": "code",
      "execution_count": null,
      "metadata": {
        "colab": {
          "base_uri": "https://localhost:8080/",
          "height": 101
        },
        "id": "5jmpA6MEKTSw",
        "outputId": "58ad9a3f-4914-4c5e-ef63-5195a846d184"
      },
      "outputs": [
        {
          "output_type": "execute_result",
          "data": {
            "text/plain": [
              "   BG_avg_execution_time  JN_avg_execution_time  PS_60s_avg_execution_time  \\\n",
              "0             154.251193             414.158518                  91.455921   \n",
              "\n",
              "   PS_notimeout_avg_execution_time  S_60s_avg_execution_time  \\\n",
              "0                         90.21364                212.826603   \n",
              "\n",
              "   S_notimeout_avg_execution_time  \n",
              "0                      203.992711  "
            ],
            "text/html": [
              "\n",
              "  <div id=\"df-d3e3dc2f-ad85-426c-b3ed-fdc06efc87f9\" class=\"colab-df-container\">\n",
              "    <div>\n",
              "<style scoped>\n",
              "    .dataframe tbody tr th:only-of-type {\n",
              "        vertical-align: middle;\n",
              "    }\n",
              "\n",
              "    .dataframe tbody tr th {\n",
              "        vertical-align: top;\n",
              "    }\n",
              "\n",
              "    .dataframe thead th {\n",
              "        text-align: right;\n",
              "    }\n",
              "</style>\n",
              "<table border=\"1\" class=\"dataframe\">\n",
              "  <thead>\n",
              "    <tr style=\"text-align: right;\">\n",
              "      <th></th>\n",
              "      <th>BG_avg_execution_time</th>\n",
              "      <th>JN_avg_execution_time</th>\n",
              "      <th>PS_60s_avg_execution_time</th>\n",
              "      <th>PS_notimeout_avg_execution_time</th>\n",
              "      <th>S_60s_avg_execution_time</th>\n",
              "      <th>S_notimeout_avg_execution_time</th>\n",
              "    </tr>\n",
              "  </thead>\n",
              "  <tbody>\n",
              "    <tr>\n",
              "      <th>0</th>\n",
              "      <td>154.251193</td>\n",
              "      <td>414.158518</td>\n",
              "      <td>91.455921</td>\n",
              "      <td>90.21364</td>\n",
              "      <td>212.826603</td>\n",
              "      <td>203.992711</td>\n",
              "    </tr>\n",
              "  </tbody>\n",
              "</table>\n",
              "</div>\n",
              "    <div class=\"colab-df-buttons\">\n",
              "\n",
              "  <div class=\"colab-df-container\">\n",
              "    <button class=\"colab-df-convert\" onclick=\"convertToInteractive('df-d3e3dc2f-ad85-426c-b3ed-fdc06efc87f9')\"\n",
              "            title=\"Convert this dataframe to an interactive table.\"\n",
              "            style=\"display:none;\">\n",
              "\n",
              "  <svg xmlns=\"http://www.w3.org/2000/svg\" height=\"24px\" viewBox=\"0 -960 960 960\">\n",
              "    <path d=\"M120-120v-720h720v720H120Zm60-500h600v-160H180v160Zm220 220h160v-160H400v160Zm0 220h160v-160H400v160ZM180-400h160v-160H180v160Zm440 0h160v-160H620v160ZM180-180h160v-160H180v160Zm440 0h160v-160H620v160Z\"/>\n",
              "  </svg>\n",
              "    </button>\n",
              "\n",
              "  <style>\n",
              "    .colab-df-container {\n",
              "      display:flex;\n",
              "      gap: 12px;\n",
              "    }\n",
              "\n",
              "    .colab-df-convert {\n",
              "      background-color: #E8F0FE;\n",
              "      border: none;\n",
              "      border-radius: 50%;\n",
              "      cursor: pointer;\n",
              "      display: none;\n",
              "      fill: #1967D2;\n",
              "      height: 32px;\n",
              "      padding: 0 0 0 0;\n",
              "      width: 32px;\n",
              "    }\n",
              "\n",
              "    .colab-df-convert:hover {\n",
              "      background-color: #E2EBFA;\n",
              "      box-shadow: 0px 1px 2px rgba(60, 64, 67, 0.3), 0px 1px 3px 1px rgba(60, 64, 67, 0.15);\n",
              "      fill: #174EA6;\n",
              "    }\n",
              "\n",
              "    .colab-df-buttons div {\n",
              "      margin-bottom: 4px;\n",
              "    }\n",
              "\n",
              "    [theme=dark] .colab-df-convert {\n",
              "      background-color: #3B4455;\n",
              "      fill: #D2E3FC;\n",
              "    }\n",
              "\n",
              "    [theme=dark] .colab-df-convert:hover {\n",
              "      background-color: #434B5C;\n",
              "      box-shadow: 0px 1px 3px 1px rgba(0, 0, 0, 0.15);\n",
              "      filter: drop-shadow(0px 1px 2px rgba(0, 0, 0, 0.3));\n",
              "      fill: #FFFFFF;\n",
              "    }\n",
              "  </style>\n",
              "\n",
              "    <script>\n",
              "      const buttonEl =\n",
              "        document.querySelector('#df-d3e3dc2f-ad85-426c-b3ed-fdc06efc87f9 button.colab-df-convert');\n",
              "      buttonEl.style.display =\n",
              "        google.colab.kernel.accessAllowed ? 'block' : 'none';\n",
              "\n",
              "      async function convertToInteractive(key) {\n",
              "        const element = document.querySelector('#df-d3e3dc2f-ad85-426c-b3ed-fdc06efc87f9');\n",
              "        const dataTable =\n",
              "          await google.colab.kernel.invokeFunction('convertToInteractive',\n",
              "                                                    [key], {});\n",
              "        if (!dataTable) return;\n",
              "\n",
              "        const docLinkHtml = 'Like what you see? Visit the ' +\n",
              "          '<a target=\"_blank\" href=https://colab.research.google.com/notebooks/data_table.ipynb>data table notebook</a>'\n",
              "          + ' to learn more about interactive tables.';\n",
              "        element.innerHTML = '';\n",
              "        dataTable['output_type'] = 'display_data';\n",
              "        await google.colab.output.renderOutput(dataTable, element);\n",
              "        const docLink = document.createElement('div');\n",
              "        docLink.innerHTML = docLinkHtml;\n",
              "        element.appendChild(docLink);\n",
              "      }\n",
              "    </script>\n",
              "  </div>\n",
              "\n",
              "\n",
              "    </div>\n",
              "  </div>\n"
            ],
            "application/vnd.google.colaboratory.intrinsic+json": {
              "type": "dataframe",
              "variable_name": "AVG_OPT_1",
              "summary": "{\n  \"name\": \"AVG_OPT_1\",\n  \"rows\": 1,\n  \"fields\": [\n    {\n      \"column\": \"BG_avg_execution_time\",\n      \"properties\": {\n        \"dtype\": \"number\",\n        \"std\": null,\n        \"min\": 154.25119298245616,\n        \"max\": 154.25119298245616,\n        \"num_unique_values\": 1,\n        \"samples\": [\n          154.25119298245616\n        ],\n        \"semantic_type\": \"\",\n        \"description\": \"\"\n      }\n    },\n    {\n      \"column\": \"JN_avg_execution_time\",\n      \"properties\": {\n        \"dtype\": \"number\",\n        \"std\": null,\n        \"min\": 414.1585175438596,\n        \"max\": 414.1585175438596,\n        \"num_unique_values\": 1,\n        \"samples\": [\n          414.1585175438596\n        ],\n        \"semantic_type\": \"\",\n        \"description\": \"\"\n      }\n    },\n    {\n      \"column\": \"PS_60s_avg_execution_time\",\n      \"properties\": {\n        \"dtype\": \"number\",\n        \"std\": null,\n        \"min\": 91.45592105263158,\n        \"max\": 91.45592105263158,\n        \"num_unique_values\": 1,\n        \"samples\": [\n          91.45592105263158\n        ],\n        \"semantic_type\": \"\",\n        \"description\": \"\"\n      }\n    },\n    {\n      \"column\": \"PS_notimeout_avg_execution_time\",\n      \"properties\": {\n        \"dtype\": \"number\",\n        \"std\": null,\n        \"min\": 90.21364035087718,\n        \"max\": 90.21364035087718,\n        \"num_unique_values\": 1,\n        \"samples\": [\n          90.21364035087718\n        ],\n        \"semantic_type\": \"\",\n        \"description\": \"\"\n      }\n    },\n    {\n      \"column\": \"S_60s_avg_execution_time\",\n      \"properties\": {\n        \"dtype\": \"number\",\n        \"std\": null,\n        \"min\": 212.82660250496448,\n        \"max\": 212.82660250496448,\n        \"num_unique_values\": 1,\n        \"samples\": [\n          212.82660250496448\n        ],\n        \"semantic_type\": \"\",\n        \"description\": \"\"\n      }\n    },\n    {\n      \"column\": \"S_notimeout_avg_execution_time\",\n      \"properties\": {\n        \"dtype\": \"number\",\n        \"std\": null,\n        \"min\": 203.99271105465138,\n        \"max\": 203.99271105465138,\n        \"num_unique_values\": 1,\n        \"samples\": [\n          203.99271105465138\n        ],\n        \"semantic_type\": \"\",\n        \"description\": \"\"\n      }\n    }\n  ]\n}"
            }
          },
          "metadata": {},
          "execution_count": 43
        }
      ],
      "source": [
        "average_times_df_opt_1 = {\n",
        "    \"BG_avg_execution_time\": df_opt_1_all[\"execution_time(minutes)_BG\"].mean(),\n",
        "    \"JN_avg_execution_time\": df_opt_1_all[\"execution_time(minutes)_JN\"].mean(),\n",
        "    \"PS_60s_avg_execution_time\": df_opt_1_all[\"execution_time(minutes)_PS_60s\"].mean(),\n",
        "    \"PS_notimeout_avg_execution_time\": df_opt_1_all[\"execution_time(minutes)_PS_notimeout\"].mean(),\n",
        "    \"S_60s_avg_execution_time\": df_opt_1_all[\"execution_time(minutes)_S_60s\"].mean(),\n",
        "    \"S_notimeout_avg_execution_time\": df_opt_1_all[\"execution_time(minutes)_S_notimeout\"].mean()\n",
        "}\n",
        "AVG_OPT_1 = pd.DataFrame(average_times_df_opt_1, index=[0])\n",
        "AVG_OPT_1 = AVG_OPT_1*60\n",
        "AVG_OPT_1.head()"
      ]
    },
    {
      "cell_type": "code",
      "execution_count": null,
      "metadata": {
        "colab": {
          "base_uri": "https://localhost:8080/",
          "height": 101
        },
        "id": "lA8G34VKKc0N",
        "outputId": "046aacd2-f4d3-4c52-ab39-1931fa32fcc7"
      },
      "outputs": [
        {
          "output_type": "execute_result",
          "data": {
            "text/plain": [
              "   BG_avg_execution_time  JN_avg_execution_time  PS_60s_avg_execution_time  \\\n",
              "0              60.091336              416.84393                  80.999518   \n",
              "\n",
              "   PS_notimeout_avg_execution_time  S_60s_avg_execution_time  \\\n",
              "0                        79.844518                216.557471   \n",
              "\n",
              "   S_notimeout_avg_execution_time  \n",
              "0                      203.739033  "
            ],
            "text/html": [
              "\n",
              "  <div id=\"df-2afde59d-1b6d-4449-aabc-5a410109e785\" class=\"colab-df-container\">\n",
              "    <div>\n",
              "<style scoped>\n",
              "    .dataframe tbody tr th:only-of-type {\n",
              "        vertical-align: middle;\n",
              "    }\n",
              "\n",
              "    .dataframe tbody tr th {\n",
              "        vertical-align: top;\n",
              "    }\n",
              "\n",
              "    .dataframe thead th {\n",
              "        text-align: right;\n",
              "    }\n",
              "</style>\n",
              "<table border=\"1\" class=\"dataframe\">\n",
              "  <thead>\n",
              "    <tr style=\"text-align: right;\">\n",
              "      <th></th>\n",
              "      <th>BG_avg_execution_time</th>\n",
              "      <th>JN_avg_execution_time</th>\n",
              "      <th>PS_60s_avg_execution_time</th>\n",
              "      <th>PS_notimeout_avg_execution_time</th>\n",
              "      <th>S_60s_avg_execution_time</th>\n",
              "      <th>S_notimeout_avg_execution_time</th>\n",
              "    </tr>\n",
              "  </thead>\n",
              "  <tbody>\n",
              "    <tr>\n",
              "      <th>0</th>\n",
              "      <td>60.091336</td>\n",
              "      <td>416.84393</td>\n",
              "      <td>80.999518</td>\n",
              "      <td>79.844518</td>\n",
              "      <td>216.557471</td>\n",
              "      <td>203.739033</td>\n",
              "    </tr>\n",
              "  </tbody>\n",
              "</table>\n",
              "</div>\n",
              "    <div class=\"colab-df-buttons\">\n",
              "\n",
              "  <div class=\"colab-df-container\">\n",
              "    <button class=\"colab-df-convert\" onclick=\"convertToInteractive('df-2afde59d-1b6d-4449-aabc-5a410109e785')\"\n",
              "            title=\"Convert this dataframe to an interactive table.\"\n",
              "            style=\"display:none;\">\n",
              "\n",
              "  <svg xmlns=\"http://www.w3.org/2000/svg\" height=\"24px\" viewBox=\"0 -960 960 960\">\n",
              "    <path d=\"M120-120v-720h720v720H120Zm60-500h600v-160H180v160Zm220 220h160v-160H400v160Zm0 220h160v-160H400v160ZM180-400h160v-160H180v160Zm440 0h160v-160H620v160ZM180-180h160v-160H180v160Zm440 0h160v-160H620v160Z\"/>\n",
              "  </svg>\n",
              "    </button>\n",
              "\n",
              "  <style>\n",
              "    .colab-df-container {\n",
              "      display:flex;\n",
              "      gap: 12px;\n",
              "    }\n",
              "\n",
              "    .colab-df-convert {\n",
              "      background-color: #E8F0FE;\n",
              "      border: none;\n",
              "      border-radius: 50%;\n",
              "      cursor: pointer;\n",
              "      display: none;\n",
              "      fill: #1967D2;\n",
              "      height: 32px;\n",
              "      padding: 0 0 0 0;\n",
              "      width: 32px;\n",
              "    }\n",
              "\n",
              "    .colab-df-convert:hover {\n",
              "      background-color: #E2EBFA;\n",
              "      box-shadow: 0px 1px 2px rgba(60, 64, 67, 0.3), 0px 1px 3px 1px rgba(60, 64, 67, 0.15);\n",
              "      fill: #174EA6;\n",
              "    }\n",
              "\n",
              "    .colab-df-buttons div {\n",
              "      margin-bottom: 4px;\n",
              "    }\n",
              "\n",
              "    [theme=dark] .colab-df-convert {\n",
              "      background-color: #3B4455;\n",
              "      fill: #D2E3FC;\n",
              "    }\n",
              "\n",
              "    [theme=dark] .colab-df-convert:hover {\n",
              "      background-color: #434B5C;\n",
              "      box-shadow: 0px 1px 3px 1px rgba(0, 0, 0, 0.15);\n",
              "      filter: drop-shadow(0px 1px 2px rgba(0, 0, 0, 0.3));\n",
              "      fill: #FFFFFF;\n",
              "    }\n",
              "  </style>\n",
              "\n",
              "    <script>\n",
              "      const buttonEl =\n",
              "        document.querySelector('#df-2afde59d-1b6d-4449-aabc-5a410109e785 button.colab-df-convert');\n",
              "      buttonEl.style.display =\n",
              "        google.colab.kernel.accessAllowed ? 'block' : 'none';\n",
              "\n",
              "      async function convertToInteractive(key) {\n",
              "        const element = document.querySelector('#df-2afde59d-1b6d-4449-aabc-5a410109e785');\n",
              "        const dataTable =\n",
              "          await google.colab.kernel.invokeFunction('convertToInteractive',\n",
              "                                                    [key], {});\n",
              "        if (!dataTable) return;\n",
              "\n",
              "        const docLinkHtml = 'Like what you see? Visit the ' +\n",
              "          '<a target=\"_blank\" href=https://colab.research.google.com/notebooks/data_table.ipynb>data table notebook</a>'\n",
              "          + ' to learn more about interactive tables.';\n",
              "        element.innerHTML = '';\n",
              "        dataTable['output_type'] = 'display_data';\n",
              "        await google.colab.output.renderOutput(dataTable, element);\n",
              "        const docLink = document.createElement('div');\n",
              "        docLink.innerHTML = docLinkHtml;\n",
              "        element.appendChild(docLink);\n",
              "      }\n",
              "    </script>\n",
              "  </div>\n",
              "\n",
              "\n",
              "    </div>\n",
              "  </div>\n"
            ],
            "application/vnd.google.colaboratory.intrinsic+json": {
              "type": "dataframe",
              "variable_name": "OPT_4",
              "summary": "{\n  \"name\": \"OPT_4\",\n  \"rows\": 1,\n  \"fields\": [\n    {\n      \"column\": \"BG_avg_execution_time\",\n      \"properties\": {\n        \"dtype\": \"number\",\n        \"std\": null,\n        \"min\": 60.09133628318584,\n        \"max\": 60.09133628318584,\n        \"num_unique_values\": 1,\n        \"samples\": [\n          60.09133628318584\n        ],\n        \"semantic_type\": \"\",\n        \"description\": \"\"\n      }\n    },\n    {\n      \"column\": \"JN_avg_execution_time\",\n      \"properties\": {\n        \"dtype\": \"number\",\n        \"std\": null,\n        \"min\": 416.8439298245614,\n        \"max\": 416.8439298245614,\n        \"num_unique_values\": 1,\n        \"samples\": [\n          416.8439298245614\n        ],\n        \"semantic_type\": \"\",\n        \"description\": \"\"\n      }\n    },\n    {\n      \"column\": \"PS_60s_avg_execution_time\",\n      \"properties\": {\n        \"dtype\": \"number\",\n        \"std\": null,\n        \"min\": 80.99951754385967,\n        \"max\": 80.99951754385967,\n        \"num_unique_values\": 1,\n        \"samples\": [\n          80.99951754385967\n        ],\n        \"semantic_type\": \"\",\n        \"description\": \"\"\n      }\n    },\n    {\n      \"column\": \"PS_notimeout_avg_execution_time\",\n      \"properties\": {\n        \"dtype\": \"number\",\n        \"std\": null,\n        \"min\": 79.84451754385964,\n        \"max\": 79.84451754385964,\n        \"num_unique_values\": 1,\n        \"samples\": [\n          79.84451754385964\n        ],\n        \"semantic_type\": \"\",\n        \"description\": \"\"\n      }\n    },\n    {\n      \"column\": \"S_60s_avg_execution_time\",\n      \"properties\": {\n        \"dtype\": \"number\",\n        \"std\": null,\n        \"min\": 216.5574711791256,\n        \"max\": 216.5574711791256,\n        \"num_unique_values\": 1,\n        \"samples\": [\n          216.5574711791256\n        ],\n        \"semantic_type\": \"\",\n        \"description\": \"\"\n      }\n    },\n    {\n      \"column\": \"S_notimeout_avg_execution_time\",\n      \"properties\": {\n        \"dtype\": \"number\",\n        \"std\": null,\n        \"min\": 203.739033144817,\n        \"max\": 203.739033144817,\n        \"num_unique_values\": 1,\n        \"samples\": [\n          203.739033144817\n        ],\n        \"semantic_type\": \"\",\n        \"description\": \"\"\n      }\n    }\n  ]\n}"
            }
          },
          "metadata": {},
          "execution_count": 44
        }
      ],
      "source": [
        "average_times_df_opt_4 = {\n",
        "    \"BG_avg_execution_time\": df_opt_4_all[\"execution_time(minutes)_BG\"].mean(),\n",
        "    \"JN_avg_execution_time\": df_opt_4_all[\"execution_time(minutes)_JN\"].mean(),\n",
        "    \"PS_60s_avg_execution_time\": df_opt_4_all[\"execution_time(minutes)_PS_60s\"].mean(),\n",
        "    \"PS_notimeout_avg_execution_time\": df_opt_4_all[\"execution_time(minutes)_PS_notimeout\"].mean(),\n",
        "    \"S_60s_avg_execution_time\": df_opt_4_all[\"execution_time(minutes)_S_60s\"].mean(),\n",
        "    \"S_notimeout_avg_execution_time\": df_opt_4_all[\"execution_time(minutes)_S_notimeout\"].mean()\n",
        "}\n",
        "OPT_4 = pd.DataFrame(average_times_df_opt_4, index=[0])\n",
        "OPT_4 = OPT_4*60\n",
        "OPT_4.head()"
      ]
    },
    {
      "cell_type": "markdown",
      "metadata": {
        "id": "70XRXC30xMcB"
      },
      "source": [
        "### commpare over in space between SaGe and Passage"
      ]
    },
    {
      "cell_type": "code",
      "execution_count": null,
      "metadata": {
        "id": "Z2msjv8cxQiX"
      },
      "outputs": [],
      "source": [
        "ps_mul_1_1 = pd.read_csv(\"/content/drive/MyDrive/Continuation Queries/report_query/report-wdbench-mul-1-r1.csv\",delimiter=\",\")\n",
        "ps_mul_1_2 = pd.read_csv(\"/content/drive/MyDrive/Continuation Queries/report_query/report-wdbench-mul-1-r2.csv\",delimiter=\",\")\n",
        "ps_mul_1_3 = pd.read_csv(\"/content/drive/MyDrive/Continuation Queries/report_query/report-wdbench-mul-1-r3.csv\",delimiter=\",\")\n",
        "ps_mul_4_1 = pd.read_csv(\"/content/drive/MyDrive/Continuation Queries/report_query/report-wdbench-mul-4-r1.csv\",delimiter=\",\")\n",
        "ps_mul_4_2 = pd.read_csv(\"/content/drive/MyDrive/Continuation Queries/report_query/report-wdbench-mul-4-r2.csv\",delimiter=\",\")\n",
        "ps_mul_4_3 = pd.read_csv(\"/content/drive/MyDrive/Continuation Queries/report_query/report-wdbench-mul-4-r3.csv\",delimiter=\",\")\n",
        "ps_opt_1_1 = pd.read_csv(\"/content/drive/MyDrive/Continuation Queries/report_query/report-wdbench-opt-1-r1.csv\",delimiter=\",\")\n",
        "ps_opt_1_2 = pd.read_csv(\"/content/drive/MyDrive/Continuation Queries/report_query/report-wdbench-opt-1-r2.csv\",delimiter=\",\")\n",
        "ps_opt_1_3 = pd.read_csv(\"/content/drive/MyDrive/Continuation Queries/report_query/report-wdbench-opt-1-r3.csv\",delimiter=\",\")\n",
        "ps_opt_4_1 = pd.read_csv(\"/content/drive/MyDrive/Continuation Queries/report_query/report-wdbench-opt-4-r1.csv\",delimiter=\",\")\n",
        "ps_opt_4_2 = pd.read_csv(\"/content/drive/MyDrive/Continuation Queries/report_query/report-wdbench-opt-4-r2.csv\",delimiter=\",\")\n",
        "ps_opt_4_3 = pd.read_csv(\"/content/drive/MyDrive/Continuation Queries/report_query/report-wdbench-opt-4-r3.csv\",delimiter=\",\")"
      ]
    },
    {
      "cell_type": "code",
      "execution_count": null,
      "metadata": {
        "id": "4JIS-GxTynhk"
      },
      "outputs": [],
      "source": [
        "ps_mul_1_1['run'] = 'run_1'\n",
        "ps_mul_1_2['run'] = 'run_2'\n",
        "ps_mul_1_3['run'] = 'run_3'\n",
        "ps_mul_4_1['run'] = 'run_1'\n",
        "ps_mul_4_2['run'] = 'run_2'\n",
        "ps_mul_4_3['run'] = 'run_3'\n",
        "ps_mul_1_1['cpus'] = '1-cpus'\n",
        "ps_mul_1_2['cpus'] = '1-cpus'\n",
        "ps_mul_1_3['cpus'] = '1-cpus'\n",
        "ps_mul_4_1['cpus'] = '4-cpus'\n",
        "ps_mul_4_2['cpus'] = '4-cpus'\n",
        "ps_mul_4_3['cpus'] = '4-cpus'"
      ]
    },
    {
      "cell_type": "code",
      "execution_count": null,
      "metadata": {
        "id": "NiMDkxpQzUc2"
      },
      "outputs": [],
      "source": [
        "ps_opt_1_1['run'] = 'run_1'\n",
        "ps_opt_1_2['run'] = 'run_2'\n",
        "ps_opt_1_3['run'] = 'run_3'\n",
        "ps_opt_4_1['run'] = 'run_1'\n",
        "ps_opt_4_2['run'] = 'run_2'\n",
        "ps_opt_4_3['run'] = 'run_3'\n",
        "ps_opt_1_1['cpus'] = '1-cpus'\n",
        "ps_opt_1_2['cpus'] = '1-cpus'\n",
        "ps_opt_1_3['cpus'] = '1-cpus'\n",
        "ps_opt_4_1['cpus'] = '4-cpus'\n",
        "ps_opt_4_2['cpus'] = '4-cpus'\n",
        "ps_opt_4_3['cpus'] = '4-cpus'"
      ]
    },
    {
      "cell_type": "code",
      "execution_count": null,
      "metadata": {
        "id": "_syNRBdVzMT2"
      },
      "outputs": [],
      "source": [
        "ps_mul_1 = pd.concat([ps_mul_1_1, ps_mul_1_2, ps_mul_1_3], ignore_index=True)\n",
        "ps_mul_4 = pd.concat([ps_mul_4_1, ps_mul_4_2, ps_mul_4_3], ignore_index=True)\n",
        "ps_opt_1 = pd.concat([ps_opt_1_1, ps_opt_1_2, ps_opt_1_3], ignore_index=True)\n",
        "ps_opt_4 = pd.concat([ps_opt_4_1, ps_opt_4_2, ps_opt_4_3], ignore_index=True)"
      ]
    },
    {
      "cell_type": "code",
      "execution_count": null,
      "metadata": {
        "id": "3cMQd7eMHTT5"
      },
      "outputs": [],
      "source": [
        "# filter out query exclude\n",
        "ps_opt_1 = ps_opt_1[~ps_opt_1['query_name'].isin(queries_to_exclude)]\n",
        "ps_opt_1 = ps_opt_1.reset_index(drop=True)\n",
        "ps_opt_4 = ps_opt_4[~ps_opt_4['query_name'].isin(queries_to_exclude)]\n",
        "ps_opt_4 = ps_opt_4.reset_index(drop=True)\n"
      ]
    },
    {
      "cell_type": "code",
      "execution_count": null,
      "metadata": {
        "id": "km1peUl6_LiK"
      },
      "outputs": [],
      "source": [
        "def non_zero_mean(df):\n",
        "  non_zero_df = df[df[\"sum_continuation_queries_size\"] != 0]\n",
        "  return non_zero_df"
      ]
    },
    {
      "cell_type": "code",
      "execution_count": null,
      "metadata": {
        "id": "b-z4rF7YzeAr"
      },
      "outputs": [],
      "source": [
        "ps_mul_1 = non_zero_mean(ps_mul_1)\n",
        "ps_mul_4 = non_zero_mean(ps_mul_4)\n",
        "ps_opt_1 = non_zero_mean(ps_opt_1)\n",
        "ps_opt_4 = non_zero_mean(ps_opt_4)\n"
      ]
    },
    {
      "cell_type": "code",
      "execution_count": null,
      "metadata": {
        "colab": {
          "base_uri": "https://localhost:8080/"
        },
        "id": "9s1BCHCp_h67",
        "outputId": "f89dbc49-8080-4f84-e7ad-81eccb748ffa"
      },
      "outputs": [
        {
          "output_type": "execute_result",
          "data": {
            "text/plain": [
              "0.821111111111111"
            ]
          },
          "metadata": {},
          "execution_count": 53
        }
      ],
      "source": [
        "ps_mul_1.groupby('query_name')['sum_continuation_queries_size'].mean().mean()"
      ]
    },
    {
      "cell_type": "code",
      "execution_count": null,
      "metadata": {
        "colab": {
          "base_uri": "https://localhost:8080/"
        },
        "id": "HV9VRlwZjFwh",
        "outputId": "257b46bb-6e30-4b4c-cb88-8dc432d36f6a"
      },
      "outputs": [
        {
          "output_type": "execute_result",
          "data": {
            "text/plain": [
              "1.492063492063492"
            ]
          },
          "metadata": {},
          "execution_count": 54
        }
      ],
      "source": [
        "ps_mul_1.groupby('query_name')['nb_continuation_queries'].mean().mean()"
      ]
    },
    {
      "cell_type": "code",
      "execution_count": null,
      "metadata": {
        "colab": {
          "base_uri": "https://localhost:8080/"
        },
        "id": "vVZC1AeGzf4p",
        "outputId": "ecf5560c-dff6-4ed8-9167-0f1a50e5ed2b"
      },
      "outputs": [
        {
          "output_type": "execute_result",
          "data": {
            "text/plain": [
              "0.7795121951219512"
            ]
          },
          "metadata": {},
          "execution_count": 55
        }
      ],
      "source": [
        "ps_mul_4.groupby('query_name')['sum_continuation_queries_size'].mean().mean()"
      ]
    },
    {
      "cell_type": "code",
      "execution_count": null,
      "metadata": {
        "colab": {
          "base_uri": "https://localhost:8080/"
        },
        "id": "VZ9_MmmykTPd",
        "outputId": "0cfb7440-f04e-4fcf-b985-29217b963095"
      },
      "outputs": [
        {
          "output_type": "execute_result",
          "data": {
            "text/plain": [
              "1.3902439024390243"
            ]
          },
          "metadata": {},
          "execution_count": 56
        }
      ],
      "source": [
        "ps_mul_4.groupby('query_name')['nb_continuation_queries'].mean().mean()"
      ]
    },
    {
      "cell_type": "code",
      "execution_count": null,
      "metadata": {
        "colab": {
          "base_uri": "https://localhost:8080/"
        },
        "id": "WWPPf0sw48-w",
        "outputId": "29fc2efa-9ee4-42bc-e888-c403064ac17e"
      },
      "outputs": [
        {
          "output_type": "execute_result",
          "data": {
            "text/plain": [
              "0.8266666666666667"
            ]
          },
          "metadata": {},
          "execution_count": 57
        }
      ],
      "source": [
        "ps_opt_1.groupby('query_name')['sum_continuation_queries_size'].mean().mean()"
      ]
    },
    {
      "cell_type": "code",
      "execution_count": null,
      "metadata": {
        "colab": {
          "base_uri": "https://localhost:8080/"
        },
        "id": "ppc4Ru6ZkYb0",
        "outputId": "ad5c9d68-4f8e-489f-8e63-4789e2843cad"
      },
      "outputs": [
        {
          "output_type": "execute_result",
          "data": {
            "text/plain": [
              "1.5555555555555556"
            ]
          },
          "metadata": {},
          "execution_count": 58
        }
      ],
      "source": [
        "ps_opt_1.groupby('query_name')['nb_continuation_queries'].mean().mean()"
      ]
    },
    {
      "cell_type": "code",
      "execution_count": null,
      "metadata": {
        "colab": {
          "base_uri": "https://localhost:8080/"
        },
        "id": "ODv7cV3I5AhF",
        "outputId": "a9e2787c-bb9a-416b-9c9f-6da71fbc4e0e"
      },
      "outputs": [
        {
          "output_type": "execute_result",
          "data": {
            "text/plain": [
              "0.6487179487179487"
            ]
          },
          "metadata": {},
          "execution_count": 59
        }
      ],
      "source": [
        "ps_opt_4.groupby('query_name')['sum_continuation_queries_size'].mean().mean()"
      ]
    },
    {
      "cell_type": "code",
      "execution_count": null,
      "metadata": {
        "colab": {
          "base_uri": "https://localhost:8080/"
        },
        "id": "Mq4jV8rHkd_W",
        "outputId": "db3ddf3e-e45f-4717-f5d0-3da2b5eb7792"
      },
      "outputs": [
        {
          "output_type": "execute_result",
          "data": {
            "text/plain": [
              "1.3717948717948718"
            ]
          },
          "metadata": {},
          "execution_count": 60
        }
      ],
      "source": [
        "ps_opt_4.groupby('query_name')['nb_continuation_queries'].mean().mean()"
      ]
    },
    {
      "cell_type": "code",
      "execution_count": null,
      "metadata": {
        "id": "mpWwyTZH5BtC"
      },
      "outputs": [],
      "source": [
        "S_mul_60s = S_mul[S_mul['timeout'] == 60000]\n",
        "S_opt_60s = S_opt[S_opt['timeout'] == 60000]\n",
        "S_mul_60s_1 = S_mul_60s[S_mul_60s['cpus'] == '1-cpus']\n",
        "S_mul_60s_4 = S_mul_60s[S_mul_60s['cpus'] == '4-cpus']\n",
        "S_opt_60s_1 = S_opt_60s[S_opt_60s['cpus'] == '1-cpus']\n",
        "S_opt_60s_4 = S_opt_60s[S_opt_60s['cpus'] == '4-cpus']"
      ]
    },
    {
      "cell_type": "code",
      "execution_count": null,
      "metadata": {
        "id": "EU_5HvycHim2"
      },
      "outputs": [],
      "source": [
        "#filter out query\n",
        "S_opt_60s_1 = S_opt_60s_1[~S_opt_60s_1['query_name'].isin(queries_to_exclude)]\n",
        "S_opt_60s_1 = S_opt_60s_1.reset_index(drop=True)\n",
        "S_opt_60s_4 = S_opt_60s_4[~S_opt_60s_4['query_name'].isin(queries_to_exclude)]\n",
        "S_opt_60s_4 = S_opt_60s_4.reset_index(drop=True)"
      ]
    },
    {
      "cell_type": "code",
      "execution_count": null,
      "metadata": {
        "colab": {
          "base_uri": "https://localhost:8080/"
        },
        "id": "NKrATxIx6EgQ",
        "outputId": "a175031f-9ee0-4d8e-9b15-a5538a1dd42c"
      },
      "outputs": [
        {
          "output_type": "execute_result",
          "data": {
            "text/plain": [
              "(124, 7)"
            ]
          },
          "metadata": {},
          "execution_count": 63
        }
      ],
      "source": [
        "ps_mul_1.shape"
      ]
    },
    {
      "cell_type": "code",
      "execution_count": null,
      "metadata": {
        "id": "BmuS_LrpH2yW"
      },
      "outputs": [],
      "source": [
        "\n",
        "#filter zero\n",
        "S_mul_60s_1 = S_mul_60s_1[S_mul_60s_1[\"next_size(kb)\"] != 0]\n",
        "S_mul_60s_4 = S_mul_60s_4[S_mul_60s_4[\"next_size(kb)\"] != 0]\n",
        "S_opt_60s_1 = S_opt_60s_1[S_opt_60s_1[\"next_size(kb)\"] != 0]\n",
        "S_opt_60s_4 = S_opt_60s_4[S_opt_60s_4[\"next_size(kb)\"] != 0]"
      ]
    },
    {
      "cell_type": "code",
      "execution_count": null,
      "metadata": {
        "colab": {
          "base_uri": "https://localhost:8080/"
        },
        "id": "VTuNFWFl6CAL",
        "outputId": "c7d04400-a65e-4bfb-8f13-9bb65390d881"
      },
      "outputs": [
        {
          "output_type": "execute_result",
          "data": {
            "text/plain": [
              "(147, 8)"
            ]
          },
          "metadata": {},
          "execution_count": 65
        }
      ],
      "source": [
        "S_mul_60s_1.shape"
      ]
    },
    {
      "cell_type": "code",
      "execution_count": null,
      "metadata": {
        "id": "fjImlprcnB8d"
      },
      "outputs": [],
      "source": [
        "S_mul_60s_1['space'] = S_mul_60s_1.apply(lambda row: row['next_size(kb)'] / (row['nb_quantum'] - 1) if row['nb_quantum'] != 1 else row['next_size(kb)'], axis=1)\n",
        "S_opt_60s_1['space'] = S_opt_60s_1.apply(lambda row: row['next_size(kb)'] / (row['nb_quantum'] - 1) if row['nb_quantum'] != 1 else row['next_size(kb)'], axis=1)\n",
        "S_mul_60s_4['space'] = S_mul_60s_4.apply(lambda row: row['next_size(kb)'] / (row['nb_quantum'] - 1) if row['nb_quantum'] != 1 else row['next_size(kb)'], axis=1)\n",
        "S_opt_60s_4['space'] = S_opt_60s_4.apply(lambda row: row['next_size(kb)'] / (row['nb_quantum'] - 1) if row['nb_quantum'] != 1 else row['next_size(kb)'], axis=1)"
      ]
    },
    {
      "cell_type": "code",
      "execution_count": null,
      "metadata": {
        "colab": {
          "base_uri": "https://localhost:8080/",
          "height": 143
        },
        "id": "kAvyB7x1n9jr",
        "outputId": "83a29445-5f4b-4c2d-9a89-ceec745a6995"
      },
      "outputs": [
        {
          "output_type": "execute_result",
          "data": {
            "text/plain": [
              "    query_name  timeout    run    cpus  nb_quantum  next_size(kb)  \\\n",
              "204  query_289    60000  run_1  1-cpus           1       0.015625   \n",
              "206  query_289    60000  run_2  1-cpus           1       0.015625   \n",
              "208  query_289    60000  run_3  1-cpus           1       0.015625   \n",
              "\n",
              "     execution_time(minutes)  nb_triples     space  \n",
              "204                 0.660255           2  0.015625  \n",
              "206                 0.682052           2  0.015625  \n",
              "208                 0.651087           2  0.015625  "
            ],
            "text/html": [
              "\n",
              "  <div id=\"df-b7cf2677-5dbe-4548-90c1-cf4ad73a9ed7\" class=\"colab-df-container\">\n",
              "    <div>\n",
              "<style scoped>\n",
              "    .dataframe tbody tr th:only-of-type {\n",
              "        vertical-align: middle;\n",
              "    }\n",
              "\n",
              "    .dataframe tbody tr th {\n",
              "        vertical-align: top;\n",
              "    }\n",
              "\n",
              "    .dataframe thead th {\n",
              "        text-align: right;\n",
              "    }\n",
              "</style>\n",
              "<table border=\"1\" class=\"dataframe\">\n",
              "  <thead>\n",
              "    <tr style=\"text-align: right;\">\n",
              "      <th></th>\n",
              "      <th>query_name</th>\n",
              "      <th>timeout</th>\n",
              "      <th>run</th>\n",
              "      <th>cpus</th>\n",
              "      <th>nb_quantum</th>\n",
              "      <th>next_size(kb)</th>\n",
              "      <th>execution_time(minutes)</th>\n",
              "      <th>nb_triples</th>\n",
              "      <th>space</th>\n",
              "    </tr>\n",
              "  </thead>\n",
              "  <tbody>\n",
              "    <tr>\n",
              "      <th>204</th>\n",
              "      <td>query_289</td>\n",
              "      <td>60000</td>\n",
              "      <td>run_1</td>\n",
              "      <td>1-cpus</td>\n",
              "      <td>1</td>\n",
              "      <td>0.015625</td>\n",
              "      <td>0.660255</td>\n",
              "      <td>2</td>\n",
              "      <td>0.015625</td>\n",
              "    </tr>\n",
              "    <tr>\n",
              "      <th>206</th>\n",
              "      <td>query_289</td>\n",
              "      <td>60000</td>\n",
              "      <td>run_2</td>\n",
              "      <td>1-cpus</td>\n",
              "      <td>1</td>\n",
              "      <td>0.015625</td>\n",
              "      <td>0.682052</td>\n",
              "      <td>2</td>\n",
              "      <td>0.015625</td>\n",
              "    </tr>\n",
              "    <tr>\n",
              "      <th>208</th>\n",
              "      <td>query_289</td>\n",
              "      <td>60000</td>\n",
              "      <td>run_3</td>\n",
              "      <td>1-cpus</td>\n",
              "      <td>1</td>\n",
              "      <td>0.015625</td>\n",
              "      <td>0.651087</td>\n",
              "      <td>2</td>\n",
              "      <td>0.015625</td>\n",
              "    </tr>\n",
              "  </tbody>\n",
              "</table>\n",
              "</div>\n",
              "    <div class=\"colab-df-buttons\">\n",
              "\n",
              "  <div class=\"colab-df-container\">\n",
              "    <button class=\"colab-df-convert\" onclick=\"convertToInteractive('df-b7cf2677-5dbe-4548-90c1-cf4ad73a9ed7')\"\n",
              "            title=\"Convert this dataframe to an interactive table.\"\n",
              "            style=\"display:none;\">\n",
              "\n",
              "  <svg xmlns=\"http://www.w3.org/2000/svg\" height=\"24px\" viewBox=\"0 -960 960 960\">\n",
              "    <path d=\"M120-120v-720h720v720H120Zm60-500h600v-160H180v160Zm220 220h160v-160H400v160Zm0 220h160v-160H400v160ZM180-400h160v-160H180v160Zm440 0h160v-160H620v160ZM180-180h160v-160H180v160Zm440 0h160v-160H620v160Z\"/>\n",
              "  </svg>\n",
              "    </button>\n",
              "\n",
              "  <style>\n",
              "    .colab-df-container {\n",
              "      display:flex;\n",
              "      gap: 12px;\n",
              "    }\n",
              "\n",
              "    .colab-df-convert {\n",
              "      background-color: #E8F0FE;\n",
              "      border: none;\n",
              "      border-radius: 50%;\n",
              "      cursor: pointer;\n",
              "      display: none;\n",
              "      fill: #1967D2;\n",
              "      height: 32px;\n",
              "      padding: 0 0 0 0;\n",
              "      width: 32px;\n",
              "    }\n",
              "\n",
              "    .colab-df-convert:hover {\n",
              "      background-color: #E2EBFA;\n",
              "      box-shadow: 0px 1px 2px rgba(60, 64, 67, 0.3), 0px 1px 3px 1px rgba(60, 64, 67, 0.15);\n",
              "      fill: #174EA6;\n",
              "    }\n",
              "\n",
              "    .colab-df-buttons div {\n",
              "      margin-bottom: 4px;\n",
              "    }\n",
              "\n",
              "    [theme=dark] .colab-df-convert {\n",
              "      background-color: #3B4455;\n",
              "      fill: #D2E3FC;\n",
              "    }\n",
              "\n",
              "    [theme=dark] .colab-df-convert:hover {\n",
              "      background-color: #434B5C;\n",
              "      box-shadow: 0px 1px 3px 1px rgba(0, 0, 0, 0.15);\n",
              "      filter: drop-shadow(0px 1px 2px rgba(0, 0, 0, 0.3));\n",
              "      fill: #FFFFFF;\n",
              "    }\n",
              "  </style>\n",
              "\n",
              "    <script>\n",
              "      const buttonEl =\n",
              "        document.querySelector('#df-b7cf2677-5dbe-4548-90c1-cf4ad73a9ed7 button.colab-df-convert');\n",
              "      buttonEl.style.display =\n",
              "        google.colab.kernel.accessAllowed ? 'block' : 'none';\n",
              "\n",
              "      async function convertToInteractive(key) {\n",
              "        const element = document.querySelector('#df-b7cf2677-5dbe-4548-90c1-cf4ad73a9ed7');\n",
              "        const dataTable =\n",
              "          await google.colab.kernel.invokeFunction('convertToInteractive',\n",
              "                                                    [key], {});\n",
              "        if (!dataTable) return;\n",
              "\n",
              "        const docLinkHtml = 'Like what you see? Visit the ' +\n",
              "          '<a target=\"_blank\" href=https://colab.research.google.com/notebooks/data_table.ipynb>data table notebook</a>'\n",
              "          + ' to learn more about interactive tables.';\n",
              "        element.innerHTML = '';\n",
              "        dataTable['output_type'] = 'display_data';\n",
              "        await google.colab.output.renderOutput(dataTable, element);\n",
              "        const docLink = document.createElement('div');\n",
              "        docLink.innerHTML = docLinkHtml;\n",
              "        element.appendChild(docLink);\n",
              "      }\n",
              "    </script>\n",
              "  </div>\n",
              "\n",
              "\n",
              "<div id=\"df-28d287f1-41ec-4e2c-af14-3dddcb5f6a9f\">\n",
              "  <button class=\"colab-df-quickchart\" onclick=\"quickchart('df-28d287f1-41ec-4e2c-af14-3dddcb5f6a9f')\"\n",
              "            title=\"Suggest charts\"\n",
              "            style=\"display:none;\">\n",
              "\n",
              "<svg xmlns=\"http://www.w3.org/2000/svg\" height=\"24px\"viewBox=\"0 0 24 24\"\n",
              "     width=\"24px\">\n",
              "    <g>\n",
              "        <path d=\"M19 3H5c-1.1 0-2 .9-2 2v14c0 1.1.9 2 2 2h14c1.1 0 2-.9 2-2V5c0-1.1-.9-2-2-2zM9 17H7v-7h2v7zm4 0h-2V7h2v10zm4 0h-2v-4h2v4z\"/>\n",
              "    </g>\n",
              "</svg>\n",
              "  </button>\n",
              "\n",
              "<style>\n",
              "  .colab-df-quickchart {\n",
              "      --bg-color: #E8F0FE;\n",
              "      --fill-color: #1967D2;\n",
              "      --hover-bg-color: #E2EBFA;\n",
              "      --hover-fill-color: #174EA6;\n",
              "      --disabled-fill-color: #AAA;\n",
              "      --disabled-bg-color: #DDD;\n",
              "  }\n",
              "\n",
              "  [theme=dark] .colab-df-quickchart {\n",
              "      --bg-color: #3B4455;\n",
              "      --fill-color: #D2E3FC;\n",
              "      --hover-bg-color: #434B5C;\n",
              "      --hover-fill-color: #FFFFFF;\n",
              "      --disabled-bg-color: #3B4455;\n",
              "      --disabled-fill-color: #666;\n",
              "  }\n",
              "\n",
              "  .colab-df-quickchart {\n",
              "    background-color: var(--bg-color);\n",
              "    border: none;\n",
              "    border-radius: 50%;\n",
              "    cursor: pointer;\n",
              "    display: none;\n",
              "    fill: var(--fill-color);\n",
              "    height: 32px;\n",
              "    padding: 0;\n",
              "    width: 32px;\n",
              "  }\n",
              "\n",
              "  .colab-df-quickchart:hover {\n",
              "    background-color: var(--hover-bg-color);\n",
              "    box-shadow: 0 1px 2px rgba(60, 64, 67, 0.3), 0 1px 3px 1px rgba(60, 64, 67, 0.15);\n",
              "    fill: var(--button-hover-fill-color);\n",
              "  }\n",
              "\n",
              "  .colab-df-quickchart-complete:disabled,\n",
              "  .colab-df-quickchart-complete:disabled:hover {\n",
              "    background-color: var(--disabled-bg-color);\n",
              "    fill: var(--disabled-fill-color);\n",
              "    box-shadow: none;\n",
              "  }\n",
              "\n",
              "  .colab-df-spinner {\n",
              "    border: 2px solid var(--fill-color);\n",
              "    border-color: transparent;\n",
              "    border-bottom-color: var(--fill-color);\n",
              "    animation:\n",
              "      spin 1s steps(1) infinite;\n",
              "  }\n",
              "\n",
              "  @keyframes spin {\n",
              "    0% {\n",
              "      border-color: transparent;\n",
              "      border-bottom-color: var(--fill-color);\n",
              "      border-left-color: var(--fill-color);\n",
              "    }\n",
              "    20% {\n",
              "      border-color: transparent;\n",
              "      border-left-color: var(--fill-color);\n",
              "      border-top-color: var(--fill-color);\n",
              "    }\n",
              "    30% {\n",
              "      border-color: transparent;\n",
              "      border-left-color: var(--fill-color);\n",
              "      border-top-color: var(--fill-color);\n",
              "      border-right-color: var(--fill-color);\n",
              "    }\n",
              "    40% {\n",
              "      border-color: transparent;\n",
              "      border-right-color: var(--fill-color);\n",
              "      border-top-color: var(--fill-color);\n",
              "    }\n",
              "    60% {\n",
              "      border-color: transparent;\n",
              "      border-right-color: var(--fill-color);\n",
              "    }\n",
              "    80% {\n",
              "      border-color: transparent;\n",
              "      border-right-color: var(--fill-color);\n",
              "      border-bottom-color: var(--fill-color);\n",
              "    }\n",
              "    90% {\n",
              "      border-color: transparent;\n",
              "      border-bottom-color: var(--fill-color);\n",
              "    }\n",
              "  }\n",
              "</style>\n",
              "\n",
              "  <script>\n",
              "    async function quickchart(key) {\n",
              "      const quickchartButtonEl =\n",
              "        document.querySelector('#' + key + ' button');\n",
              "      quickchartButtonEl.disabled = true;  // To prevent multiple clicks.\n",
              "      quickchartButtonEl.classList.add('colab-df-spinner');\n",
              "      try {\n",
              "        const charts = await google.colab.kernel.invokeFunction(\n",
              "            'suggestCharts', [key], {});\n",
              "      } catch (error) {\n",
              "        console.error('Error during call to suggestCharts:', error);\n",
              "      }\n",
              "      quickchartButtonEl.classList.remove('colab-df-spinner');\n",
              "      quickchartButtonEl.classList.add('colab-df-quickchart-complete');\n",
              "    }\n",
              "    (() => {\n",
              "      let quickchartButtonEl =\n",
              "        document.querySelector('#df-28d287f1-41ec-4e2c-af14-3dddcb5f6a9f button');\n",
              "      quickchartButtonEl.style.display =\n",
              "        google.colab.kernel.accessAllowed ? 'block' : 'none';\n",
              "    })();\n",
              "  </script>\n",
              "</div>\n",
              "\n",
              "    </div>\n",
              "  </div>\n"
            ],
            "application/vnd.google.colaboratory.intrinsic+json": {
              "type": "dataframe",
              "summary": "{\n  \"name\": \"S_mul_60s_1[S_mul_60s_1['query_name'] == 'query_289']\",\n  \"rows\": 3,\n  \"fields\": [\n    {\n      \"column\": \"query_name\",\n      \"properties\": {\n        \"dtype\": \"category\",\n        \"num_unique_values\": 1,\n        \"samples\": [\n          \"query_289\"\n        ],\n        \"semantic_type\": \"\",\n        \"description\": \"\"\n      }\n    },\n    {\n      \"column\": \"timeout\",\n      \"properties\": {\n        \"dtype\": \"number\",\n        \"std\": 0,\n        \"min\": 60000,\n        \"max\": 60000,\n        \"num_unique_values\": 1,\n        \"samples\": [\n          60000\n        ],\n        \"semantic_type\": \"\",\n        \"description\": \"\"\n      }\n    },\n    {\n      \"column\": \"run\",\n      \"properties\": {\n        \"dtype\": \"string\",\n        \"num_unique_values\": 3,\n        \"samples\": [\n          \"run_1\"\n        ],\n        \"semantic_type\": \"\",\n        \"description\": \"\"\n      }\n    },\n    {\n      \"column\": \"cpus\",\n      \"properties\": {\n        \"dtype\": \"category\",\n        \"num_unique_values\": 1,\n        \"samples\": [\n          \"1-cpus\"\n        ],\n        \"semantic_type\": \"\",\n        \"description\": \"\"\n      }\n    },\n    {\n      \"column\": \"nb_quantum\",\n      \"properties\": {\n        \"dtype\": \"number\",\n        \"std\": 0,\n        \"min\": 1,\n        \"max\": 1,\n        \"num_unique_values\": 1,\n        \"samples\": [\n          1\n        ],\n        \"semantic_type\": \"\",\n        \"description\": \"\"\n      }\n    },\n    {\n      \"column\": \"next_size(kb)\",\n      \"properties\": {\n        \"dtype\": \"number\",\n        \"std\": 0.0,\n        \"min\": 0.015625,\n        \"max\": 0.015625,\n        \"num_unique_values\": 1,\n        \"samples\": [\n          0.015625\n        ],\n        \"semantic_type\": \"\",\n        \"description\": \"\"\n      }\n    },\n    {\n      \"column\": \"execution_time(minutes)\",\n      \"properties\": {\n        \"dtype\": \"number\",\n        \"std\": 0.015905722570144165,\n        \"min\": 0.6510870695114136,\n        \"max\": 0.6820516983668009,\n        \"num_unique_values\": 3,\n        \"samples\": [\n          0.6602551261583964\n        ],\n        \"semantic_type\": \"\",\n        \"description\": \"\"\n      }\n    },\n    {\n      \"column\": \"nb_triples\",\n      \"properties\": {\n        \"dtype\": \"number\",\n        \"std\": 0,\n        \"min\": 2,\n        \"max\": 2,\n        \"num_unique_values\": 1,\n        \"samples\": [\n          2\n        ],\n        \"semantic_type\": \"\",\n        \"description\": \"\"\n      }\n    },\n    {\n      \"column\": \"space\",\n      \"properties\": {\n        \"dtype\": \"number\",\n        \"std\": 0.0,\n        \"min\": 0.015625,\n        \"max\": 0.015625,\n        \"num_unique_values\": 1,\n        \"samples\": [\n          0.015625\n        ],\n        \"semantic_type\": \"\",\n        \"description\": \"\"\n      }\n    }\n  ]\n}"
            }
          },
          "metadata": {},
          "execution_count": 67
        }
      ],
      "source": [
        "#check at query\n",
        "S_mul_60s_1[S_mul_60s_1['query_name'] == 'query_289']"
      ]
    },
    {
      "cell_type": "code",
      "execution_count": null,
      "metadata": {
        "colab": {
          "base_uri": "https://localhost:8080/"
        },
        "id": "FMfKu2O35jin",
        "outputId": "d11e43ba-a9b1-4939-92ea-2aea1c6a35a4"
      },
      "outputs": [
        {
          "output_type": "execute_result",
          "data": {
            "text/plain": [
              "1.1824651659380083"
            ]
          },
          "metadata": {},
          "execution_count": 68
        }
      ],
      "source": [
        "S_mul_60s_1.groupby('query_name')['space'].mean().mean()"
      ]
    },
    {
      "cell_type": "code",
      "execution_count": null,
      "metadata": {
        "colab": {
          "base_uri": "https://localhost:8080/"
        },
        "id": "vm-1-42U5qN8",
        "outputId": "8bcac0a6-78c4-473a-ca0c-41fa77ab40e6"
      },
      "outputs": [
        {
          "output_type": "execute_result",
          "data": {
            "text/plain": [
              "1.1646589805623035"
            ]
          },
          "metadata": {},
          "execution_count": 69
        }
      ],
      "source": [
        "S_mul_60s_4.groupby('query_name')['space'].mean().mean()"
      ]
    },
    {
      "cell_type": "code",
      "execution_count": null,
      "metadata": {
        "colab": {
          "base_uri": "https://localhost:8080/"
        },
        "id": "Tu43fXq85r08",
        "outputId": "c75d5b2e-2a9e-415e-e782-81235b61f08b"
      },
      "outputs": [
        {
          "output_type": "execute_result",
          "data": {
            "text/plain": [
              "1.9271752786915204"
            ]
          },
          "metadata": {},
          "execution_count": 70
        }
      ],
      "source": [
        "S_opt_60s_1.groupby('query_name')['space'].mean().mean()"
      ]
    },
    {
      "cell_type": "code",
      "execution_count": null,
      "metadata": {
        "colab": {
          "base_uri": "https://localhost:8080/"
        },
        "id": "hHnhNOXH53kq",
        "outputId": "1fb0620c-1d4e-4b1f-dcee-26a52e48997f"
      },
      "outputs": [
        {
          "output_type": "execute_result",
          "data": {
            "text/plain": [
              "1.9184726954104012"
            ]
          },
          "metadata": {},
          "execution_count": 71
        }
      ],
      "source": [
        "S_opt_60s_4.groupby('query_name')['space'].mean().mean()\n"
      ]
    },
    {
      "cell_type": "code",
      "execution_count": null,
      "metadata": {
        "id": "cy_G4qZAlHTg"
      },
      "outputs": [],
      "source": [
        "S_mul_60s_1[\"nb_qt\"] = S_mul_60s_1.apply(lambda row: row['nb_quantum'] - 1 if row['nb_quantum'] != 1 else 1, axis=1)\n",
        "S_opt_60s_1[\"nb_qt\"] = S_opt_60s_1.apply(lambda row: row['nb_quantum'] - 1 if row['nb_quantum'] != 1 else 1, axis=1)\n",
        "S_mul_60s_4[\"nb_qt\"] = S_mul_60s_4.apply(lambda row: row['nb_quantum'] - 1 if row['nb_quantum'] != 1 else 1, axis=1)\n",
        "S_opt_60s_4[\"nb_qt\"] = S_opt_60s_4.apply(lambda row: row['nb_quantum'] - 1 if row['nb_quantum'] != 1 else 1, axis=1)\n"
      ]
    },
    {
      "cell_type": "code",
      "execution_count": null,
      "metadata": {
        "colab": {
          "base_uri": "https://localhost:8080/"
        },
        "id": "i80nPI1tlHQ1",
        "outputId": "1a87dfd9-0ce5-4c0c-85cb-df0c561510db"
      },
      "outputs": [
        {
          "output_type": "execute_result",
          "data": {
            "text/plain": [
              "5.1768707482993195"
            ]
          },
          "metadata": {},
          "execution_count": 73
        }
      ],
      "source": [
        "S_mul_60s_1.groupby('query_name')['nb_qt'].mean().mean()"
      ]
    },
    {
      "cell_type": "code",
      "execution_count": null,
      "metadata": {
        "colab": {
          "base_uri": "https://localhost:8080/"
        },
        "id": "pRX3phi0lHI1",
        "outputId": "d75ab744-32a2-4e32-b341-c70926efc244"
      },
      "outputs": [
        {
          "output_type": "execute_result",
          "data": {
            "text/plain": [
              "5.244897959183674"
            ]
          },
          "metadata": {},
          "execution_count": 74
        }
      ],
      "source": [
        "S_mul_60s_4.groupby('query_name')['nb_qt'].mean().mean()"
      ]
    },
    {
      "cell_type": "code",
      "execution_count": null,
      "metadata": {
        "colab": {
          "base_uri": "https://localhost:8080/"
        },
        "id": "6XtQ-hpBlsyj",
        "outputId": "e79cafb6-7555-41e7-f687-eb334821c774"
      },
      "outputs": [
        {
          "output_type": "execute_result",
          "data": {
            "text/plain": [
              "3.0701754385964914"
            ]
          },
          "metadata": {},
          "execution_count": 75
        }
      ],
      "source": [
        "S_opt_60s_1.groupby('query_name')['nb_qt'].mean().mean()"
      ]
    },
    {
      "cell_type": "code",
      "execution_count": null,
      "metadata": {
        "colab": {
          "base_uri": "https://localhost:8080/"
        },
        "id": "jqkk3Ft1lyXy",
        "outputId": "e31760a4-6b04-46e8-b930-c540b3d086c6"
      },
      "outputs": [
        {
          "output_type": "execute_result",
          "data": {
            "text/plain": [
              "3.096491228070175"
            ]
          },
          "metadata": {},
          "execution_count": 76
        }
      ],
      "source": [
        "S_opt_60s_4.groupby('query_name')['nb_qt'].mean().mean()"
      ]
    }
  ],
  "metadata": {
    "colab": {
      "provenance": []
    },
    "kernelspec": {
      "display_name": "Python 3",
      "name": "python3"
    },
    "language_info": {
      "name": "python"
    }
  },
  "nbformat": 4,
  "nbformat_minor": 0
}